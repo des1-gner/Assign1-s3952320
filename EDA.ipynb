{
 "cells": [
  {
   "cell_type": "code",
   "execution_count": 26,
   "id": "90ccab44-9172-4512-a84e-f68da22da828",
   "metadata": {},
   "outputs": [
    {
     "data": {
      "text/html": [
       "<div>\n",
       "<style scoped>\n",
       "    .dataframe tbody tr th:only-of-type {\n",
       "        vertical-align: middle;\n",
       "    }\n",
       "\n",
       "    .dataframe tbody tr th {\n",
       "        vertical-align: top;\n",
       "    }\n",
       "\n",
       "    .dataframe thead th {\n",
       "        text-align: right;\n",
       "    }\n",
       "</style>\n",
       "<table border=\"1\" class=\"dataframe\">\n",
       "  <thead>\n",
       "    <tr style=\"text-align: right;\">\n",
       "      <th></th>\n",
       "      <th>configNo</th>\n",
       "      <th>mazeSize</th>\n",
       "      <th>totalCells</th>\n",
       "      <th>totalArrayAverage</th>\n",
       "      <th>totalAdjacencyMatrixAverage</th>\n",
       "      <th>totalAdjacencyListAverage</th>\n",
       "    </tr>\n",
       "  </thead>\n",
       "  <tbody>\n",
       "    <tr>\n",
       "      <th>0</th>\n",
       "      <td>1</td>\n",
       "      <td>5x5</td>\n",
       "      <td>25</td>\n",
       "      <td>0.003</td>\n",
       "      <td>0.006</td>\n",
       "      <td>0.006</td>\n",
       "    </tr>\n",
       "    <tr>\n",
       "      <th>1</th>\n",
       "      <td>2</td>\n",
       "      <td>25x25</td>\n",
       "      <td>625</td>\n",
       "      <td>0.007</td>\n",
       "      <td>0.100</td>\n",
       "      <td>0.010</td>\n",
       "    </tr>\n",
       "    <tr>\n",
       "      <th>2</th>\n",
       "      <td>3</td>\n",
       "      <td>40x30</td>\n",
       "      <td>1200</td>\n",
       "      <td>0.010</td>\n",
       "      <td>0.260</td>\n",
       "      <td>0.020</td>\n",
       "    </tr>\n",
       "    <tr>\n",
       "      <th>3</th>\n",
       "      <td>4</td>\n",
       "      <td>30x40</td>\n",
       "      <td>1200</td>\n",
       "      <td>0.010</td>\n",
       "      <td>0.240</td>\n",
       "      <td>0.020</td>\n",
       "    </tr>\n",
       "    <tr>\n",
       "      <th>4</th>\n",
       "      <td>5</td>\n",
       "      <td>50x50</td>\n",
       "      <td>2500</td>\n",
       "      <td>0.030</td>\n",
       "      <td>1.000</td>\n",
       "      <td>0.050</td>\n",
       "    </tr>\n",
       "  </tbody>\n",
       "</table>\n",
       "</div>"
      ],
      "text/plain": [
       "   configNo mazeSize  totalCells  totalArrayAverage  \\\n",
       "0         1      5x5          25              0.003   \n",
       "1         2    25x25         625              0.007   \n",
       "2         3    40x30        1200              0.010   \n",
       "3         4    30x40        1200              0.010   \n",
       "4         5    50x50        2500              0.030   \n",
       "\n",
       "   totalAdjacencyMatrixAverage  totalAdjacencyListAverage  \n",
       "0                        0.006                      0.006  \n",
       "1                        0.100                      0.010  \n",
       "2                        0.260                      0.020  \n",
       "3                        0.240                      0.020  \n",
       "4                        1.000                      0.050  "
      ]
     },
     "execution_count": 26,
     "metadata": {},
     "output_type": "execute_result"
    }
   ],
   "source": [
    "import pandas as pd\n",
    "\n",
    "totalRuntimeAverageDF = pd.read_excel('dataGen/empiricalData.xlsx', sheet_name='totalRuntimeAverage')\n",
    "totalRuntimeAverageDF.head()"
   ]
  },
  {
   "cell_type": "code",
   "execution_count": 27,
   "id": "dc57f1da-0d83-41bd-ba49-af2be25514dd",
   "metadata": {},
   "outputs": [
    {
     "data": {
      "application/vnd.plotly.v1+json": {
       "config": {
        "plotlyServerURL": "https://plot.ly"
       },
       "data": [
        {
         "hovertemplate": "Data Structure=totalArrayAverage<br>totalCells=%{x}<br>Average Runtime (s)=%{y}<extra></extra>",
         "legendgroup": "totalArrayAverage",
         "marker": {
          "color": "#636efa",
          "symbol": "circle"
         },
         "mode": "markers",
         "name": "totalArrayAverage",
         "orientation": "v",
         "showlegend": true,
         "type": "scatter",
         "x": [
          25,
          625,
          1200,
          1200,
          2500,
          5625,
          10000
         ],
         "xaxis": "x",
         "y": [
          0.003,
          0.007,
          0.01,
          0.01,
          0.03,
          0.06,
          0.1
         ],
         "yaxis": "y"
        },
        {
         "hovertemplate": "Data Structure=totalAdjacencyMatrixAverage<br>totalCells=%{x}<br>Average Runtime (s)=%{y}<extra></extra>",
         "legendgroup": "totalAdjacencyMatrixAverage",
         "marker": {
          "color": "#EF553B",
          "symbol": "circle"
         },
         "mode": "markers",
         "name": "totalAdjacencyMatrixAverage",
         "orientation": "v",
         "showlegend": true,
         "type": "scatter",
         "x": [
          25,
          625,
          1200,
          1200,
          2500,
          5625,
          10000
         ],
         "xaxis": "x",
         "y": [
          0.006,
          0.1,
          0.26,
          0.24,
          1,
          4.6,
          14.2
         ],
         "yaxis": "y"
        },
        {
         "hovertemplate": "Data Structure=totalAdjacencyListAverage<br>totalCells=%{x}<br>Average Runtime (s)=%{y}<extra></extra>",
         "legendgroup": "totalAdjacencyListAverage",
         "marker": {
          "color": "#00cc96",
          "symbol": "circle"
         },
         "mode": "markers",
         "name": "totalAdjacencyListAverage",
         "orientation": "v",
         "showlegend": true,
         "type": "scatter",
         "x": [
          25,
          625,
          1200,
          1200,
          2500,
          5625,
          10000
         ],
         "xaxis": "x",
         "y": [
          0.006,
          0.01,
          0.02,
          0.02,
          0.05,
          0.1,
          0.2
         ],
         "yaxis": "y"
        },
        {
         "hovertemplate": "Data Structure=totalArrayAverage<br>totalCells=%{x}<br>Average Runtime (s)=%{y}<extra></extra>",
         "legendgroup": "totalArrayAverage",
         "line": {
          "color": "#636efa",
          "dash": "solid"
         },
         "marker": {
          "symbol": "circle"
         },
         "mode": "lines",
         "name": "totalArrayAverage",
         "orientation": "v",
         "showlegend": true,
         "type": "scatter",
         "x": [
          25,
          625,
          1200,
          1200,
          2500,
          5625,
          10000
         ],
         "xaxis": "x",
         "y": [
          0.003,
          0.007,
          0.01,
          0.01,
          0.03,
          0.06,
          0.1
         ],
         "yaxis": "y"
        },
        {
         "hovertemplate": "Data Structure=totalAdjacencyMatrixAverage<br>totalCells=%{x}<br>Average Runtime (s)=%{y}<extra></extra>",
         "legendgroup": "totalAdjacencyMatrixAverage",
         "line": {
          "color": "#EF553B",
          "dash": "solid"
         },
         "marker": {
          "symbol": "circle"
         },
         "mode": "lines",
         "name": "totalAdjacencyMatrixAverage",
         "orientation": "v",
         "showlegend": true,
         "type": "scatter",
         "x": [
          25,
          625,
          1200,
          1200,
          2500,
          5625,
          10000
         ],
         "xaxis": "x",
         "y": [
          0.006,
          0.1,
          0.26,
          0.24,
          1,
          4.6,
          14.2
         ],
         "yaxis": "y"
        },
        {
         "hovertemplate": "Data Structure=totalAdjacencyListAverage<br>totalCells=%{x}<br>Average Runtime (s)=%{y}<extra></extra>",
         "legendgroup": "totalAdjacencyListAverage",
         "line": {
          "color": "#00cc96",
          "dash": "solid"
         },
         "marker": {
          "symbol": "circle"
         },
         "mode": "lines",
         "name": "totalAdjacencyListAverage",
         "orientation": "v",
         "showlegend": true,
         "type": "scatter",
         "x": [
          25,
          625,
          1200,
          1200,
          2500,
          5625,
          10000
         ],
         "xaxis": "x",
         "y": [
          0.006,
          0.01,
          0.02,
          0.02,
          0.05,
          0.1,
          0.2
         ],
         "yaxis": "y"
        }
       ],
       "layout": {
        "autosize": true,
        "legend": {
         "title": {
          "text": "Data Structure"
         }
        },
        "template": {
         "data": {
          "bar": [
           {
            "error_x": {
             "color": "#2a3f5f"
            },
            "error_y": {
             "color": "#2a3f5f"
            },
            "marker": {
             "line": {
              "color": "#E5ECF6",
              "width": 0.5
             },
             "pattern": {
              "fillmode": "overlay",
              "size": 10,
              "solidity": 0.2
             }
            },
            "type": "bar"
           }
          ],
          "barpolar": [
           {
            "marker": {
             "line": {
              "color": "#E5ECF6",
              "width": 0.5
             },
             "pattern": {
              "fillmode": "overlay",
              "size": 10,
              "solidity": 0.2
             }
            },
            "type": "barpolar"
           }
          ],
          "carpet": [
           {
            "aaxis": {
             "endlinecolor": "#2a3f5f",
             "gridcolor": "white",
             "linecolor": "white",
             "minorgridcolor": "white",
             "startlinecolor": "#2a3f5f"
            },
            "baxis": {
             "endlinecolor": "#2a3f5f",
             "gridcolor": "white",
             "linecolor": "white",
             "minorgridcolor": "white",
             "startlinecolor": "#2a3f5f"
            },
            "type": "carpet"
           }
          ],
          "choropleth": [
           {
            "colorbar": {
             "outlinewidth": 0,
             "ticks": ""
            },
            "type": "choropleth"
           }
          ],
          "contour": [
           {
            "colorbar": {
             "outlinewidth": 0,
             "ticks": ""
            },
            "colorscale": [
             [
              0,
              "#0d0887"
             ],
             [
              0.1111111111111111,
              "#46039f"
             ],
             [
              0.2222222222222222,
              "#7201a8"
             ],
             [
              0.3333333333333333,
              "#9c179e"
             ],
             [
              0.4444444444444444,
              "#bd3786"
             ],
             [
              0.5555555555555556,
              "#d8576b"
             ],
             [
              0.6666666666666666,
              "#ed7953"
             ],
             [
              0.7777777777777778,
              "#fb9f3a"
             ],
             [
              0.8888888888888888,
              "#fdca26"
             ],
             [
              1,
              "#f0f921"
             ]
            ],
            "type": "contour"
           }
          ],
          "contourcarpet": [
           {
            "colorbar": {
             "outlinewidth": 0,
             "ticks": ""
            },
            "type": "contourcarpet"
           }
          ],
          "heatmap": [
           {
            "colorbar": {
             "outlinewidth": 0,
             "ticks": ""
            },
            "colorscale": [
             [
              0,
              "#0d0887"
             ],
             [
              0.1111111111111111,
              "#46039f"
             ],
             [
              0.2222222222222222,
              "#7201a8"
             ],
             [
              0.3333333333333333,
              "#9c179e"
             ],
             [
              0.4444444444444444,
              "#bd3786"
             ],
             [
              0.5555555555555556,
              "#d8576b"
             ],
             [
              0.6666666666666666,
              "#ed7953"
             ],
             [
              0.7777777777777778,
              "#fb9f3a"
             ],
             [
              0.8888888888888888,
              "#fdca26"
             ],
             [
              1,
              "#f0f921"
             ]
            ],
            "type": "heatmap"
           }
          ],
          "heatmapgl": [
           {
            "colorbar": {
             "outlinewidth": 0,
             "ticks": ""
            },
            "colorscale": [
             [
              0,
              "#0d0887"
             ],
             [
              0.1111111111111111,
              "#46039f"
             ],
             [
              0.2222222222222222,
              "#7201a8"
             ],
             [
              0.3333333333333333,
              "#9c179e"
             ],
             [
              0.4444444444444444,
              "#bd3786"
             ],
             [
              0.5555555555555556,
              "#d8576b"
             ],
             [
              0.6666666666666666,
              "#ed7953"
             ],
             [
              0.7777777777777778,
              "#fb9f3a"
             ],
             [
              0.8888888888888888,
              "#fdca26"
             ],
             [
              1,
              "#f0f921"
             ]
            ],
            "type": "heatmapgl"
           }
          ],
          "histogram": [
           {
            "marker": {
             "pattern": {
              "fillmode": "overlay",
              "size": 10,
              "solidity": 0.2
             }
            },
            "type": "histogram"
           }
          ],
          "histogram2d": [
           {
            "colorbar": {
             "outlinewidth": 0,
             "ticks": ""
            },
            "colorscale": [
             [
              0,
              "#0d0887"
             ],
             [
              0.1111111111111111,
              "#46039f"
             ],
             [
              0.2222222222222222,
              "#7201a8"
             ],
             [
              0.3333333333333333,
              "#9c179e"
             ],
             [
              0.4444444444444444,
              "#bd3786"
             ],
             [
              0.5555555555555556,
              "#d8576b"
             ],
             [
              0.6666666666666666,
              "#ed7953"
             ],
             [
              0.7777777777777778,
              "#fb9f3a"
             ],
             [
              0.8888888888888888,
              "#fdca26"
             ],
             [
              1,
              "#f0f921"
             ]
            ],
            "type": "histogram2d"
           }
          ],
          "histogram2dcontour": [
           {
            "colorbar": {
             "outlinewidth": 0,
             "ticks": ""
            },
            "colorscale": [
             [
              0,
              "#0d0887"
             ],
             [
              0.1111111111111111,
              "#46039f"
             ],
             [
              0.2222222222222222,
              "#7201a8"
             ],
             [
              0.3333333333333333,
              "#9c179e"
             ],
             [
              0.4444444444444444,
              "#bd3786"
             ],
             [
              0.5555555555555556,
              "#d8576b"
             ],
             [
              0.6666666666666666,
              "#ed7953"
             ],
             [
              0.7777777777777778,
              "#fb9f3a"
             ],
             [
              0.8888888888888888,
              "#fdca26"
             ],
             [
              1,
              "#f0f921"
             ]
            ],
            "type": "histogram2dcontour"
           }
          ],
          "mesh3d": [
           {
            "colorbar": {
             "outlinewidth": 0,
             "ticks": ""
            },
            "type": "mesh3d"
           }
          ],
          "parcoords": [
           {
            "line": {
             "colorbar": {
              "outlinewidth": 0,
              "ticks": ""
             }
            },
            "type": "parcoords"
           }
          ],
          "pie": [
           {
            "automargin": true,
            "type": "pie"
           }
          ],
          "scatter": [
           {
            "fillpattern": {
             "fillmode": "overlay",
             "size": 10,
             "solidity": 0.2
            },
            "type": "scatter"
           }
          ],
          "scatter3d": [
           {
            "line": {
             "colorbar": {
              "outlinewidth": 0,
              "ticks": ""
             }
            },
            "marker": {
             "colorbar": {
              "outlinewidth": 0,
              "ticks": ""
             }
            },
            "type": "scatter3d"
           }
          ],
          "scattercarpet": [
           {
            "marker": {
             "colorbar": {
              "outlinewidth": 0,
              "ticks": ""
             }
            },
            "type": "scattercarpet"
           }
          ],
          "scattergeo": [
           {
            "marker": {
             "colorbar": {
              "outlinewidth": 0,
              "ticks": ""
             }
            },
            "type": "scattergeo"
           }
          ],
          "scattergl": [
           {
            "marker": {
             "colorbar": {
              "outlinewidth": 0,
              "ticks": ""
             }
            },
            "type": "scattergl"
           }
          ],
          "scattermapbox": [
           {
            "marker": {
             "colorbar": {
              "outlinewidth": 0,
              "ticks": ""
             }
            },
            "type": "scattermapbox"
           }
          ],
          "scatterpolar": [
           {
            "marker": {
             "colorbar": {
              "outlinewidth": 0,
              "ticks": ""
             }
            },
            "type": "scatterpolar"
           }
          ],
          "scatterpolargl": [
           {
            "marker": {
             "colorbar": {
              "outlinewidth": 0,
              "ticks": ""
             }
            },
            "type": "scatterpolargl"
           }
          ],
          "scatterternary": [
           {
            "marker": {
             "colorbar": {
              "outlinewidth": 0,
              "ticks": ""
             }
            },
            "type": "scatterternary"
           }
          ],
          "surface": [
           {
            "colorbar": {
             "outlinewidth": 0,
             "ticks": ""
            },
            "colorscale": [
             [
              0,
              "#0d0887"
             ],
             [
              0.1111111111111111,
              "#46039f"
             ],
             [
              0.2222222222222222,
              "#7201a8"
             ],
             [
              0.3333333333333333,
              "#9c179e"
             ],
             [
              0.4444444444444444,
              "#bd3786"
             ],
             [
              0.5555555555555556,
              "#d8576b"
             ],
             [
              0.6666666666666666,
              "#ed7953"
             ],
             [
              0.7777777777777778,
              "#fb9f3a"
             ],
             [
              0.8888888888888888,
              "#fdca26"
             ],
             [
              1,
              "#f0f921"
             ]
            ],
            "type": "surface"
           }
          ],
          "table": [
           {
            "cells": {
             "fill": {
              "color": "#EBF0F8"
             },
             "line": {
              "color": "white"
             }
            },
            "header": {
             "fill": {
              "color": "#C8D4E3"
             },
             "line": {
              "color": "white"
             }
            },
            "type": "table"
           }
          ]
         },
         "layout": {
          "annotationdefaults": {
           "arrowcolor": "#2a3f5f",
           "arrowhead": 0,
           "arrowwidth": 1
          },
          "autotypenumbers": "strict",
          "coloraxis": {
           "colorbar": {
            "outlinewidth": 0,
            "ticks": ""
           }
          },
          "colorscale": {
           "diverging": [
            [
             0,
             "#8e0152"
            ],
            [
             0.1,
             "#c51b7d"
            ],
            [
             0.2,
             "#de77ae"
            ],
            [
             0.3,
             "#f1b6da"
            ],
            [
             0.4,
             "#fde0ef"
            ],
            [
             0.5,
             "#f7f7f7"
            ],
            [
             0.6,
             "#e6f5d0"
            ],
            [
             0.7,
             "#b8e186"
            ],
            [
             0.8,
             "#7fbc41"
            ],
            [
             0.9,
             "#4d9221"
            ],
            [
             1,
             "#276419"
            ]
           ],
           "sequential": [
            [
             0,
             "#0d0887"
            ],
            [
             0.1111111111111111,
             "#46039f"
            ],
            [
             0.2222222222222222,
             "#7201a8"
            ],
            [
             0.3333333333333333,
             "#9c179e"
            ],
            [
             0.4444444444444444,
             "#bd3786"
            ],
            [
             0.5555555555555556,
             "#d8576b"
            ],
            [
             0.6666666666666666,
             "#ed7953"
            ],
            [
             0.7777777777777778,
             "#fb9f3a"
            ],
            [
             0.8888888888888888,
             "#fdca26"
            ],
            [
             1,
             "#f0f921"
            ]
           ],
           "sequentialminus": [
            [
             0,
             "#0d0887"
            ],
            [
             0.1111111111111111,
             "#46039f"
            ],
            [
             0.2222222222222222,
             "#7201a8"
            ],
            [
             0.3333333333333333,
             "#9c179e"
            ],
            [
             0.4444444444444444,
             "#bd3786"
            ],
            [
             0.5555555555555556,
             "#d8576b"
            ],
            [
             0.6666666666666666,
             "#ed7953"
            ],
            [
             0.7777777777777778,
             "#fb9f3a"
            ],
            [
             0.8888888888888888,
             "#fdca26"
            ],
            [
             1,
             "#f0f921"
            ]
           ]
          },
          "colorway": [
           "#636efa",
           "#EF553B",
           "#00cc96",
           "#ab63fa",
           "#FFA15A",
           "#19d3f3",
           "#FF6692",
           "#B6E880",
           "#FF97FF",
           "#FECB52"
          ],
          "font": {
           "color": "#2a3f5f"
          },
          "geo": {
           "bgcolor": "white",
           "lakecolor": "white",
           "landcolor": "#E5ECF6",
           "showlakes": true,
           "showland": true,
           "subunitcolor": "white"
          },
          "hoverlabel": {
           "align": "left"
          },
          "hovermode": "closest",
          "mapbox": {
           "style": "light"
          },
          "paper_bgcolor": "white",
          "plot_bgcolor": "#E5ECF6",
          "polar": {
           "angularaxis": {
            "gridcolor": "white",
            "linecolor": "white",
            "ticks": ""
           },
           "bgcolor": "#E5ECF6",
           "radialaxis": {
            "gridcolor": "white",
            "linecolor": "white",
            "ticks": ""
           }
          },
          "scene": {
           "xaxis": {
            "backgroundcolor": "#E5ECF6",
            "gridcolor": "white",
            "gridwidth": 2,
            "linecolor": "white",
            "showbackground": true,
            "ticks": "",
            "zerolinecolor": "white"
           },
           "yaxis": {
            "backgroundcolor": "#E5ECF6",
            "gridcolor": "white",
            "gridwidth": 2,
            "linecolor": "white",
            "showbackground": true,
            "ticks": "",
            "zerolinecolor": "white"
           },
           "zaxis": {
            "backgroundcolor": "#E5ECF6",
            "gridcolor": "white",
            "gridwidth": 2,
            "linecolor": "white",
            "showbackground": true,
            "ticks": "",
            "zerolinecolor": "white"
           }
          },
          "shapedefaults": {
           "line": {
            "color": "#2a3f5f"
           }
          },
          "ternary": {
           "aaxis": {
            "gridcolor": "white",
            "linecolor": "white",
            "ticks": ""
           },
           "baxis": {
            "gridcolor": "white",
            "linecolor": "white",
            "ticks": ""
           },
           "bgcolor": "#E5ECF6",
           "caxis": {
            "gridcolor": "white",
            "linecolor": "white",
            "ticks": ""
           }
          },
          "title": {
           "x": 0.05
          },
          "xaxis": {
           "automargin": true,
           "gridcolor": "white",
           "linecolor": "white",
           "ticks": "",
           "title": {
            "standoff": 15
           },
           "zerolinecolor": "white",
           "zerolinewidth": 2
          },
          "yaxis": {
           "automargin": true,
           "gridcolor": "white",
           "linecolor": "white",
           "ticks": "",
           "title": {
            "standoff": 15
           },
           "zerolinecolor": "white",
           "zerolinewidth": 2
          }
         }
        },
        "xaxis": {
         "autorange": true,
         "range": [
          -1358.7574850299402,
          11383.75748502994
         ],
         "title": {
          "text": "Total Cells"
         },
         "type": "linear"
        },
        "yaxis": {
         "range": [
          -2.6,
          1.3
         ],
         "tickformat": ".2f",
         "tickvals": [
          0,
          0.01,
          0.05,
          0.1,
          0.2,
          1,
          5,
          10,
          20
         ],
         "title": {
          "text": "Average Runtime (s)"
         },
         "type": "log"
        }
       }
      },
      "image/png": "[encoded data removed]",
      "text/html": [
       "<div>                            <div id=\"b667355d-f4c1-4ba9-9f28-593b1979b89c\" class=\"plotly-graph-div\" style=\"height:525px; width:100%;\"></div>            <script type=\"text/javascript\">                require([\"plotly\"], function(Plotly) {                    window.PLOTLYENV=window.PLOTLYENV || {};                                    if (document.getElementById(\"b667355d-f4c1-4ba9-9f28-593b1979b89c\")) {                    Plotly.newPlot(                        \"b667355d-f4c1-4ba9-9f28-593b1979b89c\",                        [{\"hovertemplate\":\"Data Structure=totalArrayAverage<br>totalCells=%{x}<br>Average Runtime (s)=%{y}<extra></extra>\",\"legendgroup\":\"totalArrayAverage\",\"marker\":{\"color\":\"#636efa\",\"symbol\":\"circle\"},\"mode\":\"markers\",\"name\":\"totalArrayAverage\",\"orientation\":\"v\",\"showlegend\":true,\"x\":[25,625,1200,1200,2500,5625,10000],\"xaxis\":\"x\",\"y\":[0.003,0.007,0.01,0.01,0.03,0.06,0.1],\"yaxis\":\"y\",\"type\":\"scatter\"},{\"hovertemplate\":\"Data Structure=totalAdjacencyMatrixAverage<br>totalCells=%{x}<br>Average Runtime (s)=%{y}<extra></extra>\",\"legendgroup\":\"totalAdjacencyMatrixAverage\",\"marker\":{\"color\":\"#EF553B\",\"symbol\":\"circle\"},\"mode\":\"markers\",\"name\":\"totalAdjacencyMatrixAverage\",\"orientation\":\"v\",\"showlegend\":true,\"x\":[25,625,1200,1200,2500,5625,10000],\"xaxis\":\"x\",\"y\":[0.006,0.1,0.26,0.24,1.0,4.6,14.2],\"yaxis\":\"y\",\"type\":\"scatter\"},{\"hovertemplate\":\"Data Structure=totalAdjacencyListAverage<br>totalCells=%{x}<br>Average Runtime (s)=%{y}<extra></extra>\",\"legendgroup\":\"totalAdjacencyListAverage\",\"marker\":{\"color\":\"#00cc96\",\"symbol\":\"circle\"},\"mode\":\"markers\",\"name\":\"totalAdjacencyListAverage\",\"orientation\":\"v\",\"showlegend\":true,\"x\":[25,625,1200,1200,2500,5625,10000],\"xaxis\":\"x\",\"y\":[0.006,0.01,0.02,0.02,0.05,0.1,0.2],\"yaxis\":\"y\",\"type\":\"scatter\"},{\"hovertemplate\":\"Data Structure=totalArrayAverage<br>totalCells=%{x}<br>Average Runtime (s)=%{y}<extra></extra>\",\"legendgroup\":\"totalArrayAverage\",\"line\":{\"color\":\"#636efa\",\"dash\":\"solid\"},\"marker\":{\"symbol\":\"circle\"},\"mode\":\"lines\",\"name\":\"totalArrayAverage\",\"orientation\":\"v\",\"showlegend\":true,\"x\":[25,625,1200,1200,2500,5625,10000],\"xaxis\":\"x\",\"y\":[0.003,0.007,0.01,0.01,0.03,0.06,0.1],\"yaxis\":\"y\",\"type\":\"scatter\"},{\"hovertemplate\":\"Data Structure=totalAdjacencyMatrixAverage<br>totalCells=%{x}<br>Average Runtime (s)=%{y}<extra></extra>\",\"legendgroup\":\"totalAdjacencyMatrixAverage\",\"line\":{\"color\":\"#EF553B\",\"dash\":\"solid\"},\"marker\":{\"symbol\":\"circle\"},\"mode\":\"lines\",\"name\":\"totalAdjacencyMatrixAverage\",\"orientation\":\"v\",\"showlegend\":true,\"x\":[25,625,1200,1200,2500,5625,10000],\"xaxis\":\"x\",\"y\":[0.006,0.1,0.26,0.24,1.0,4.6,14.2],\"yaxis\":\"y\",\"type\":\"scatter\"},{\"hovertemplate\":\"Data Structure=totalAdjacencyListAverage<br>totalCells=%{x}<br>Average Runtime (s)=%{y}<extra></extra>\",\"legendgroup\":\"totalAdjacencyListAverage\",\"line\":{\"color\":\"#00cc96\",\"dash\":\"solid\"},\"marker\":{\"symbol\":\"circle\"},\"mode\":\"lines\",\"name\":\"totalAdjacencyListAverage\",\"orientation\":\"v\",\"showlegend\":true,\"x\":[25,625,1200,1200,2500,5625,10000],\"xaxis\":\"x\",\"y\":[0.006,0.01,0.02,0.02,0.05,0.1,0.2],\"yaxis\":\"y\",\"type\":\"scatter\"}],                        {\"template\":{\"data\":{\"histogram2dcontour\":[{\"type\":\"histogram2dcontour\",\"colorbar\":{\"outlinewidth\":0,\"ticks\":\"\"},\"colorscale\":[[0.0,\"#0d0887\"],[0.1111111111111111,\"#46039f\"],[0.2222222222222222,\"#7201a8\"],[0.3333333333333333,\"#9c179e\"],[0.4444444444444444,\"#bd3786\"],[0.5555555555555556,\"#d8576b\"],[0.6666666666666666,\"#ed7953\"],[0.7777777777777778,\"#fb9f3a\"],[0.8888888888888888,\"#fdca26\"],[1.0,\"#f0f921\"]]}],\"choropleth\":[{\"type\":\"choropleth\",\"colorbar\":{\"outlinewidth\":0,\"ticks\":\"\"}}],\"histogram2d\":[{\"type\":\"histogram2d\",\"colorbar\":{\"outlinewidth\":0,\"ticks\":\"\"},\"colorscale\":[[0.0,\"#0d0887\"],[0.1111111111111111,\"#46039f\"],[0.2222222222222222,\"#7201a8\"],[0.3333333333333333,\"#9c179e\"],[0.4444444444444444,\"#bd3786\"],[0.5555555555555556,\"#d8576b\"],[0.6666666666666666,\"#ed7953\"],[0.7777777777777778,\"#fb9f3a\"],[0.8888888888888888,\"#fdca26\"],[1.0,\"#f0f921\"]]}],\"heatmap\":[{\"type\":\"heatmap\",\"colorbar\":{\"outlinewidth\":0,\"ticks\":\"\"},\"colorscale\":[[0.0,\"#0d0887\"],[0.1111111111111111,\"#46039f\"],[0.2222222222222222,\"#7201a8\"],[0.3333333333333333,\"#9c179e\"],[0.4444444444444444,\"#bd3786\"],[0.5555555555555556,\"#d8576b\"],[0.6666666666666666,\"#ed7953\"],[0.7777777777777778,\"#fb9f3a\"],[0.8888888888888888,\"#fdca26\"],[1.0,\"#f0f921\"]]}],\"heatmapgl\":[{\"type\":\"heatmapgl\",\"colorbar\":{\"outlinewidth\":0,\"ticks\":\"\"},\"colorscale\":[[0.0,\"#0d0887\"],[0.1111111111111111,\"#46039f\"],[0.2222222222222222,\"#7201a8\"],[0.3333333333333333,\"#9c179e\"],[0.4444444444444444,\"#bd3786\"],[0.5555555555555556,\"#d8576b\"],[0.6666666666666666,\"#ed7953\"],[0.7777777777777778,\"#fb9f3a\"],[0.8888888888888888,\"#fdca26\"],[1.0,\"#f0f921\"]]}],\"contourcarpet\":[{\"type\":\"contourcarpet\",\"colorbar\":{\"outlinewidth\":0,\"ticks\":\"\"}}],\"contour\":[{\"type\":\"contour\",\"colorbar\":{\"outlinewidth\":0,\"ticks\":\"\"},\"colorscale\":[[0.0,\"#0d0887\"],[0.1111111111111111,\"#46039f\"],[0.2222222222222222,\"#7201a8\"],[0.3333333333333333,\"#9c179e\"],[0.4444444444444444,\"#bd3786\"],[0.5555555555555556,\"#d8576b\"],[0.6666666666666666,\"#ed7953\"],[0.7777777777777778,\"#fb9f3a\"],[0.8888888888888888,\"#fdca26\"],[1.0,\"#f0f921\"]]}],\"surface\":[{\"type\":\"surface\",\"colorbar\":{\"outlinewidth\":0,\"ticks\":\"\"},\"colorscale\":[[0.0,\"#0d0887\"],[0.1111111111111111,\"#46039f\"],[0.2222222222222222,\"#7201a8\"],[0.3333333333333333,\"#9c179e\"],[0.4444444444444444,\"#bd3786\"],[0.5555555555555556,\"#d8576b\"],[0.6666666666666666,\"#ed7953\"],[0.7777777777777778,\"#fb9f3a\"],[0.8888888888888888,\"#fdca26\"],[1.0,\"#f0f921\"]]}],\"mesh3d\":[{\"type\":\"mesh3d\",\"colorbar\":{\"outlinewidth\":0,\"ticks\":\"\"}}],\"scatter\":[{\"fillpattern\":{\"fillmode\":\"overlay\",\"size\":10,\"solidity\":0.2},\"type\":\"scatter\"}],\"parcoords\":[{\"type\":\"parcoords\",\"line\":{\"colorbar\":{\"outlinewidth\":0,\"ticks\":\"\"}}}],\"scatterpolargl\":[{\"type\":\"scatterpolargl\",\"marker\":{\"colorbar\":{\"outlinewidth\":0,\"ticks\":\"\"}}}],\"bar\":[{\"error_x\":{\"color\":\"#2a3f5f\"},\"error_y\":{\"color\":\"#2a3f5f\"},\"marker\":{\"line\":{\"color\":\"#E5ECF6\",\"width\":0.5},\"pattern\":{\"fillmode\":\"overlay\",\"size\":10,\"solidity\":0.2}},\"type\":\"bar\"}],\"scattergeo\":[{\"type\":\"scattergeo\",\"marker\":{\"colorbar\":{\"outlinewidth\":0,\"ticks\":\"\"}}}],\"scatterpolar\":[{\"type\":\"scatterpolar\",\"marker\":{\"colorbar\":{\"outlinewidth\":0,\"ticks\":\"\"}}}],\"histogram\":[{\"marker\":{\"pattern\":{\"fillmode\":\"overlay\",\"size\":10,\"solidity\":0.2}},\"type\":\"histogram\"}],\"scattergl\":[{\"type\":\"scattergl\",\"marker\":{\"colorbar\":{\"outlinewidth\":0,\"ticks\":\"\"}}}],\"scatter3d\":[{\"type\":\"scatter3d\",\"line\":{\"colorbar\":{\"outlinewidth\":0,\"ticks\":\"\"}},\"marker\":{\"colorbar\":{\"outlinewidth\":0,\"ticks\":\"\"}}}],\"scattermapbox\":[{\"type\":\"scattermapbox\",\"marker\":{\"colorbar\":{\"outlinewidth\":0,\"ticks\":\"\"}}}],\"scatterternary\":[{\"type\":\"scatterternary\",\"marker\":{\"colorbar\":{\"outlinewidth\":0,\"ticks\":\"\"}}}],\"scattercarpet\":[{\"type\":\"scattercarpet\",\"marker\":{\"colorbar\":{\"outlinewidth\":0,\"ticks\":\"\"}}}],\"carpet\":[{\"aaxis\":{\"endlinecolor\":\"#2a3f5f\",\"gridcolor\":\"white\",\"linecolor\":\"white\",\"minorgridcolor\":\"white\",\"startlinecolor\":\"#2a3f5f\"},\"baxis\":{\"endlinecolor\":\"#2a3f5f\",\"gridcolor\":\"white\",\"linecolor\":\"white\",\"minorgridcolor\":\"white\",\"startlinecolor\":\"#2a3f5f\"},\"type\":\"carpet\"}],\"table\":[{\"cells\":{\"fill\":{\"color\":\"#EBF0F8\"},\"line\":{\"color\":\"white\"}},\"header\":{\"fill\":{\"color\":\"#C8D4E3\"},\"line\":{\"color\":\"white\"}},\"type\":\"table\"}],\"barpolar\":[{\"marker\":{\"line\":{\"color\":\"#E5ECF6\",\"width\":0.5},\"pattern\":{\"fillmode\":\"overlay\",\"size\":10,\"solidity\":0.2}},\"type\":\"barpolar\"}],\"pie\":[{\"automargin\":true,\"type\":\"pie\"}]},\"layout\":{\"autotypenumbers\":\"strict\",\"colorway\":[\"#636efa\",\"#EF553B\",\"#00cc96\",\"#ab63fa\",\"#FFA15A\",\"#19d3f3\",\"#FF6692\",\"#B6E880\",\"#FF97FF\",\"#FECB52\"],\"font\":{\"color\":\"#2a3f5f\"},\"hovermode\":\"closest\",\"hoverlabel\":{\"align\":\"left\"},\"paper_bgcolor\":\"white\",\"plot_bgcolor\":\"#E5ECF6\",\"polar\":{\"bgcolor\":\"#E5ECF6\",\"angularaxis\":{\"gridcolor\":\"white\",\"linecolor\":\"white\",\"ticks\":\"\"},\"radialaxis\":{\"gridcolor\":\"white\",\"linecolor\":\"white\",\"ticks\":\"\"}},\"ternary\":{\"bgcolor\":\"#E5ECF6\",\"aaxis\":{\"gridcolor\":\"white\",\"linecolor\":\"white\",\"ticks\":\"\"},\"baxis\":{\"gridcolor\":\"white\",\"linecolor\":\"white\",\"ticks\":\"\"},\"caxis\":{\"gridcolor\":\"white\",\"linecolor\":\"white\",\"ticks\":\"\"}},\"coloraxis\":{\"colorbar\":{\"outlinewidth\":0,\"ticks\":\"\"}},\"colorscale\":{\"sequential\":[[0.0,\"#0d0887\"],[0.1111111111111111,\"#46039f\"],[0.2222222222222222,\"#7201a8\"],[0.3333333333333333,\"#9c179e\"],[0.4444444444444444,\"#bd3786\"],[0.5555555555555556,\"#d8576b\"],[0.6666666666666666,\"#ed7953\"],[0.7777777777777778,\"#fb9f3a\"],[0.8888888888888888,\"#fdca26\"],[1.0,\"#f0f921\"]],\"sequentialminus\":[[0.0,\"#0d0887\"],[0.1111111111111111,\"#46039f\"],[0.2222222222222222,\"#7201a8\"],[0.3333333333333333,\"#9c179e\"],[0.4444444444444444,\"#bd3786\"],[0.5555555555555556,\"#d8576b\"],[0.6666666666666666,\"#ed7953\"],[0.7777777777777778,\"#fb9f3a\"],[0.8888888888888888,\"#fdca26\"],[1.0,\"#f0f921\"]],\"diverging\":[[0,\"#8e0152\"],[0.1,\"#c51b7d\"],[0.2,\"#de77ae\"],[0.3,\"#f1b6da\"],[0.4,\"#fde0ef\"],[0.5,\"#f7f7f7\"],[0.6,\"#e6f5d0\"],[0.7,\"#b8e186\"],[0.8,\"#7fbc41\"],[0.9,\"#4d9221\"],[1,\"#276419\"]]},\"xaxis\":{\"gridcolor\":\"white\",\"linecolor\":\"white\",\"ticks\":\"\",\"title\":{\"standoff\":15},\"zerolinecolor\":\"white\",\"automargin\":true,\"zerolinewidth\":2},\"yaxis\":{\"gridcolor\":\"white\",\"linecolor\":\"white\",\"ticks\":\"\",\"title\":{\"standoff\":15},\"zerolinecolor\":\"white\",\"automargin\":true,\"zerolinewidth\":2},\"scene\":{\"xaxis\":{\"backgroundcolor\":\"#E5ECF6\",\"gridcolor\":\"white\",\"linecolor\":\"white\",\"showbackground\":true,\"ticks\":\"\",\"zerolinecolor\":\"white\",\"gridwidth\":2},\"yaxis\":{\"backgroundcolor\":\"#E5ECF6\",\"gridcolor\":\"white\",\"linecolor\":\"white\",\"showbackground\":true,\"ticks\":\"\",\"zerolinecolor\":\"white\",\"gridwidth\":2},\"zaxis\":{\"backgroundcolor\":\"#E5ECF6\",\"gridcolor\":\"white\",\"linecolor\":\"white\",\"showbackground\":true,\"ticks\":\"\",\"zerolinecolor\":\"white\",\"gridwidth\":2}},\"shapedefaults\":{\"line\":{\"color\":\"#2a3f5f\"}},\"annotationdefaults\":{\"arrowcolor\":\"#2a3f5f\",\"arrowhead\":0,\"arrowwidth\":1},\"geo\":{\"bgcolor\":\"white\",\"landcolor\":\"#E5ECF6\",\"subunitcolor\":\"white\",\"showland\":true,\"showlakes\":true,\"lakecolor\":\"white\"},\"title\":{\"x\":0.05},\"mapbox\":{\"style\":\"light\"}}},\"yaxis\":{\"title\":{\"text\":\"Average Runtime (s)\"},\"type\":\"log\",\"tickformat\":\".2f\",\"tickvals\":[0,0.01,0.05,0.1,0.2,1,5,10,20],\"range\":[-2.6,1.3]},\"xaxis\":{\"title\":{\"text\":\"Total Cells\"}},\"legend\":{\"title\":{\"text\":\"Data Structure\"}}},                        {\"responsive\": true}                    ).then(function(){\n",
       "                            \n",
       "var gd = document.getElementById('b667355d-f4c1-4ba9-9f28-593b1979b89c');\n",
       "var x = new MutationObserver(function (mutations, observer) {{\n",
       "        var display = window.getComputedStyle(gd).display;\n",
       "        if (!display || display === 'none') {{\n",
       "            console.log([gd, 'removed!']);\n",
       "            Plotly.purge(gd);\n",
       "            observer.disconnect();\n",
       "        }}\n",
       "}});\n",
       "\n",
       "// Listen for the removal of the full notebook cells\n",
       "var notebookContainer = gd.closest('#notebook-container');\n",
       "if (notebookContainer) {{\n",
       "    x.observe(notebookContainer, {childList: true});\n",
       "}}\n",
       "\n",
       "// Listen for the clearing of the current output cell\n",
       "var outputEl = gd.closest('.output');\n",
       "if (outputEl) {{\n",
       "    x.observe(outputEl, {childList: true});\n",
       "}}\n",
       "\n",
       "                        })                };                });            </script>        </div>"
      ]
     },
     "metadata": {},
     "output_type": "display_data"
    }
   ],
   "source": [
    "import plotly.graph_objects as go\n",
    "import plotly.express as px\n",
    "\n",
    "# Create the scatter plot\n",
    "fig_scatter = px.scatter(\n",
    "    data_frame=totalRuntimeAverageDF,\n",
    "    x='totalCells',\n",
    "    y=['totalArrayAverage', 'totalAdjacencyMatrixAverage', 'totalAdjacencyListAverage'],\n",
    "    labels={'value': 'Average Runtime (s)', 'variable': 'Data Structure'},\n",
    "    title='Total Cells vs. Average Runtime for Different Data Structures'\n",
    ")\n",
    "\n",
    "# Create the line plot\n",
    "fig_line = px.line(\n",
    "    data_frame=totalRuntimeAverageDF,\n",
    "    x='totalCells',\n",
    "    y=['totalArrayAverage', 'totalAdjacencyMatrixAverage', 'totalAdjacencyListAverage'],\n",
    "    labels={'value': 'Average Runtime (s)', 'variable': 'Data Structure'},\n",
    ")\n",
    "\n",
    "# Combine the scatter and line plots\n",
    "fig_combine = go.Figure(data=fig_scatter.data + fig_line.data)\n",
    "\n",
    "# Update the layout with logarithmic y-axis\n",
    "fig_combine.update_layout(\n",
    "    xaxis_title='Total Cells',\n",
    "    yaxis_title='Average Runtime (s)',\n",
    "    legend_title='Data Structure',\n",
    "    yaxis_type='log',\n",
    "    yaxis_tickformat='.2f',  # Display tick labels with 2 decimal places\n",
    "    yaxis_tickvals=[0, 0.01, 0.05, 0.1, 0.2, 1, 5, 10, 20],  # Custom tick values\n",
    "    yaxis_range=[-2.6, 1.3],  # Set the y-axis range to accommodate the custom tick values\n",
    ")\n",
    "\n",
    "fig_combine.show()"
   ]
  },
  {
   "cell_type": "code",
   "execution_count": 53,
   "id": "2eb21175-21b7-43fa-858e-08656d3113d5",
   "metadata": {},
   "outputs": [
    {
     "data": {
      "text/html": [
       "<div>\n",
       "<style scoped>\n",
       "    .dataframe tbody tr th:only-of-type {\n",
       "        vertical-align: middle;\n",
       "    }\n",
       "\n",
       "    .dataframe tbody tr th {\n",
       "        vertical-align: top;\n",
       "    }\n",
       "\n",
       "    .dataframe thead th {\n",
       "        text-align: right;\n",
       "    }\n",
       "</style>\n",
       "<table border=\"1\" class=\"dataframe\">\n",
       "  <thead>\n",
       "    <tr style=\"text-align: right;\">\n",
       "      <th></th>\n",
       "      <th>configNo</th>\n",
       "      <th>mazeSize</th>\n",
       "      <th>totalCells</th>\n",
       "      <th>__init__()</th>\n",
       "      <th>__init__() count</th>\n",
       "      <th>initCells()</th>\n",
       "      <th>initCells() count</th>\n",
       "      <th>addWall()</th>\n",
       "      <th>addWall() count</th>\n",
       "      <th>removeWall()</th>\n",
       "      <th>removeWall() count</th>\n",
       "      <th>hasWall()</th>\n",
       "      <th>hasWall() count</th>\n",
       "      <th>neighbours()</th>\n",
       "      <th>neighbours() count</th>\n",
       "    </tr>\n",
       "  </thead>\n",
       "  <tbody>\n",
       "    <tr>\n",
       "      <th>0</th>\n",
       "      <td>1</td>\n",
       "      <td>5x5</td>\n",
       "      <td>25</td>\n",
       "      <td>0.00001</td>\n",
       "      <td>1</td>\n",
       "      <td>0.0001</td>\n",
       "      <td>1</td>\n",
       "      <td>0.000001</td>\n",
       "      <td>82</td>\n",
       "      <td>0.000001</td>\n",
       "      <td>28</td>\n",
       "      <td>0.000001</td>\n",
       "      <td>60</td>\n",
       "      <td>0.000001</td>\n",
       "      <td>43</td>\n",
       "    </tr>\n",
       "    <tr>\n",
       "      <th>1</th>\n",
       "      <td>2</td>\n",
       "      <td>25x25</td>\n",
       "      <td>625</td>\n",
       "      <td>0.00005</td>\n",
       "      <td>1</td>\n",
       "      <td>0.0020</td>\n",
       "      <td>1</td>\n",
       "      <td>0.000001</td>\n",
       "      <td>1402</td>\n",
       "      <td>0.000001</td>\n",
       "      <td>628</td>\n",
       "      <td>0.000001</td>\n",
       "      <td>1300</td>\n",
       "      <td>0.000001</td>\n",
       "      <td>1213</td>\n",
       "    </tr>\n",
       "    <tr>\n",
       "      <th>2</th>\n",
       "      <td>3</td>\n",
       "      <td>40x30</td>\n",
       "      <td>1200</td>\n",
       "      <td>0.00080</td>\n",
       "      <td>1</td>\n",
       "      <td>0.0040</td>\n",
       "      <td>1</td>\n",
       "      <td>0.000001</td>\n",
       "      <td>2612</td>\n",
       "      <td>0.000001</td>\n",
       "      <td>1203</td>\n",
       "      <td>0.000001</td>\n",
       "      <td>2470</td>\n",
       "      <td>0.000001</td>\n",
       "      <td>2313</td>\n",
       "    </tr>\n",
       "    <tr>\n",
       "      <th>3</th>\n",
       "      <td>4</td>\n",
       "      <td>30x40</td>\n",
       "      <td>1200</td>\n",
       "      <td>0.00010</td>\n",
       "      <td>1</td>\n",
       "      <td>0.0040</td>\n",
       "      <td>1</td>\n",
       "      <td>0.000001</td>\n",
       "      <td>2612</td>\n",
       "      <td>0.000001</td>\n",
       "      <td>1203</td>\n",
       "      <td>0.000001</td>\n",
       "      <td>2470</td>\n",
       "      <td>0.000001</td>\n",
       "      <td>2364</td>\n",
       "    </tr>\n",
       "    <tr>\n",
       "      <th>4</th>\n",
       "      <td>5</td>\n",
       "      <td>50x50</td>\n",
       "      <td>2500</td>\n",
       "      <td>0.00015</td>\n",
       "      <td>1</td>\n",
       "      <td>0.0070</td>\n",
       "      <td>1</td>\n",
       "      <td>0.000001</td>\n",
       "      <td>5302</td>\n",
       "      <td>0.000001</td>\n",
       "      <td>2503</td>\n",
       "      <td>0.000001</td>\n",
       "      <td>5100</td>\n",
       "      <td>0.000001</td>\n",
       "      <td>4981</td>\n",
       "    </tr>\n",
       "  </tbody>\n",
       "</table>\n",
       "</div>"
      ],
      "text/plain": [
       "   configNo mazeSize  totalCells  __init__()  __init__() count  initCells()  \\\n",
       "0         1      5x5          25     0.00001                 1       0.0001   \n",
       "1         2    25x25         625     0.00005                 1       0.0020   \n",
       "2         3    40x30        1200     0.00080                 1       0.0040   \n",
       "3         4    30x40        1200     0.00010                 1       0.0040   \n",
       "4         5    50x50        2500     0.00015                 1       0.0070   \n",
       "\n",
       "   initCells() count  addWall()  addWall() count  removeWall()  \\\n",
       "0                  1   0.000001               82      0.000001   \n",
       "1                  1   0.000001             1402      0.000001   \n",
       "2                  1   0.000001             2612      0.000001   \n",
       "3                  1   0.000001             2612      0.000001   \n",
       "4                  1   0.000001             5302      0.000001   \n",
       "\n",
       "   removeWall() count  hasWall()  hasWall() count  neighbours()  \\\n",
       "0                  28   0.000001               60      0.000001   \n",
       "1                 628   0.000001             1300      0.000001   \n",
       "2                1203   0.000001             2470      0.000001   \n",
       "3                1203   0.000001             2470      0.000001   \n",
       "4                2503   0.000001             5100      0.000001   \n",
       "\n",
       "   neighbours() count  \n",
       "0                  43  \n",
       "1                1213  \n",
       "2                2313  \n",
       "3                2364  \n",
       "4                4981  "
      ]
     },
     "execution_count": 53,
     "metadata": {},
     "output_type": "execute_result"
    }
   ],
   "source": [
    "import pandas as pd\n",
    "\n",
    "arrayFunctionsDF = pd.read_excel('dataGen/empiricalData.xlsx', sheet_name='arrayFunctions')\n",
    "arrayFunctionsDF.head()"
   ]
  },
  {
   "cell_type": "code",
   "execution_count": 81,
   "id": "00ff48c5-5012-4930-b27c-3b533a9f743e",
   "metadata": {},
   "outputs": [
    {
     "data": {
      "application/vnd.plotly.v1+json": {
       "config": {
        "plotlyServerURL": "https://plot.ly"
       },
       "data": [
        {
         "hovertemplate": "variable=__init__()<br>Total Cells=%{x:.2f}<br>value=%{y:.2e}<extra></extra>",
         "legendgroup": "__init__()",
         "marker": {
          "color": "#636efa",
          "symbol": "circle"
         },
         "mode": "markers",
         "name": "__init__()",
         "orientation": "v",
         "showlegend": true,
         "type": "scatter",
         "x": [
          25,
          625,
          1200,
          1200,
          2500,
          5625,
          10000
         ],
         "xaxis": "x",
         "y": [
          1e-05,
          5e-05,
          0.0008,
          0.0001,
          0.00015,
          0.0006,
          0.0007
         ],
         "yaxis": "y"
        },
        {
         "hovertemplate": "variable=initCells()<br>Total Cells=%{x:.2f}<br>value=%{y:.2e}<extra></extra>",
         "legendgroup": "initCells()",
         "marker": {
          "color": "#EF553B",
          "symbol": "circle"
         },
         "mode": "markers",
         "name": "initCells()",
         "orientation": "v",
         "showlegend": true,
         "type": "scatter",
         "x": [
          25,
          625,
          1200,
          1200,
          2500,
          5625,
          10000
         ],
         "xaxis": "x",
         "y": [
          0.0001,
          0.002,
          0.004,
          0.004,
          0.007,
          0.015,
          0.03
         ],
         "yaxis": "y"
        },
        {
         "hovertemplate": "variable=addWall()<br>Total Cells=%{x:.2f}<br>value=%{y:.2e}<extra></extra>",
         "legendgroup": "addWall()",
         "marker": {
          "color": "#00cc96",
          "symbol": "circle"
         },
         "mode": "markers",
         "name": "addWall()",
         "orientation": "v",
         "showlegend": true,
         "type": "scatter",
         "x": [
          25,
          625,
          1200,
          1200,
          2500,
          5625,
          10000
         ],
         "xaxis": "x",
         "y": [
          1e-06,
          1e-06,
          1e-06,
          1e-06,
          1e-06,
          1e-06,
          1e-06
         ],
         "yaxis": "y"
        },
        {
         "hovertemplate": "variable=removeWall()<br>Total Cells=%{x:.2f}<br>value=%{y:.2e}<extra></extra>",
         "legendgroup": "removeWall()",
         "marker": {
          "color": "#ab63fa",
          "symbol": "circle"
         },
         "mode": "markers",
         "name": "removeWall()",
         "orientation": "v",
         "showlegend": true,
         "type": "scatter",
         "x": [
          25,
          625,
          1200,
          1200,
          2500,
          5625,
          10000
         ],
         "xaxis": "x",
         "y": [
          1e-06,
          1e-06,
          1e-06,
          1e-06,
          1e-06,
          1e-06,
          1e-06
         ],
         "yaxis": "y"
        },
        {
         "hovertemplate": "variable=hasWall()<br>Total Cells=%{x:.2f}<br>value=%{y:.2e}<extra></extra>",
         "legendgroup": "hasWall()",
         "marker": {
          "color": "#FFA15A",
          "symbol": "circle"
         },
         "mode": "markers",
         "name": "hasWall()",
         "orientation": "v",
         "showlegend": true,
         "type": "scatter",
         "x": [
          25,
          625,
          1200,
          1200,
          2500,
          5625,
          10000
         ],
         "xaxis": "x",
         "y": [
          1e-06,
          1e-06,
          1e-06,
          1e-06,
          1e-06,
          1e-06,
          1e-06
         ],
         "yaxis": "y"
        },
        {
         "hovertemplate": "variable=neighbours()<br>Total Cells=%{x:.2f}<br>value=%{y:.2e}<extra></extra>",
         "legendgroup": "neighbours()",
         "marker": {
          "color": "#19d3f3",
          "symbol": "circle"
         },
         "mode": "markers",
         "name": "neighbours()",
         "orientation": "v",
         "showlegend": true,
         "type": "scatter",
         "x": [
          25,
          625,
          1200,
          1200,
          2500,
          5625,
          10000
         ],
         "xaxis": "x",
         "y": [
          1e-06,
          1e-06,
          1e-06,
          1e-06,
          1e-06,
          1e-06,
          1e-06
         ],
         "yaxis": "y"
        },
        {
         "hovertemplate": "variable=__init__()<br>Total Cells=%{x:.2f}<br>value=%{y:.2e}<extra></extra>",
         "legendgroup": "__init__()",
         "line": {
          "color": "#636efa",
          "dash": "solid",
          "width": 2
         },
         "marker": {
          "symbol": "circle"
         },
         "mode": "lines",
         "name": "__init__()",
         "orientation": "v",
         "showlegend": true,
         "type": "scatter",
         "x": [
          25,
          625,
          1200,
          1200,
          2500,
          5625,
          10000
         ],
         "xaxis": "x",
         "y": [
          1e-05,
          5e-05,
          0.0008,
          0.0001,
          0.00015,
          0.0006,
          0.0007
         ],
         "yaxis": "y"
        },
        {
         "hovertemplate": "variable=initCells()<br>Total Cells=%{x:.2f}<br>value=%{y:.2e}<extra></extra>",
         "legendgroup": "initCells()",
         "line": {
          "color": "#EF553B",
          "dash": "dot",
          "width": 2
         },
         "marker": {
          "symbol": "circle"
         },
         "mode": "lines",
         "name": "initCells()",
         "orientation": "v",
         "showlegend": true,
         "type": "scatter",
         "x": [
          25,
          625,
          1200,
          1200,
          2500,
          5625,
          10000
         ],
         "xaxis": "x",
         "y": [
          0.0001,
          0.002,
          0.004,
          0.004,
          0.007,
          0.015,
          0.03
         ],
         "yaxis": "y"
        },
        {
         "hovertemplate": "variable=addWall()<br>Total Cells=%{x:.2f}<br>value=%{y:.2e}<extra></extra>",
         "legendgroup": "addWall()",
         "line": {
          "color": "#00cc96",
          "dash": "dash",
          "width": 2
         },
         "marker": {
          "symbol": "circle"
         },
         "mode": "lines",
         "name": "addWall()",
         "orientation": "v",
         "showlegend": true,
         "type": "scatter",
         "x": [
          25,
          625,
          1200,
          1200,
          2500,
          5625,
          10000
         ],
         "xaxis": "x",
         "y": [
          1e-06,
          1e-06,
          1e-06,
          1e-06,
          1e-06,
          1e-06,
          1e-06
         ],
         "yaxis": "y"
        },
        {
         "hovertemplate": "variable=removeWall()<br>Total Cells=%{x:.2f}<br>value=%{y:.2e}<extra></extra>",
         "legendgroup": "removeWall()",
         "line": {
          "color": "#ab63fa",
          "dash": "longdash",
          "width": 2
         },
         "marker": {
          "symbol": "circle"
         },
         "mode": "lines",
         "name": "removeWall()",
         "orientation": "v",
         "showlegend": true,
         "type": "scatter",
         "x": [
          25,
          625,
          1200,
          1200,
          2500,
          5625,
          10000
         ],
         "xaxis": "x",
         "y": [
          1e-06,
          1e-06,
          1e-06,
          1e-06,
          1e-06,
          1e-06,
          1e-06
         ],
         "yaxis": "y"
        },
        {
         "hovertemplate": "variable=hasWall()<br>Total Cells=%{x:.2f}<br>value=%{y:.2e}<extra></extra>",
         "legendgroup": "hasWall()",
         "line": {
          "color": "#FFA15A",
          "dash": "dashdot",
          "width": 2
         },
         "marker": {
          "symbol": "circle"
         },
         "mode": "lines",
         "name": "hasWall()",
         "orientation": "v",
         "showlegend": true,
         "type": "scatter",
         "x": [
          25,
          625,
          1200,
          1200,
          2500,
          5625,
          10000
         ],
         "xaxis": "x",
         "y": [
          1e-06,
          1e-06,
          1e-06,
          1e-06,
          1e-06,
          1e-06,
          1e-06
         ],
         "yaxis": "y"
        },
        {
         "hovertemplate": "variable=neighbours()<br>Total Cells=%{x:.2f}<br>value=%{y:.2e}<extra></extra>",
         "legendgroup": "neighbours()",
         "line": {
          "color": "#19d3f3",
          "dash": "longdashdot",
          "width": 2
         },
         "marker": {
          "symbol": "circle"
         },
         "mode": "lines",
         "name": "neighbours()",
         "orientation": "v",
         "showlegend": true,
         "type": "scatter",
         "x": [
          25,
          625,
          1200,
          1200,
          2500,
          5625,
          10000
         ],
         "xaxis": "x",
         "y": [
          1e-06,
          1e-06,
          1e-06,
          1e-06,
          1e-06,
          1e-06,
          1e-06
         ],
         "yaxis": "y"
        }
       ],
       "layout": {
        "autosize": true,
        "hoverlabel": {
         "namelength": -1
        },
        "legend": {
         "title": {
          "text": "Function"
         }
        },
        "template": {
         "data": {
          "bar": [
           {
            "error_x": {
             "color": "#2a3f5f"
            },
            "error_y": {
             "color": "#2a3f5f"
            },
            "marker": {
             "line": {
              "color": "#E5ECF6",
              "width": 0.5
             },
             "pattern": {
              "fillmode": "overlay",
              "size": 10,
              "solidity": 0.2
             }
            },
            "type": "bar"
           }
          ],
          "barpolar": [
           {
            "marker": {
             "line": {
              "color": "#E5ECF6",
              "width": 0.5
             },
             "pattern": {
              "fillmode": "overlay",
              "size": 10,
              "solidity": 0.2
             }
            },
            "type": "barpolar"
           }
          ],
          "carpet": [
           {
            "aaxis": {
             "endlinecolor": "#2a3f5f",
             "gridcolor": "white",
             "linecolor": "white",
             "minorgridcolor": "white",
             "startlinecolor": "#2a3f5f"
            },
            "baxis": {
             "endlinecolor": "#2a3f5f",
             "gridcolor": "white",
             "linecolor": "white",
             "minorgridcolor": "white",
             "startlinecolor": "#2a3f5f"
            },
            "type": "carpet"
           }
          ],
          "choropleth": [
           {
            "colorbar": {
             "outlinewidth": 0,
             "ticks": ""
            },
            "type": "choropleth"
           }
          ],
          "contour": [
           {
            "colorbar": {
             "outlinewidth": 0,
             "ticks": ""
            },
            "colorscale": [
             [
              0,
              "#0d0887"
             ],
             [
              0.1111111111111111,
              "#46039f"
             ],
             [
              0.2222222222222222,
              "#7201a8"
             ],
             [
              0.3333333333333333,
              "#9c179e"
             ],
             [
              0.4444444444444444,
              "#bd3786"
             ],
             [
              0.5555555555555556,
              "#d8576b"
             ],
             [
              0.6666666666666666,
              "#ed7953"
             ],
             [
              0.7777777777777778,
              "#fb9f3a"
             ],
             [
              0.8888888888888888,
              "#fdca26"
             ],
             [
              1,
              "#f0f921"
             ]
            ],
            "type": "contour"
           }
          ],
          "contourcarpet": [
           {
            "colorbar": {
             "outlinewidth": 0,
             "ticks": ""
            },
            "type": "contourcarpet"
           }
          ],
          "heatmap": [
           {
            "colorbar": {
             "outlinewidth": 0,
             "ticks": ""
            },
            "colorscale": [
             [
              0,
              "#0d0887"
             ],
             [
              0.1111111111111111,
              "#46039f"
             ],
             [
              0.2222222222222222,
              "#7201a8"
             ],
             [
              0.3333333333333333,
              "#9c179e"
             ],
             [
              0.4444444444444444,
              "#bd3786"
             ],
             [
              0.5555555555555556,
              "#d8576b"
             ],
             [
              0.6666666666666666,
              "#ed7953"
             ],
             [
              0.7777777777777778,
              "#fb9f3a"
             ],
             [
              0.8888888888888888,
              "#fdca26"
             ],
             [
              1,
              "#f0f921"
             ]
            ],
            "type": "heatmap"
           }
          ],
          "heatmapgl": [
           {
            "colorbar": {
             "outlinewidth": 0,
             "ticks": ""
            },
            "colorscale": [
             [
              0,
              "#0d0887"
             ],
             [
              0.1111111111111111,
              "#46039f"
             ],
             [
              0.2222222222222222,
              "#7201a8"
             ],
             [
              0.3333333333333333,
              "#9c179e"
             ],
             [
              0.4444444444444444,
              "#bd3786"
             ],
             [
              0.5555555555555556,
              "#d8576b"
             ],
             [
              0.6666666666666666,
              "#ed7953"
             ],
             [
              0.7777777777777778,
              "#fb9f3a"
             ],
             [
              0.8888888888888888,
              "#fdca26"
             ],
             [
              1,
              "#f0f921"
             ]
            ],
            "type": "heatmapgl"
           }
          ],
          "histogram": [
           {
            "marker": {
             "pattern": {
              "fillmode": "overlay",
              "size": 10,
              "solidity": 0.2
             }
            },
            "type": "histogram"
           }
          ],
          "histogram2d": [
           {
            "colorbar": {
             "outlinewidth": 0,
             "ticks": ""
            },
            "colorscale": [
             [
              0,
              "#0d0887"
             ],
             [
              0.1111111111111111,
              "#46039f"
             ],
             [
              0.2222222222222222,
              "#7201a8"
             ],
             [
              0.3333333333333333,
              "#9c179e"
             ],
             [
              0.4444444444444444,
              "#bd3786"
             ],
             [
              0.5555555555555556,
              "#d8576b"
             ],
             [
              0.6666666666666666,
              "#ed7953"
             ],
             [
              0.7777777777777778,
              "#fb9f3a"
             ],
             [
              0.8888888888888888,
              "#fdca26"
             ],
             [
              1,
              "#f0f921"
             ]
            ],
            "type": "histogram2d"
           }
          ],
          "histogram2dcontour": [
           {
            "colorbar": {
             "outlinewidth": 0,
             "ticks": ""
            },
            "colorscale": [
             [
              0,
              "#0d0887"
             ],
             [
              0.1111111111111111,
              "#46039f"
             ],
             [
              0.2222222222222222,
              "#7201a8"
             ],
             [
              0.3333333333333333,
              "#9c179e"
             ],
             [
              0.4444444444444444,
              "#bd3786"
             ],
             [
              0.5555555555555556,
              "#d8576b"
             ],
             [
              0.6666666666666666,
              "#ed7953"
             ],
             [
              0.7777777777777778,
              "#fb9f3a"
             ],
             [
              0.8888888888888888,
              "#fdca26"
             ],
             [
              1,
              "#f0f921"
             ]
            ],
            "type": "histogram2dcontour"
           }
          ],
          "mesh3d": [
           {
            "colorbar": {
             "outlinewidth": 0,
             "ticks": ""
            },
            "type": "mesh3d"
           }
          ],
          "parcoords": [
           {
            "line": {
             "colorbar": {
              "outlinewidth": 0,
              "ticks": ""
             }
            },
            "type": "parcoords"
           }
          ],
          "pie": [
           {
            "automargin": true,
            "type": "pie"
           }
          ],
          "scatter": [
           {
            "fillpattern": {
             "fillmode": "overlay",
             "size": 10,
             "solidity": 0.2
            },
            "type": "scatter"
           }
          ],
          "scatter3d": [
           {
            "line": {
             "colorbar": {
              "outlinewidth": 0,
              "ticks": ""
             }
            },
            "marker": {
             "colorbar": {
              "outlinewidth": 0,
              "ticks": ""
             }
            },
            "type": "scatter3d"
           }
          ],
          "scattercarpet": [
           {
            "marker": {
             "colorbar": {
              "outlinewidth": 0,
              "ticks": ""
             }
            },
            "type": "scattercarpet"
           }
          ],
          "scattergeo": [
           {
            "marker": {
             "colorbar": {
              "outlinewidth": 0,
              "ticks": ""
             }
            },
            "type": "scattergeo"
           }
          ],
          "scattergl": [
           {
            "marker": {
             "colorbar": {
              "outlinewidth": 0,
              "ticks": ""
             }
            },
            "type": "scattergl"
           }
          ],
          "scattermapbox": [
           {
            "marker": {
             "colorbar": {
              "outlinewidth": 0,
              "ticks": ""
             }
            },
            "type": "scattermapbox"
           }
          ],
          "scatterpolar": [
           {
            "marker": {
             "colorbar": {
              "outlinewidth": 0,
              "ticks": ""
             }
            },
            "type": "scatterpolar"
           }
          ],
          "scatterpolargl": [
           {
            "marker": {
             "colorbar": {
              "outlinewidth": 0,
              "ticks": ""
             }
            },
            "type": "scatterpolargl"
           }
          ],
          "scatterternary": [
           {
            "marker": {
             "colorbar": {
              "outlinewidth": 0,
              "ticks": ""
             }
            },
            "type": "scatterternary"
           }
          ],
          "surface": [
           {
            "colorbar": {
             "outlinewidth": 0,
             "ticks": ""
            },
            "colorscale": [
             [
              0,
              "#0d0887"
             ],
             [
              0.1111111111111111,
              "#46039f"
             ],
             [
              0.2222222222222222,
              "#7201a8"
             ],
             [
              0.3333333333333333,
              "#9c179e"
             ],
             [
              0.4444444444444444,
              "#bd3786"
             ],
             [
              0.5555555555555556,
              "#d8576b"
             ],
             [
              0.6666666666666666,
              "#ed7953"
             ],
             [
              0.7777777777777778,
              "#fb9f3a"
             ],
             [
              0.8888888888888888,
              "#fdca26"
             ],
             [
              1,
              "#f0f921"
             ]
            ],
            "type": "surface"
           }
          ],
          "table": [
           {
            "cells": {
             "fill": {
              "color": "#EBF0F8"
             },
             "line": {
              "color": "white"
             }
            },
            "header": {
             "fill": {
              "color": "#C8D4E3"
             },
             "line": {
              "color": "white"
             }
            },
            "type": "table"
           }
          ]
         },
         "layout": {
          "annotationdefaults": {
           "arrowcolor": "#2a3f5f",
           "arrowhead": 0,
           "arrowwidth": 1
          },
          "autotypenumbers": "strict",
          "coloraxis": {
           "colorbar": {
            "outlinewidth": 0,
            "ticks": ""
           }
          },
          "colorscale": {
           "diverging": [
            [
             0,
             "#8e0152"
            ],
            [
             0.1,
             "#c51b7d"
            ],
            [
             0.2,
             "#de77ae"
            ],
            [
             0.3,
             "#f1b6da"
            ],
            [
             0.4,
             "#fde0ef"
            ],
            [
             0.5,
             "#f7f7f7"
            ],
            [
             0.6,
             "#e6f5d0"
            ],
            [
             0.7,
             "#b8e186"
            ],
            [
             0.8,
             "#7fbc41"
            ],
            [
             0.9,
             "#4d9221"
            ],
            [
             1,
             "#276419"
            ]
           ],
           "sequential": [
            [
             0,
             "#0d0887"
            ],
            [
             0.1111111111111111,
             "#46039f"
            ],
            [
             0.2222222222222222,
             "#7201a8"
            ],
            [
             0.3333333333333333,
             "#9c179e"
            ],
            [
             0.4444444444444444,
             "#bd3786"
            ],
            [
             0.5555555555555556,
             "#d8576b"
            ],
            [
             0.6666666666666666,
             "#ed7953"
            ],
            [
             0.7777777777777778,
             "#fb9f3a"
            ],
            [
             0.8888888888888888,
             "#fdca26"
            ],
            [
             1,
             "#f0f921"
            ]
           ],
           "sequentialminus": [
            [
             0,
             "#0d0887"
            ],
            [
             0.1111111111111111,
             "#46039f"
            ],
            [
             0.2222222222222222,
             "#7201a8"
            ],
            [
             0.3333333333333333,
             "#9c179e"
            ],
            [
             0.4444444444444444,
             "#bd3786"
            ],
            [
             0.5555555555555556,
             "#d8576b"
            ],
            [
             0.6666666666666666,
             "#ed7953"
            ],
            [
             0.7777777777777778,
             "#fb9f3a"
            ],
            [
             0.8888888888888888,
             "#fdca26"
            ],
            [
             1,
             "#f0f921"
            ]
           ]
          },
          "colorway": [
           "#636efa",
           "#EF553B",
           "#00cc96",
           "#ab63fa",
           "#FFA15A",
           "#19d3f3",
           "#FF6692",
           "#B6E880",
           "#FF97FF",
           "#FECB52"
          ],
          "font": {
           "color": "#2a3f5f"
          },
          "geo": {
           "bgcolor": "white",
           "lakecolor": "white",
           "landcolor": "#E5ECF6",
           "showlakes": true,
           "showland": true,
           "subunitcolor": "white"
          },
          "hoverlabel": {
           "align": "left"
          },
          "hovermode": "closest",
          "mapbox": {
           "style": "light"
          },
          "paper_bgcolor": "white",
          "plot_bgcolor": "#E5ECF6",
          "polar": {
           "angularaxis": {
            "gridcolor": "white",
            "linecolor": "white",
            "ticks": ""
           },
           "bgcolor": "#E5ECF6",
           "radialaxis": {
            "gridcolor": "white",
            "linecolor": "white",
            "ticks": ""
           }
          },
          "scene": {
           "xaxis": {
            "backgroundcolor": "#E5ECF6",
            "gridcolor": "white",
            "gridwidth": 2,
            "linecolor": "white",
            "showbackground": true,
            "ticks": "",
            "zerolinecolor": "white"
           },
           "yaxis": {
            "backgroundcolor": "#E5ECF6",
            "gridcolor": "white",
            "gridwidth": 2,
            "linecolor": "white",
            "showbackground": true,
            "ticks": "",
            "zerolinecolor": "white"
           },
           "zaxis": {
            "backgroundcolor": "#E5ECF6",
            "gridcolor": "white",
            "gridwidth": 2,
            "linecolor": "white",
            "showbackground": true,
            "ticks": "",
            "zerolinecolor": "white"
           }
          },
          "shapedefaults": {
           "line": {
            "color": "#2a3f5f"
           }
          },
          "ternary": {
           "aaxis": {
            "gridcolor": "white",
            "linecolor": "white",
            "ticks": ""
           },
           "baxis": {
            "gridcolor": "white",
            "linecolor": "white",
            "ticks": ""
           },
           "bgcolor": "#E5ECF6",
           "caxis": {
            "gridcolor": "white",
            "linecolor": "white",
            "ticks": ""
           }
          },
          "title": {
           "x": 0.05
          },
          "xaxis": {
           "automargin": true,
           "gridcolor": "white",
           "linecolor": "white",
           "ticks": "",
           "title": {
            "standoff": 15
           },
           "zerolinecolor": "white",
           "zerolinewidth": 2
          },
          "yaxis": {
           "automargin": true,
           "gridcolor": "white",
           "linecolor": "white",
           "ticks": "",
           "title": {
            "standoff": 15
           },
           "zerolinecolor": "white",
           "zerolinewidth": 2
          }
         }
        },
        "xaxis": {
         "autorange": true,
         "range": [
          -911.878453038674,
          10936.878453038675
         ],
         "title": {
          "text": "Total Cells"
         },
         "type": "linear"
        },
        "yaxis": {
         "range": [
          -6.1,
          0
         ],
         "tickformat": ".2e",
         "tickvals": [
          1e-07,
          1e-06,
          1e-05,
          0.0001,
          0.001,
          0.01,
          0.1,
          1
         ],
         "title": {
          "text": "Average Runtime (s)"
         },
         "type": "log"
        }
       }
      },
      "image/png": "[encoded data removed]",
      "text/html": [
       "<div>                            <div id=\"eb67846e-84b2-4cd1-8668-e5fda9466cfa\" class=\"plotly-graph-div\" style=\"height:525px; width:100%;\"></div>            <script type=\"text/javascript\">                require([\"plotly\"], function(Plotly) {                    window.PLOTLYENV=window.PLOTLYENV || {};                                    if (document.getElementById(\"eb67846e-84b2-4cd1-8668-e5fda9466cfa\")) {                    Plotly.newPlot(                        \"eb67846e-84b2-4cd1-8668-e5fda9466cfa\",                        [{\"hovertemplate\":\"variable=__init__()<br>Total Cells=%{x:.2f}<br>value=%{y:.2e}<extra></extra>\",\"legendgroup\":\"__init__()\",\"marker\":{\"color\":\"#636efa\",\"symbol\":\"circle\"},\"mode\":\"markers\",\"name\":\"__init__()\",\"orientation\":\"v\",\"showlegend\":true,\"x\":[25,625,1200,1200,2500,5625,10000],\"xaxis\":\"x\",\"y\":[1e-05,5e-05,0.0008,0.0001,0.00015,0.0006,0.0007],\"yaxis\":\"y\",\"type\":\"scatter\"},{\"hovertemplate\":\"variable=initCells()<br>Total Cells=%{x:.2f}<br>value=%{y:.2e}<extra></extra>\",\"legendgroup\":\"initCells()\",\"marker\":{\"color\":\"#EF553B\",\"symbol\":\"circle\"},\"mode\":\"markers\",\"name\":\"initCells()\",\"orientation\":\"v\",\"showlegend\":true,\"x\":[25,625,1200,1200,2500,5625,10000],\"xaxis\":\"x\",\"y\":[0.0001,0.002,0.004,0.004,0.007,0.015,0.03],\"yaxis\":\"y\",\"type\":\"scatter\"},{\"hovertemplate\":\"variable=addWall()<br>Total Cells=%{x:.2f}<br>value=%{y:.2e}<extra></extra>\",\"legendgroup\":\"addWall()\",\"marker\":{\"color\":\"#00cc96\",\"symbol\":\"circle\"},\"mode\":\"markers\",\"name\":\"addWall()\",\"orientation\":\"v\",\"showlegend\":true,\"x\":[25,625,1200,1200,2500,5625,10000],\"xaxis\":\"x\",\"y\":[1e-06,1e-06,1e-06,1e-06,1e-06,1e-06,1e-06],\"yaxis\":\"y\",\"type\":\"scatter\"},{\"hovertemplate\":\"variable=removeWall()<br>Total Cells=%{x:.2f}<br>value=%{y:.2e}<extra></extra>\",\"legendgroup\":\"removeWall()\",\"marker\":{\"color\":\"#ab63fa\",\"symbol\":\"circle\"},\"mode\":\"markers\",\"name\":\"removeWall()\",\"orientation\":\"v\",\"showlegend\":true,\"x\":[25,625,1200,1200,2500,5625,10000],\"xaxis\":\"x\",\"y\":[1e-06,1e-06,1e-06,1e-06,1e-06,1e-06,1e-06],\"yaxis\":\"y\",\"type\":\"scatter\"},{\"hovertemplate\":\"variable=hasWall()<br>Total Cells=%{x:.2f}<br>value=%{y:.2e}<extra></extra>\",\"legendgroup\":\"hasWall()\",\"marker\":{\"color\":\"#FFA15A\",\"symbol\":\"circle\"},\"mode\":\"markers\",\"name\":\"hasWall()\",\"orientation\":\"v\",\"showlegend\":true,\"x\":[25,625,1200,1200,2500,5625,10000],\"xaxis\":\"x\",\"y\":[1e-06,1e-06,1e-06,1e-06,1e-06,1e-06,1e-06],\"yaxis\":\"y\",\"type\":\"scatter\"},{\"hovertemplate\":\"variable=neighbours()<br>Total Cells=%{x:.2f}<br>value=%{y:.2e}<extra></extra>\",\"legendgroup\":\"neighbours()\",\"marker\":{\"color\":\"#19d3f3\",\"symbol\":\"circle\"},\"mode\":\"markers\",\"name\":\"neighbours()\",\"orientation\":\"v\",\"showlegend\":true,\"x\":[25,625,1200,1200,2500,5625,10000],\"xaxis\":\"x\",\"y\":[1e-06,1e-06,1e-06,1e-06,1e-06,1e-06,1e-06],\"yaxis\":\"y\",\"type\":\"scatter\"},{\"hovertemplate\":\"variable=__init__()<br>Total Cells=%{x:.2f}<br>value=%{y:.2e}<extra></extra>\",\"legendgroup\":\"__init__()\",\"line\":{\"color\":\"#636efa\",\"dash\":\"solid\",\"width\":2},\"marker\":{\"symbol\":\"circle\"},\"mode\":\"lines\",\"name\":\"__init__()\",\"orientation\":\"v\",\"showlegend\":true,\"x\":[25,625,1200,1200,2500,5625,10000],\"xaxis\":\"x\",\"y\":[1e-05,5e-05,0.0008,0.0001,0.00015,0.0006,0.0007],\"yaxis\":\"y\",\"type\":\"scatter\"},{\"hovertemplate\":\"variable=initCells()<br>Total Cells=%{x:.2f}<br>value=%{y:.2e}<extra></extra>\",\"legendgroup\":\"initCells()\",\"line\":{\"color\":\"#EF553B\",\"dash\":\"dot\",\"width\":2},\"marker\":{\"symbol\":\"circle\"},\"mode\":\"lines\",\"name\":\"initCells()\",\"orientation\":\"v\",\"showlegend\":true,\"x\":[25,625,1200,1200,2500,5625,10000],\"xaxis\":\"x\",\"y\":[0.0001,0.002,0.004,0.004,0.007,0.015,0.03],\"yaxis\":\"y\",\"type\":\"scatter\"},{\"hovertemplate\":\"variable=addWall()<br>Total Cells=%{x:.2f}<br>value=%{y:.2e}<extra></extra>\",\"legendgroup\":\"addWall()\",\"line\":{\"color\":\"#00cc96\",\"dash\":\"dash\",\"width\":2},\"marker\":{\"symbol\":\"circle\"},\"mode\":\"lines\",\"name\":\"addWall()\",\"orientation\":\"v\",\"showlegend\":true,\"x\":[25,625,1200,1200,2500,5625,10000],\"xaxis\":\"x\",\"y\":[1e-06,1e-06,1e-06,1e-06,1e-06,1e-06,1e-06],\"yaxis\":\"y\",\"type\":\"scatter\"},{\"hovertemplate\":\"variable=removeWall()<br>Total Cells=%{x:.2f}<br>value=%{y:.2e}<extra></extra>\",\"legendgroup\":\"removeWall()\",\"line\":{\"color\":\"#ab63fa\",\"dash\":\"longdash\",\"width\":2},\"marker\":{\"symbol\":\"circle\"},\"mode\":\"lines\",\"name\":\"removeWall()\",\"orientation\":\"v\",\"showlegend\":true,\"x\":[25,625,1200,1200,2500,5625,10000],\"xaxis\":\"x\",\"y\":[1e-06,1e-06,1e-06,1e-06,1e-06,1e-06,1e-06],\"yaxis\":\"y\",\"type\":\"scatter\"},{\"hovertemplate\":\"variable=hasWall()<br>Total Cells=%{x:.2f}<br>value=%{y:.2e}<extra></extra>\",\"legendgroup\":\"hasWall()\",\"line\":{\"color\":\"#FFA15A\",\"dash\":\"dashdot\",\"width\":2},\"marker\":{\"symbol\":\"circle\"},\"mode\":\"lines\",\"name\":\"hasWall()\",\"orientation\":\"v\",\"showlegend\":true,\"x\":[25,625,1200,1200,2500,5625,10000],\"xaxis\":\"x\",\"y\":[1e-06,1e-06,1e-06,1e-06,1e-06,1e-06,1e-06],\"yaxis\":\"y\",\"type\":\"scatter\"},{\"hovertemplate\":\"variable=neighbours()<br>Total Cells=%{x:.2f}<br>value=%{y:.2e}<extra></extra>\",\"legendgroup\":\"neighbours()\",\"line\":{\"color\":\"#19d3f3\",\"dash\":\"longdashdot\",\"width\":2},\"marker\":{\"symbol\":\"circle\"},\"mode\":\"lines\",\"name\":\"neighbours()\",\"orientation\":\"v\",\"showlegend\":true,\"x\":[25,625,1200,1200,2500,5625,10000],\"xaxis\":\"x\",\"y\":[1e-06,1e-06,1e-06,1e-06,1e-06,1e-06,1e-06],\"yaxis\":\"y\",\"type\":\"scatter\"}],                        {\"template\":{\"data\":{\"histogram2dcontour\":[{\"type\":\"histogram2dcontour\",\"colorbar\":{\"outlinewidth\":0,\"ticks\":\"\"},\"colorscale\":[[0.0,\"#0d0887\"],[0.1111111111111111,\"#46039f\"],[0.2222222222222222,\"#7201a8\"],[0.3333333333333333,\"#9c179e\"],[0.4444444444444444,\"#bd3786\"],[0.5555555555555556,\"#d8576b\"],[0.6666666666666666,\"#ed7953\"],[0.7777777777777778,\"#fb9f3a\"],[0.8888888888888888,\"#fdca26\"],[1.0,\"#f0f921\"]]}],\"choropleth\":[{\"type\":\"choropleth\",\"colorbar\":{\"outlinewidth\":0,\"ticks\":\"\"}}],\"histogram2d\":[{\"type\":\"histogram2d\",\"colorbar\":{\"outlinewidth\":0,\"ticks\":\"\"},\"colorscale\":[[0.0,\"#0d0887\"],[0.1111111111111111,\"#46039f\"],[0.2222222222222222,\"#7201a8\"],[0.3333333333333333,\"#9c179e\"],[0.4444444444444444,\"#bd3786\"],[0.5555555555555556,\"#d8576b\"],[0.6666666666666666,\"#ed7953\"],[0.7777777777777778,\"#fb9f3a\"],[0.8888888888888888,\"#fdca26\"],[1.0,\"#f0f921\"]]}],\"heatmap\":[{\"type\":\"heatmap\",\"colorbar\":{\"outlinewidth\":0,\"ticks\":\"\"},\"colorscale\":[[0.0,\"#0d0887\"],[0.1111111111111111,\"#46039f\"],[0.2222222222222222,\"#7201a8\"],[0.3333333333333333,\"#9c179e\"],[0.4444444444444444,\"#bd3786\"],[0.5555555555555556,\"#d8576b\"],[0.6666666666666666,\"#ed7953\"],[0.7777777777777778,\"#fb9f3a\"],[0.8888888888888888,\"#fdca26\"],[1.0,\"#f0f921\"]]}],\"heatmapgl\":[{\"type\":\"heatmapgl\",\"colorbar\":{\"outlinewidth\":0,\"ticks\":\"\"},\"colorscale\":[[0.0,\"#0d0887\"],[0.1111111111111111,\"#46039f\"],[0.2222222222222222,\"#7201a8\"],[0.3333333333333333,\"#9c179e\"],[0.4444444444444444,\"#bd3786\"],[0.5555555555555556,\"#d8576b\"],[0.6666666666666666,\"#ed7953\"],[0.7777777777777778,\"#fb9f3a\"],[0.8888888888888888,\"#fdca26\"],[1.0,\"#f0f921\"]]}],\"contourcarpet\":[{\"type\":\"contourcarpet\",\"colorbar\":{\"outlinewidth\":0,\"ticks\":\"\"}}],\"contour\":[{\"type\":\"contour\",\"colorbar\":{\"outlinewidth\":0,\"ticks\":\"\"},\"colorscale\":[[0.0,\"#0d0887\"],[0.1111111111111111,\"#46039f\"],[0.2222222222222222,\"#7201a8\"],[0.3333333333333333,\"#9c179e\"],[0.4444444444444444,\"#bd3786\"],[0.5555555555555556,\"#d8576b\"],[0.6666666666666666,\"#ed7953\"],[0.7777777777777778,\"#fb9f3a\"],[0.8888888888888888,\"#fdca26\"],[1.0,\"#f0f921\"]]}],\"surface\":[{\"type\":\"surface\",\"colorbar\":{\"outlinewidth\":0,\"ticks\":\"\"},\"colorscale\":[[0.0,\"#0d0887\"],[0.1111111111111111,\"#46039f\"],[0.2222222222222222,\"#7201a8\"],[0.3333333333333333,\"#9c179e\"],[0.4444444444444444,\"#bd3786\"],[0.5555555555555556,\"#d8576b\"],[0.6666666666666666,\"#ed7953\"],[0.7777777777777778,\"#fb9f3a\"],[0.8888888888888888,\"#fdca26\"],[1.0,\"#f0f921\"]]}],\"mesh3d\":[{\"type\":\"mesh3d\",\"colorbar\":{\"outlinewidth\":0,\"ticks\":\"\"}}],\"scatter\":[{\"fillpattern\":{\"fillmode\":\"overlay\",\"size\":10,\"solidity\":0.2},\"type\":\"scatter\"}],\"parcoords\":[{\"type\":\"parcoords\",\"line\":{\"colorbar\":{\"outlinewidth\":0,\"ticks\":\"\"}}}],\"scatterpolargl\":[{\"type\":\"scatterpolargl\",\"marker\":{\"colorbar\":{\"outlinewidth\":0,\"ticks\":\"\"}}}],\"bar\":[{\"error_x\":{\"color\":\"#2a3f5f\"},\"error_y\":{\"color\":\"#2a3f5f\"},\"marker\":{\"line\":{\"color\":\"#E5ECF6\",\"width\":0.5},\"pattern\":{\"fillmode\":\"overlay\",\"size\":10,\"solidity\":0.2}},\"type\":\"bar\"}],\"scattergeo\":[{\"type\":\"scattergeo\",\"marker\":{\"colorbar\":{\"outlinewidth\":0,\"ticks\":\"\"}}}],\"scatterpolar\":[{\"type\":\"scatterpolar\",\"marker\":{\"colorbar\":{\"outlinewidth\":0,\"ticks\":\"\"}}}],\"histogram\":[{\"marker\":{\"pattern\":{\"fillmode\":\"overlay\",\"size\":10,\"solidity\":0.2}},\"type\":\"histogram\"}],\"scattergl\":[{\"type\":\"scattergl\",\"marker\":{\"colorbar\":{\"outlinewidth\":0,\"ticks\":\"\"}}}],\"scatter3d\":[{\"type\":\"scatter3d\",\"line\":{\"colorbar\":{\"outlinewidth\":0,\"ticks\":\"\"}},\"marker\":{\"colorbar\":{\"outlinewidth\":0,\"ticks\":\"\"}}}],\"scattermapbox\":[{\"type\":\"scattermapbox\",\"marker\":{\"colorbar\":{\"outlinewidth\":0,\"ticks\":\"\"}}}],\"scatterternary\":[{\"type\":\"scatterternary\",\"marker\":{\"colorbar\":{\"outlinewidth\":0,\"ticks\":\"\"}}}],\"scattercarpet\":[{\"type\":\"scattercarpet\",\"marker\":{\"colorbar\":{\"outlinewidth\":0,\"ticks\":\"\"}}}],\"carpet\":[{\"aaxis\":{\"endlinecolor\":\"#2a3f5f\",\"gridcolor\":\"white\",\"linecolor\":\"white\",\"minorgridcolor\":\"white\",\"startlinecolor\":\"#2a3f5f\"},\"baxis\":{\"endlinecolor\":\"#2a3f5f\",\"gridcolor\":\"white\",\"linecolor\":\"white\",\"minorgridcolor\":\"white\",\"startlinecolor\":\"#2a3f5f\"},\"type\":\"carpet\"}],\"table\":[{\"cells\":{\"fill\":{\"color\":\"#EBF0F8\"},\"line\":{\"color\":\"white\"}},\"header\":{\"fill\":{\"color\":\"#C8D4E3\"},\"line\":{\"color\":\"white\"}},\"type\":\"table\"}],\"barpolar\":[{\"marker\":{\"line\":{\"color\":\"#E5ECF6\",\"width\":0.5},\"pattern\":{\"fillmode\":\"overlay\",\"size\":10,\"solidity\":0.2}},\"type\":\"barpolar\"}],\"pie\":[{\"automargin\":true,\"type\":\"pie\"}]},\"layout\":{\"autotypenumbers\":\"strict\",\"colorway\":[\"#636efa\",\"#EF553B\",\"#00cc96\",\"#ab63fa\",\"#FFA15A\",\"#19d3f3\",\"#FF6692\",\"#B6E880\",\"#FF97FF\",\"#FECB52\"],\"font\":{\"color\":\"#2a3f5f\"},\"hovermode\":\"closest\",\"hoverlabel\":{\"align\":\"left\"},\"paper_bgcolor\":\"white\",\"plot_bgcolor\":\"#E5ECF6\",\"polar\":{\"bgcolor\":\"#E5ECF6\",\"angularaxis\":{\"gridcolor\":\"white\",\"linecolor\":\"white\",\"ticks\":\"\"},\"radialaxis\":{\"gridcolor\":\"white\",\"linecolor\":\"white\",\"ticks\":\"\"}},\"ternary\":{\"bgcolor\":\"#E5ECF6\",\"aaxis\":{\"gridcolor\":\"white\",\"linecolor\":\"white\",\"ticks\":\"\"},\"baxis\":{\"gridcolor\":\"white\",\"linecolor\":\"white\",\"ticks\":\"\"},\"caxis\":{\"gridcolor\":\"white\",\"linecolor\":\"white\",\"ticks\":\"\"}},\"coloraxis\":{\"colorbar\":{\"outlinewidth\":0,\"ticks\":\"\"}},\"colorscale\":{\"sequential\":[[0.0,\"#0d0887\"],[0.1111111111111111,\"#46039f\"],[0.2222222222222222,\"#7201a8\"],[0.3333333333333333,\"#9c179e\"],[0.4444444444444444,\"#bd3786\"],[0.5555555555555556,\"#d8576b\"],[0.6666666666666666,\"#ed7953\"],[0.7777777777777778,\"#fb9f3a\"],[0.8888888888888888,\"#fdca26\"],[1.0,\"#f0f921\"]],\"sequentialminus\":[[0.0,\"#0d0887\"],[0.1111111111111111,\"#46039f\"],[0.2222222222222222,\"#7201a8\"],[0.3333333333333333,\"#9c179e\"],[0.4444444444444444,\"#bd3786\"],[0.5555555555555556,\"#d8576b\"],[0.6666666666666666,\"#ed7953\"],[0.7777777777777778,\"#fb9f3a\"],[0.8888888888888888,\"#fdca26\"],[1.0,\"#f0f921\"]],\"diverging\":[[0,\"#8e0152\"],[0.1,\"#c51b7d\"],[0.2,\"#de77ae\"],[0.3,\"#f1b6da\"],[0.4,\"#fde0ef\"],[0.5,\"#f7f7f7\"],[0.6,\"#e6f5d0\"],[0.7,\"#b8e186\"],[0.8,\"#7fbc41\"],[0.9,\"#4d9221\"],[1,\"#276419\"]]},\"xaxis\":{\"gridcolor\":\"white\",\"linecolor\":\"white\",\"ticks\":\"\",\"title\":{\"standoff\":15},\"zerolinecolor\":\"white\",\"automargin\":true,\"zerolinewidth\":2},\"yaxis\":{\"gridcolor\":\"white\",\"linecolor\":\"white\",\"ticks\":\"\",\"title\":{\"standoff\":15},\"zerolinecolor\":\"white\",\"automargin\":true,\"zerolinewidth\":2},\"scene\":{\"xaxis\":{\"backgroundcolor\":\"#E5ECF6\",\"gridcolor\":\"white\",\"linecolor\":\"white\",\"showbackground\":true,\"ticks\":\"\",\"zerolinecolor\":\"white\",\"gridwidth\":2},\"yaxis\":{\"backgroundcolor\":\"#E5ECF6\",\"gridcolor\":\"white\",\"linecolor\":\"white\",\"showbackground\":true,\"ticks\":\"\",\"zerolinecolor\":\"white\",\"gridwidth\":2},\"zaxis\":{\"backgroundcolor\":\"#E5ECF6\",\"gridcolor\":\"white\",\"linecolor\":\"white\",\"showbackground\":true,\"ticks\":\"\",\"zerolinecolor\":\"white\",\"gridwidth\":2}},\"shapedefaults\":{\"line\":{\"color\":\"#2a3f5f\"}},\"annotationdefaults\":{\"arrowcolor\":\"#2a3f5f\",\"arrowhead\":0,\"arrowwidth\":1},\"geo\":{\"bgcolor\":\"white\",\"landcolor\":\"#E5ECF6\",\"subunitcolor\":\"white\",\"showland\":true,\"showlakes\":true,\"lakecolor\":\"white\"},\"title\":{\"x\":0.05},\"mapbox\":{\"style\":\"light\"}}},\"yaxis\":{\"title\":{\"text\":\"Average Runtime (s)\"},\"type\":\"log\",\"tickformat\":\".2e\",\"tickvals\":[1e-07,1e-06,1e-05,0.0001,0.001,0.01,0.1,1.0],\"range\":[-6.1,0]},\"hoverlabel\":{\"namelength\":-1},\"xaxis\":{\"title\":{\"text\":\"Total Cells\"}},\"legend\":{\"title\":{\"text\":\"Function\"}}},                        {\"responsive\": true}                    ).then(function(){\n",
       "                            \n",
       "var gd = document.getElementById('eb67846e-84b2-4cd1-8668-e5fda9466cfa');\n",
       "var x = new MutationObserver(function (mutations, observer) {{\n",
       "        var display = window.getComputedStyle(gd).display;\n",
       "        if (!display || display === 'none') {{\n",
       "            console.log([gd, 'removed!']);\n",
       "            Plotly.purge(gd);\n",
       "            observer.disconnect();\n",
       "        }}\n",
       "}});\n",
       "\n",
       "// Listen for the removal of the full notebook cells\n",
       "var notebookContainer = gd.closest('#notebook-container');\n",
       "if (notebookContainer) {{\n",
       "    x.observe(notebookContainer, {childList: true});\n",
       "}}\n",
       "\n",
       "// Listen for the clearing of the current output cell\n",
       "var outputEl = gd.closest('.output');\n",
       "if (outputEl) {{\n",
       "    x.observe(outputEl, {childList: true});\n",
       "}}\n",
       "\n",
       "                        })                };                });            </script>        </div>"
      ]
     },
     "metadata": {},
     "output_type": "display_data"
    }
   ],
   "source": [
    "import plotly.graph_objects as go\n",
    "import plotly.express as px\n",
    "\n",
    "# Specify the desired functions\n",
    "functions = ['__init__()', 'initCells()', 'addWall()', 'removeWall()', 'hasWall()', 'neighbours()']\n",
    "\n",
    "# Define line styles and widths for each function\n",
    "line_styles = ['solid', 'dot', 'dash', 'longdash', 'dashdot', 'longdashdot']\n",
    "line_widths = [2, 2, 2, 2, 2, 2]\n",
    "\n",
    "# Create the scatter plot\n",
    "fig_scatter = px.scatter(\n",
    "    data_frame=arrayFunctionsDF,\n",
    "    x='totalCells',\n",
    "    y=functions,\n",
    "    labels={'totalCells': 'Total Cells', '__init__()': '__init__()', 'initCells()': 'initCells()', 'addWall()': 'addWall()', 'removeWall()': 'removeWall()', 'hasWall()': 'hasWall()', 'neighbours()': 'neighbours()'},\n",
    "    title='Total Cells vs. Average Runtime for Selected Array Functions',\n",
    "    hover_data={'totalCells': ':.2f', 'value': ':.2e'}\n",
    ")\n",
    "\n",
    "# Create the line plot with different line styles and widths\n",
    "fig_line = px.line(\n",
    "    data_frame=arrayFunctionsDF,\n",
    "    x='totalCells',\n",
    "    y=functions,\n",
    "    labels={'totalCells': 'Total Cells', '__init__()': '__init__()', 'initCells()': 'initCells()', 'addWall()': 'addWall()', 'removeWall()': 'removeWall()', 'hasWall()': 'hasWall()', 'neighbours()': 'neighbours()'},\n",
    "    hover_data={'totalCells': ':.2f', 'value': ':.2e'}\n",
    ")\n",
    "\n",
    "# Combine the scatter and line plots\n",
    "fig_combine = go.Figure(data=fig_scatter.data + fig_line.data)\n",
    "\n",
    "# Update line styles and widths for each trace\n",
    "for i, trace in enumerate(fig_combine.data[len(functions):]):\n",
    "    trace.line.dash = line_styles[i]\n",
    "    trace.line.width = line_widths[i]\n",
    "\n",
    "# Update the layout with logarithmic y-axis and scientific notation\n",
    "fig_combine.update_layout(\n",
    "    xaxis_title='Total Cells',\n",
    "    yaxis_title='Average Runtime (s)',\n",
    "    legend_title='Function',\n",
    "    yaxis_type='log',\n",
    "    yaxis_tickformat='.2e',  # Display tick labels in scientific notation with 2 decimal places\n",
    "    yaxis_tickvals=[1e-7, 1e-6, 1e-5, 1e-4, 1e-3, 1e-2, 1e-1, 1e0],  # Custom tick values\n",
    "    yaxis_range=[-6.1, 0],  # Set the y-axis range to accommodate the custom tick values\n",
    "    hoverlabel=dict(namelength=-1)  # Display full hover labels\n",
    ")\n",
    "\n",
    "fig_combine.show()"
   ]
  },
  {
   "cell_type": "code",
   "execution_count": 82,
   "id": "bd900142-eee9-4423-9fa8-16448fd662f7",
   "metadata": {},
   "outputs": [
    {
     "data": {
      "application/vnd.plotly.v1+json": {
       "config": {
        "plotlyServerURL": "https://plot.ly"
       },
       "data": [
        {
         "hovertemplate": "variable=__init__() count<br>Total Cells=%{x}<br>value=%{y}<extra></extra>",
         "legendgroup": "__init__() count",
         "marker": {
          "color": "#636efa",
          "symbol": "circle"
         },
         "mode": "markers",
         "name": "__init__() count",
         "orientation": "v",
         "showlegend": true,
         "type": "scatter",
         "x": [
          25,
          625,
          1200,
          1200,
          2500,
          5625,
          10000
         ],
         "xaxis": "x",
         "y": [
          1,
          1,
          1,
          1,
          1,
          1,
          1
         ],
         "yaxis": "y"
        },
        {
         "hovertemplate": "variable=initCells() count<br>Total Cells=%{x}<br>value=%{y}<extra></extra>",
         "legendgroup": "initCells() count",
         "marker": {
          "color": "#EF553B",
          "symbol": "circle"
         },
         "mode": "markers",
         "name": "initCells() count",
         "orientation": "v",
         "showlegend": true,
         "type": "scatter",
         "x": [
          25,
          625,
          1200,
          1200,
          2500,
          5625,
          10000
         ],
         "xaxis": "x",
         "y": [
          1,
          1,
          1,
          1,
          1,
          1,
          1
         ],
         "yaxis": "y"
        },
        {
         "hovertemplate": "variable=addWall() count<br>Total Cells=%{x}<br>value=%{y}<extra></extra>",
         "legendgroup": "addWall() count",
         "marker": {
          "color": "#00cc96",
          "symbol": "circle"
         },
         "mode": "markers",
         "name": "addWall() count",
         "orientation": "v",
         "showlegend": true,
         "type": "scatter",
         "x": [
          25,
          625,
          1200,
          1200,
          2500,
          5625,
          10000
         ],
         "xaxis": "x",
         "y": [
          82,
          1402,
          2612,
          2612,
          5302,
          11702,
          20602
         ],
         "yaxis": "y"
        },
        {
         "hovertemplate": "variable=removeWall() count<br>Total Cells=%{x}<br>value=%{y}<extra></extra>",
         "legendgroup": "removeWall() count",
         "marker": {
          "color": "#ab63fa",
          "symbol": "circle"
         },
         "mode": "markers",
         "name": "removeWall() count",
         "orientation": "v",
         "showlegend": true,
         "type": "scatter",
         "x": [
          25,
          625,
          1200,
          1200,
          2500,
          5625,
          10000
         ],
         "xaxis": "x",
         "y": [
          28,
          628,
          1203,
          1203,
          2503,
          5628,
          10003
         ],
         "yaxis": "y"
        },
        {
         "hovertemplate": "variable=hasWall() count<br>Total Cells=%{x}<br>value=%{y}<extra></extra>",
         "legendgroup": "hasWall() count",
         "marker": {
          "color": "#FFA15A",
          "symbol": "circle"
         },
         "mode": "markers",
         "name": "hasWall() count",
         "orientation": "v",
         "showlegend": true,
         "type": "scatter",
         "x": [
          25,
          625,
          1200,
          1200,
          2500,
          5625,
          10000
         ],
         "xaxis": "x",
         "y": [
          60,
          1300,
          2470,
          2470,
          5100,
          11400,
          20200
         ],
         "yaxis": "y"
        },
        {
         "hovertemplate": "variable=neighbours() count<br>Total Cells=%{x}<br>value=%{y}<extra></extra>",
         "legendgroup": "neighbours() count",
         "marker": {
          "color": "#19d3f3",
          "symbol": "circle"
         },
         "mode": "markers",
         "name": "neighbours() count",
         "orientation": "v",
         "showlegend": true,
         "type": "scatter",
         "x": [
          25,
          625,
          1200,
          1200,
          2500,
          5625,
          10000
         ],
         "xaxis": "x",
         "y": [
          43,
          1213,
          2313,
          2364,
          4981,
          11232,
          19886
         ],
         "yaxis": "y"
        },
        {
         "hovertemplate": "variable=__init__() count<br>Total Cells=%{x}<br>value=%{y}<extra></extra>",
         "legendgroup": "__init__() count",
         "line": {
          "color": "#636efa",
          "dash": "solid",
          "width": 2
         },
         "marker": {
          "symbol": "circle"
         },
         "mode": "lines",
         "name": "__init__() count",
         "orientation": "v",
         "showlegend": true,
         "type": "scatter",
         "x": [
          25,
          625,
          1200,
          1200,
          2500,
          5625,
          10000
         ],
         "xaxis": "x",
         "y": [
          1,
          1,
          1,
          1,
          1,
          1,
          1
         ],
         "yaxis": "y"
        },
        {
         "hovertemplate": "variable=initCells() count<br>Total Cells=%{x}<br>value=%{y}<extra></extra>",
         "legendgroup": "initCells() count",
         "line": {
          "color": "#EF553B",
          "dash": "dot",
          "width": 2
         },
         "marker": {
          "symbol": "circle"
         },
         "mode": "lines",
         "name": "initCells() count",
         "orientation": "v",
         "showlegend": true,
         "type": "scatter",
         "x": [
          25,
          625,
          1200,
          1200,
          2500,
          5625,
          10000
         ],
         "xaxis": "x",
         "y": [
          1,
          1,
          1,
          1,
          1,
          1,
          1
         ],
         "yaxis": "y"
        },
        {
         "hovertemplate": "variable=addWall() count<br>Total Cells=%{x}<br>value=%{y}<extra></extra>",
         "legendgroup": "addWall() count",
         "line": {
          "color": "#00cc96",
          "dash": "dash",
          "width": 2
         },
         "marker": {
          "symbol": "circle"
         },
         "mode": "lines",
         "name": "addWall() count",
         "orientation": "v",
         "showlegend": true,
         "type": "scatter",
         "x": [
          25,
          625,
          1200,
          1200,
          2500,
          5625,
          10000
         ],
         "xaxis": "x",
         "y": [
          82,
          1402,
          2612,
          2612,
          5302,
          11702,
          20602
         ],
         "yaxis": "y"
        },
        {
         "hovertemplate": "variable=removeWall() count<br>Total Cells=%{x}<br>value=%{y}<extra></extra>",
         "legendgroup": "removeWall() count",
         "line": {
          "color": "#ab63fa",
          "dash": "longdash",
          "width": 2
         },
         "marker": {
          "symbol": "circle"
         },
         "mode": "lines",
         "name": "removeWall() count",
         "orientation": "v",
         "showlegend": true,
         "type": "scatter",
         "x": [
          25,
          625,
          1200,
          1200,
          2500,
          5625,
          10000
         ],
         "xaxis": "x",
         "y": [
          28,
          628,
          1203,
          1203,
          2503,
          5628,
          10003
         ],
         "yaxis": "y"
        },
        {
         "hovertemplate": "variable=hasWall() count<br>Total Cells=%{x}<br>value=%{y}<extra></extra>",
         "legendgroup": "hasWall() count",
         "line": {
          "color": "#FFA15A",
          "dash": "dashdot",
          "width": 2
         },
         "marker": {
          "symbol": "circle"
         },
         "mode": "lines",
         "name": "hasWall() count",
         "orientation": "v",
         "showlegend": true,
         "type": "scatter",
         "x": [
          25,
          625,
          1200,
          1200,
          2500,
          5625,
          10000
         ],
         "xaxis": "x",
         "y": [
          60,
          1300,
          2470,
          2470,
          5100,
          11400,
          20200
         ],
         "yaxis": "y"
        },
        {
         "hovertemplate": "variable=neighbours() count<br>Total Cells=%{x}<br>value=%{y}<extra></extra>",
         "legendgroup": "neighbours() count",
         "line": {
          "color": "#19d3f3",
          "dash": "longdashdot",
          "width": 2
         },
         "marker": {
          "symbol": "circle"
         },
         "mode": "lines",
         "name": "neighbours() count",
         "orientation": "v",
         "showlegend": true,
         "type": "scatter",
         "x": [
          25,
          625,
          1200,
          1200,
          2500,
          5625,
          10000
         ],
         "xaxis": "x",
         "y": [
          43,
          1213,
          2313,
          2364,
          4981,
          11232,
          19886
         ],
         "yaxis": "y"
        }
       ],
       "layout": {
        "autosize": true,
        "hoverlabel": {
         "namelength": -1
        },
        "legend": {
         "title": {
          "text": "Function"
         }
        },
        "template": {
         "data": {
          "bar": [
           {
            "error_x": {
             "color": "#2a3f5f"
            },
            "error_y": {
             "color": "#2a3f5f"
            },
            "marker": {
             "line": {
              "color": "#E5ECF6",
              "width": 0.5
             },
             "pattern": {
              "fillmode": "overlay",
              "size": 10,
              "solidity": 0.2
             }
            },
            "type": "bar"
           }
          ],
          "barpolar": [
           {
            "marker": {
             "line": {
              "color": "#E5ECF6",
              "width": 0.5
             },
             "pattern": {
              "fillmode": "overlay",
              "size": 10,
              "solidity": 0.2
             }
            },
            "type": "barpolar"
           }
          ],
          "carpet": [
           {
            "aaxis": {
             "endlinecolor": "#2a3f5f",
             "gridcolor": "white",
             "linecolor": "white",
             "minorgridcolor": "white",
             "startlinecolor": "#2a3f5f"
            },
            "baxis": {
             "endlinecolor": "#2a3f5f",
             "gridcolor": "white",
             "linecolor": "white",
             "minorgridcolor": "white",
             "startlinecolor": "#2a3f5f"
            },
            "type": "carpet"
           }
          ],
          "choropleth": [
           {
            "colorbar": {
             "outlinewidth": 0,
             "ticks": ""
            },
            "type": "choropleth"
           }
          ],
          "contour": [
           {
            "colorbar": {
             "outlinewidth": 0,
             "ticks": ""
            },
            "colorscale": [
             [
              0,
              "#0d0887"
             ],
             [
              0.1111111111111111,
              "#46039f"
             ],
             [
              0.2222222222222222,
              "#7201a8"
             ],
             [
              0.3333333333333333,
              "#9c179e"
             ],
             [
              0.4444444444444444,
              "#bd3786"
             ],
             [
              0.5555555555555556,
              "#d8576b"
             ],
             [
              0.6666666666666666,
              "#ed7953"
             ],
             [
              0.7777777777777778,
              "#fb9f3a"
             ],
             [
              0.8888888888888888,
              "#fdca26"
             ],
             [
              1,
              "#f0f921"
             ]
            ],
            "type": "contour"
           }
          ],
          "contourcarpet": [
           {
            "colorbar": {
             "outlinewidth": 0,
             "ticks": ""
            },
            "type": "contourcarpet"
           }
          ],
          "heatmap": [
           {
            "colorbar": {
             "outlinewidth": 0,
             "ticks": ""
            },
            "colorscale": [
             [
              0,
              "#0d0887"
             ],
             [
              0.1111111111111111,
              "#46039f"
             ],
             [
              0.2222222222222222,
              "#7201a8"
             ],
             [
              0.3333333333333333,
              "#9c179e"
             ],
             [
              0.4444444444444444,
              "#bd3786"
             ],
             [
              0.5555555555555556,
              "#d8576b"
             ],
             [
              0.6666666666666666,
              "#ed7953"
             ],
             [
              0.7777777777777778,
              "#fb9f3a"
             ],
             [
              0.8888888888888888,
              "#fdca26"
             ],
             [
              1,
              "#f0f921"
             ]
            ],
            "type": "heatmap"
           }
          ],
          "heatmapgl": [
           {
            "colorbar": {
             "outlinewidth": 0,
             "ticks": ""
            },
            "colorscale": [
             [
              0,
              "#0d0887"
             ],
             [
              0.1111111111111111,
              "#46039f"
             ],
             [
              0.2222222222222222,
              "#7201a8"
             ],
             [
              0.3333333333333333,
              "#9c179e"
             ],
             [
              0.4444444444444444,
              "#bd3786"
             ],
             [
              0.5555555555555556,
              "#d8576b"
             ],
             [
              0.6666666666666666,
              "#ed7953"
             ],
             [
              0.7777777777777778,
              "#fb9f3a"
             ],
             [
              0.8888888888888888,
              "#fdca26"
             ],
             [
              1,
              "#f0f921"
             ]
            ],
            "type": "heatmapgl"
           }
          ],
          "histogram": [
           {
            "marker": {
             "pattern": {
              "fillmode": "overlay",
              "size": 10,
              "solidity": 0.2
             }
            },
            "type": "histogram"
           }
          ],
          "histogram2d": [
           {
            "colorbar": {
             "outlinewidth": 0,
             "ticks": ""
            },
            "colorscale": [
             [
              0,
              "#0d0887"
             ],
             [
              0.1111111111111111,
              "#46039f"
             ],
             [
              0.2222222222222222,
              "#7201a8"
             ],
             [
              0.3333333333333333,
              "#9c179e"
             ],
             [
              0.4444444444444444,
              "#bd3786"
             ],
             [
              0.5555555555555556,
              "#d8576b"
             ],
             [
              0.6666666666666666,
              "#ed7953"
             ],
             [
              0.7777777777777778,
              "#fb9f3a"
             ],
             [
              0.8888888888888888,
              "#fdca26"
             ],
             [
              1,
              "#f0f921"
             ]
            ],
            "type": "histogram2d"
           }
          ],
          "histogram2dcontour": [
           {
            "colorbar": {
             "outlinewidth": 0,
             "ticks": ""
            },
            "colorscale": [
             [
              0,
              "#0d0887"
             ],
             [
              0.1111111111111111,
              "#46039f"
             ],
             [
              0.2222222222222222,
              "#7201a8"
             ],
             [
              0.3333333333333333,
              "#9c179e"
             ],
             [
              0.4444444444444444,
              "#bd3786"
             ],
             [
              0.5555555555555556,
              "#d8576b"
             ],
             [
              0.6666666666666666,
              "#ed7953"
             ],
             [
              0.7777777777777778,
              "#fb9f3a"
             ],
             [
              0.8888888888888888,
              "#fdca26"
             ],
             [
              1,
              "#f0f921"
             ]
            ],
            "type": "histogram2dcontour"
           }
          ],
          "mesh3d": [
           {
            "colorbar": {
             "outlinewidth": 0,
             "ticks": ""
            },
            "type": "mesh3d"
           }
          ],
          "parcoords": [
           {
            "line": {
             "colorbar": {
              "outlinewidth": 0,
              "ticks": ""
             }
            },
            "type": "parcoords"
           }
          ],
          "pie": [
           {
            "automargin": true,
            "type": "pie"
           }
          ],
          "scatter": [
           {
            "fillpattern": {
             "fillmode": "overlay",
             "size": 10,
             "solidity": 0.2
            },
            "type": "scatter"
           }
          ],
          "scatter3d": [
           {
            "line": {
             "colorbar": {
              "outlinewidth": 0,
              "ticks": ""
             }
            },
            "marker": {
             "colorbar": {
              "outlinewidth": 0,
              "ticks": ""
             }
            },
            "type": "scatter3d"
           }
          ],
          "scattercarpet": [
           {
            "marker": {
             "colorbar": {
              "outlinewidth": 0,
              "ticks": ""
             }
            },
            "type": "scattercarpet"
           }
          ],
          "scattergeo": [
           {
            "marker": {
             "colorbar": {
              "outlinewidth": 0,
              "ticks": ""
             }
            },
            "type": "scattergeo"
           }
          ],
          "scattergl": [
           {
            "marker": {
             "colorbar": {
              "outlinewidth": 0,
              "ticks": ""
             }
            },
            "type": "scattergl"
           }
          ],
          "scattermapbox": [
           {
            "marker": {
             "colorbar": {
              "outlinewidth": 0,
              "ticks": ""
             }
            },
            "type": "scattermapbox"
           }
          ],
          "scatterpolar": [
           {
            "marker": {
             "colorbar": {
              "outlinewidth": 0,
              "ticks": ""
             }
            },
            "type": "scatterpolar"
           }
          ],
          "scatterpolargl": [
           {
            "marker": {
             "colorbar": {
              "outlinewidth": 0,
              "ticks": ""
             }
            },
            "type": "scatterpolargl"
           }
          ],
          "scatterternary": [
           {
            "marker": {
             "colorbar": {
              "outlinewidth": 0,
              "ticks": ""
             }
            },
            "type": "scatterternary"
           }
          ],
          "surface": [
           {
            "colorbar": {
             "outlinewidth": 0,
             "ticks": ""
            },
            "colorscale": [
             [
              0,
              "#0d0887"
             ],
             [
              0.1111111111111111,
              "#46039f"
             ],
             [
              0.2222222222222222,
              "#7201a8"
             ],
             [
              0.3333333333333333,
              "#9c179e"
             ],
             [
              0.4444444444444444,
              "#bd3786"
             ],
             [
              0.5555555555555556,
              "#d8576b"
             ],
             [
              0.6666666666666666,
              "#ed7953"
             ],
             [
              0.7777777777777778,
              "#fb9f3a"
             ],
             [
              0.8888888888888888,
              "#fdca26"
             ],
             [
              1,
              "#f0f921"
             ]
            ],
            "type": "surface"
           }
          ],
          "table": [
           {
            "cells": {
             "fill": {
              "color": "#EBF0F8"
             },
             "line": {
              "color": "white"
             }
            },
            "header": {
             "fill": {
              "color": "#C8D4E3"
             },
             "line": {
              "color": "white"
             }
            },
            "type": "table"
           }
          ]
         },
         "layout": {
          "annotationdefaults": {
           "arrowcolor": "#2a3f5f",
           "arrowhead": 0,
           "arrowwidth": 1
          },
          "autotypenumbers": "strict",
          "coloraxis": {
           "colorbar": {
            "outlinewidth": 0,
            "ticks": ""
           }
          },
          "colorscale": {
           "diverging": [
            [
             0,
             "#8e0152"
            ],
            [
             0.1,
             "#c51b7d"
            ],
            [
             0.2,
             "#de77ae"
            ],
            [
             0.3,
             "#f1b6da"
            ],
            [
             0.4,
             "#fde0ef"
            ],
            [
             0.5,
             "#f7f7f7"
            ],
            [
             0.6,
             "#e6f5d0"
            ],
            [
             0.7,
             "#b8e186"
            ],
            [
             0.8,
             "#7fbc41"
            ],
            [
             0.9,
             "#4d9221"
            ],
            [
             1,
             "#276419"
            ]
           ],
           "sequential": [
            [
             0,
             "#0d0887"
            ],
            [
             0.1111111111111111,
             "#46039f"
            ],
            [
             0.2222222222222222,
             "#7201a8"
            ],
            [
             0.3333333333333333,
             "#9c179e"
            ],
            [
             0.4444444444444444,
             "#bd3786"
            ],
            [
             0.5555555555555556,
             "#d8576b"
            ],
            [
             0.6666666666666666,
             "#ed7953"
            ],
            [
             0.7777777777777778,
             "#fb9f3a"
            ],
            [
             0.8888888888888888,
             "#fdca26"
            ],
            [
             1,
             "#f0f921"
            ]
           ],
           "sequentialminus": [
            [
             0,
             "#0d0887"
            ],
            [
             0.1111111111111111,
             "#46039f"
            ],
            [
             0.2222222222222222,
             "#7201a8"
            ],
            [
             0.3333333333333333,
             "#9c179e"
            ],
            [
             0.4444444444444444,
             "#bd3786"
            ],
            [
             0.5555555555555556,
             "#d8576b"
            ],
            [
             0.6666666666666666,
             "#ed7953"
            ],
            [
             0.7777777777777778,
             "#fb9f3a"
            ],
            [
             0.8888888888888888,
             "#fdca26"
            ],
            [
             1,
             "#f0f921"
            ]
           ]
          },
          "colorway": [
           "#636efa",
           "#EF553B",
           "#00cc96",
           "#ab63fa",
           "#FFA15A",
           "#19d3f3",
           "#FF6692",
           "#B6E880",
           "#FF97FF",
           "#FECB52"
          ],
          "font": {
           "color": "#2a3f5f"
          },
          "geo": {
           "bgcolor": "white",
           "lakecolor": "white",
           "landcolor": "#E5ECF6",
           "showlakes": true,
           "showland": true,
           "subunitcolor": "white"
          },
          "hoverlabel": {
           "align": "left"
          },
          "hovermode": "closest",
          "mapbox": {
           "style": "light"
          },
          "paper_bgcolor": "white",
          "plot_bgcolor": "#E5ECF6",
          "polar": {
           "angularaxis": {
            "gridcolor": "white",
            "linecolor": "white",
            "ticks": ""
           },
           "bgcolor": "#E5ECF6",
           "radialaxis": {
            "gridcolor": "white",
            "linecolor": "white",
            "ticks": ""
           }
          },
          "scene": {
           "xaxis": {
            "backgroundcolor": "#E5ECF6",
            "gridcolor": "white",
            "gridwidth": 2,
            "linecolor": "white",
            "showbackground": true,
            "ticks": "",
            "zerolinecolor": "white"
           },
           "yaxis": {
            "backgroundcolor": "#E5ECF6",
            "gridcolor": "white",
            "gridwidth": 2,
            "linecolor": "white",
            "showbackground": true,
            "ticks": "",
            "zerolinecolor": "white"
           },
           "zaxis": {
            "backgroundcolor": "#E5ECF6",
            "gridcolor": "white",
            "gridwidth": 2,
            "linecolor": "white",
            "showbackground": true,
            "ticks": "",
            "zerolinecolor": "white"
           }
          },
          "shapedefaults": {
           "line": {
            "color": "#2a3f5f"
           }
          },
          "ternary": {
           "aaxis": {
            "gridcolor": "white",
            "linecolor": "white",
            "ticks": ""
           },
           "baxis": {
            "gridcolor": "white",
            "linecolor": "white",
            "ticks": ""
           },
           "bgcolor": "#E5ECF6",
           "caxis": {
            "gridcolor": "white",
            "linecolor": "white",
            "ticks": ""
           }
          },
          "title": {
           "x": 0.05
          },
          "xaxis": {
           "automargin": true,
           "gridcolor": "white",
           "linecolor": "white",
           "ticks": "",
           "title": {
            "standoff": 15
           },
           "zerolinecolor": "white",
           "zerolinewidth": 2
          },
          "yaxis": {
           "automargin": true,
           "gridcolor": "white",
           "linecolor": "white",
           "ticks": "",
           "title": {
            "standoff": 15
           },
           "zerolinecolor": "white",
           "zerolinewidth": 2
          }
         }
        },
        "xaxis": {
         "autorange": true,
         "range": [
          -1038.5110294117646,
          11063.511029411764
         ],
         "title": {
          "text": "Total Cells"
         },
         "type": "linear"
        },
        "yaxis": {
         "autorange": true,
         "range": [
          -0.3560022306223281,
          4.669911613457598
         ],
         "tickvals": [
          0,
          1,
          50,
          100,
          1000,
          5000,
          10000,
          20000
         ],
         "title": {
          "text": "Function Call Count"
         },
         "type": "log"
        }
       }
      },
      "image/png": "[encoded data removed]",
      "text/html": [
       "<div>                            <div id=\"df71fc9d-905f-4720-8a21-54a1f5340a4b\" class=\"plotly-graph-div\" style=\"height:525px; width:100%;\"></div>            <script type=\"text/javascript\">                require([\"plotly\"], function(Plotly) {                    window.PLOTLYENV=window.PLOTLYENV || {};                                    if (document.getElementById(\"df71fc9d-905f-4720-8a21-54a1f5340a4b\")) {                    Plotly.newPlot(                        \"df71fc9d-905f-4720-8a21-54a1f5340a4b\",                        [{\"hovertemplate\":\"variable=__init__() count<br>Total Cells=%{x}<br>value=%{y}<extra></extra>\",\"legendgroup\":\"__init__() count\",\"marker\":{\"color\":\"#636efa\",\"symbol\":\"circle\"},\"mode\":\"markers\",\"name\":\"__init__() count\",\"orientation\":\"v\",\"showlegend\":true,\"x\":[25,625,1200,1200,2500,5625,10000],\"xaxis\":\"x\",\"y\":[1,1,1,1,1,1,1],\"yaxis\":\"y\",\"type\":\"scatter\"},{\"hovertemplate\":\"variable=initCells() count<br>Total Cells=%{x}<br>value=%{y}<extra></extra>\",\"legendgroup\":\"initCells() count\",\"marker\":{\"color\":\"#EF553B\",\"symbol\":\"circle\"},\"mode\":\"markers\",\"name\":\"initCells() count\",\"orientation\":\"v\",\"showlegend\":true,\"x\":[25,625,1200,1200,2500,5625,10000],\"xaxis\":\"x\",\"y\":[1,1,1,1,1,1,1],\"yaxis\":\"y\",\"type\":\"scatter\"},{\"hovertemplate\":\"variable=addWall() count<br>Total Cells=%{x}<br>value=%{y}<extra></extra>\",\"legendgroup\":\"addWall() count\",\"marker\":{\"color\":\"#00cc96\",\"symbol\":\"circle\"},\"mode\":\"markers\",\"name\":\"addWall() count\",\"orientation\":\"v\",\"showlegend\":true,\"x\":[25,625,1200,1200,2500,5625,10000],\"xaxis\":\"x\",\"y\":[82,1402,2612,2612,5302,11702,20602],\"yaxis\":\"y\",\"type\":\"scatter\"},{\"hovertemplate\":\"variable=removeWall() count<br>Total Cells=%{x}<br>value=%{y}<extra></extra>\",\"legendgroup\":\"removeWall() count\",\"marker\":{\"color\":\"#ab63fa\",\"symbol\":\"circle\"},\"mode\":\"markers\",\"name\":\"removeWall() count\",\"orientation\":\"v\",\"showlegend\":true,\"x\":[25,625,1200,1200,2500,5625,10000],\"xaxis\":\"x\",\"y\":[28,628,1203,1203,2503,5628,10003],\"yaxis\":\"y\",\"type\":\"scatter\"},{\"hovertemplate\":\"variable=hasWall() count<br>Total Cells=%{x}<br>value=%{y}<extra></extra>\",\"legendgroup\":\"hasWall() count\",\"marker\":{\"color\":\"#FFA15A\",\"symbol\":\"circle\"},\"mode\":\"markers\",\"name\":\"hasWall() count\",\"orientation\":\"v\",\"showlegend\":true,\"x\":[25,625,1200,1200,2500,5625,10000],\"xaxis\":\"x\",\"y\":[60,1300,2470,2470,5100,11400,20200],\"yaxis\":\"y\",\"type\":\"scatter\"},{\"hovertemplate\":\"variable=neighbours() count<br>Total Cells=%{x}<br>value=%{y}<extra></extra>\",\"legendgroup\":\"neighbours() count\",\"marker\":{\"color\":\"#19d3f3\",\"symbol\":\"circle\"},\"mode\":\"markers\",\"name\":\"neighbours() count\",\"orientation\":\"v\",\"showlegend\":true,\"x\":[25,625,1200,1200,2500,5625,10000],\"xaxis\":\"x\",\"y\":[43,1213,2313,2364,4981,11232,19886],\"yaxis\":\"y\",\"type\":\"scatter\"},{\"hovertemplate\":\"variable=__init__() count<br>Total Cells=%{x}<br>value=%{y}<extra></extra>\",\"legendgroup\":\"__init__() count\",\"line\":{\"color\":\"#636efa\",\"dash\":\"solid\",\"width\":2},\"marker\":{\"symbol\":\"circle\"},\"mode\":\"lines\",\"name\":\"__init__() count\",\"orientation\":\"v\",\"showlegend\":true,\"x\":[25,625,1200,1200,2500,5625,10000],\"xaxis\":\"x\",\"y\":[1,1,1,1,1,1,1],\"yaxis\":\"y\",\"type\":\"scatter\"},{\"hovertemplate\":\"variable=initCells() count<br>Total Cells=%{x}<br>value=%{y}<extra></extra>\",\"legendgroup\":\"initCells() count\",\"line\":{\"color\":\"#EF553B\",\"dash\":\"dot\",\"width\":2},\"marker\":{\"symbol\":\"circle\"},\"mode\":\"lines\",\"name\":\"initCells() count\",\"orientation\":\"v\",\"showlegend\":true,\"x\":[25,625,1200,1200,2500,5625,10000],\"xaxis\":\"x\",\"y\":[1,1,1,1,1,1,1],\"yaxis\":\"y\",\"type\":\"scatter\"},{\"hovertemplate\":\"variable=addWall() count<br>Total Cells=%{x}<br>value=%{y}<extra></extra>\",\"legendgroup\":\"addWall() count\",\"line\":{\"color\":\"#00cc96\",\"dash\":\"dash\",\"width\":2},\"marker\":{\"symbol\":\"circle\"},\"mode\":\"lines\",\"name\":\"addWall() count\",\"orientation\":\"v\",\"showlegend\":true,\"x\":[25,625,1200,1200,2500,5625,10000],\"xaxis\":\"x\",\"y\":[82,1402,2612,2612,5302,11702,20602],\"yaxis\":\"y\",\"type\":\"scatter\"},{\"hovertemplate\":\"variable=removeWall() count<br>Total Cells=%{x}<br>value=%{y}<extra></extra>\",\"legendgroup\":\"removeWall() count\",\"line\":{\"color\":\"#ab63fa\",\"dash\":\"longdash\",\"width\":2},\"marker\":{\"symbol\":\"circle\"},\"mode\":\"lines\",\"name\":\"removeWall() count\",\"orientation\":\"v\",\"showlegend\":true,\"x\":[25,625,1200,1200,2500,5625,10000],\"xaxis\":\"x\",\"y\":[28,628,1203,1203,2503,5628,10003],\"yaxis\":\"y\",\"type\":\"scatter\"},{\"hovertemplate\":\"variable=hasWall() count<br>Total Cells=%{x}<br>value=%{y}<extra></extra>\",\"legendgroup\":\"hasWall() count\",\"line\":{\"color\":\"#FFA15A\",\"dash\":\"dashdot\",\"width\":2},\"marker\":{\"symbol\":\"circle\"},\"mode\":\"lines\",\"name\":\"hasWall() count\",\"orientation\":\"v\",\"showlegend\":true,\"x\":[25,625,1200,1200,2500,5625,10000],\"xaxis\":\"x\",\"y\":[60,1300,2470,2470,5100,11400,20200],\"yaxis\":\"y\",\"type\":\"scatter\"},{\"hovertemplate\":\"variable=neighbours() count<br>Total Cells=%{x}<br>value=%{y}<extra></extra>\",\"legendgroup\":\"neighbours() count\",\"line\":{\"color\":\"#19d3f3\",\"dash\":\"longdashdot\",\"width\":2},\"marker\":{\"symbol\":\"circle\"},\"mode\":\"lines\",\"name\":\"neighbours() count\",\"orientation\":\"v\",\"showlegend\":true,\"x\":[25,625,1200,1200,2500,5625,10000],\"xaxis\":\"x\",\"y\":[43,1213,2313,2364,4981,11232,19886],\"yaxis\":\"y\",\"type\":\"scatter\"}],                        {\"template\":{\"data\":{\"histogram2dcontour\":[{\"type\":\"histogram2dcontour\",\"colorbar\":{\"outlinewidth\":0,\"ticks\":\"\"},\"colorscale\":[[0.0,\"#0d0887\"],[0.1111111111111111,\"#46039f\"],[0.2222222222222222,\"#7201a8\"],[0.3333333333333333,\"#9c179e\"],[0.4444444444444444,\"#bd3786\"],[0.5555555555555556,\"#d8576b\"],[0.6666666666666666,\"#ed7953\"],[0.7777777777777778,\"#fb9f3a\"],[0.8888888888888888,\"#fdca26\"],[1.0,\"#f0f921\"]]}],\"choropleth\":[{\"type\":\"choropleth\",\"colorbar\":{\"outlinewidth\":0,\"ticks\":\"\"}}],\"histogram2d\":[{\"type\":\"histogram2d\",\"colorbar\":{\"outlinewidth\":0,\"ticks\":\"\"},\"colorscale\":[[0.0,\"#0d0887\"],[0.1111111111111111,\"#46039f\"],[0.2222222222222222,\"#7201a8\"],[0.3333333333333333,\"#9c179e\"],[0.4444444444444444,\"#bd3786\"],[0.5555555555555556,\"#d8576b\"],[0.6666666666666666,\"#ed7953\"],[0.7777777777777778,\"#fb9f3a\"],[0.8888888888888888,\"#fdca26\"],[1.0,\"#f0f921\"]]}],\"heatmap\":[{\"type\":\"heatmap\",\"colorbar\":{\"outlinewidth\":0,\"ticks\":\"\"},\"colorscale\":[[0.0,\"#0d0887\"],[0.1111111111111111,\"#46039f\"],[0.2222222222222222,\"#7201a8\"],[0.3333333333333333,\"#9c179e\"],[0.4444444444444444,\"#bd3786\"],[0.5555555555555556,\"#d8576b\"],[0.6666666666666666,\"#ed7953\"],[0.7777777777777778,\"#fb9f3a\"],[0.8888888888888888,\"#fdca26\"],[1.0,\"#f0f921\"]]}],\"heatmapgl\":[{\"type\":\"heatmapgl\",\"colorbar\":{\"outlinewidth\":0,\"ticks\":\"\"},\"colorscale\":[[0.0,\"#0d0887\"],[0.1111111111111111,\"#46039f\"],[0.2222222222222222,\"#7201a8\"],[0.3333333333333333,\"#9c179e\"],[0.4444444444444444,\"#bd3786\"],[0.5555555555555556,\"#d8576b\"],[0.6666666666666666,\"#ed7953\"],[0.7777777777777778,\"#fb9f3a\"],[0.8888888888888888,\"#fdca26\"],[1.0,\"#f0f921\"]]}],\"contourcarpet\":[{\"type\":\"contourcarpet\",\"colorbar\":{\"outlinewidth\":0,\"ticks\":\"\"}}],\"contour\":[{\"type\":\"contour\",\"colorbar\":{\"outlinewidth\":0,\"ticks\":\"\"},\"colorscale\":[[0.0,\"#0d0887\"],[0.1111111111111111,\"#46039f\"],[0.2222222222222222,\"#7201a8\"],[0.3333333333333333,\"#9c179e\"],[0.4444444444444444,\"#bd3786\"],[0.5555555555555556,\"#d8576b\"],[0.6666666666666666,\"#ed7953\"],[0.7777777777777778,\"#fb9f3a\"],[0.8888888888888888,\"#fdca26\"],[1.0,\"#f0f921\"]]}],\"surface\":[{\"type\":\"surface\",\"colorbar\":{\"outlinewidth\":0,\"ticks\":\"\"},\"colorscale\":[[0.0,\"#0d0887\"],[0.1111111111111111,\"#46039f\"],[0.2222222222222222,\"#7201a8\"],[0.3333333333333333,\"#9c179e\"],[0.4444444444444444,\"#bd3786\"],[0.5555555555555556,\"#d8576b\"],[0.6666666666666666,\"#ed7953\"],[0.7777777777777778,\"#fb9f3a\"],[0.8888888888888888,\"#fdca26\"],[1.0,\"#f0f921\"]]}],\"mesh3d\":[{\"type\":\"mesh3d\",\"colorbar\":{\"outlinewidth\":0,\"ticks\":\"\"}}],\"scatter\":[{\"fillpattern\":{\"fillmode\":\"overlay\",\"size\":10,\"solidity\":0.2},\"type\":\"scatter\"}],\"parcoords\":[{\"type\":\"parcoords\",\"line\":{\"colorbar\":{\"outlinewidth\":0,\"ticks\":\"\"}}}],\"scatterpolargl\":[{\"type\":\"scatterpolargl\",\"marker\":{\"colorbar\":{\"outlinewidth\":0,\"ticks\":\"\"}}}],\"bar\":[{\"error_x\":{\"color\":\"#2a3f5f\"},\"error_y\":{\"color\":\"#2a3f5f\"},\"marker\":{\"line\":{\"color\":\"#E5ECF6\",\"width\":0.5},\"pattern\":{\"fillmode\":\"overlay\",\"size\":10,\"solidity\":0.2}},\"type\":\"bar\"}],\"scattergeo\":[{\"type\":\"scattergeo\",\"marker\":{\"colorbar\":{\"outlinewidth\":0,\"ticks\":\"\"}}}],\"scatterpolar\":[{\"type\":\"scatterpolar\",\"marker\":{\"colorbar\":{\"outlinewidth\":0,\"ticks\":\"\"}}}],\"histogram\":[{\"marker\":{\"pattern\":{\"fillmode\":\"overlay\",\"size\":10,\"solidity\":0.2}},\"type\":\"histogram\"}],\"scattergl\":[{\"type\":\"scattergl\",\"marker\":{\"colorbar\":{\"outlinewidth\":0,\"ticks\":\"\"}}}],\"scatter3d\":[{\"type\":\"scatter3d\",\"line\":{\"colorbar\":{\"outlinewidth\":0,\"ticks\":\"\"}},\"marker\":{\"colorbar\":{\"outlinewidth\":0,\"ticks\":\"\"}}}],\"scattermapbox\":[{\"type\":\"scattermapbox\",\"marker\":{\"colorbar\":{\"outlinewidth\":0,\"ticks\":\"\"}}}],\"scatterternary\":[{\"type\":\"scatterternary\",\"marker\":{\"colorbar\":{\"outlinewidth\":0,\"ticks\":\"\"}}}],\"scattercarpet\":[{\"type\":\"scattercarpet\",\"marker\":{\"colorbar\":{\"outlinewidth\":0,\"ticks\":\"\"}}}],\"carpet\":[{\"aaxis\":{\"endlinecolor\":\"#2a3f5f\",\"gridcolor\":\"white\",\"linecolor\":\"white\",\"minorgridcolor\":\"white\",\"startlinecolor\":\"#2a3f5f\"},\"baxis\":{\"endlinecolor\":\"#2a3f5f\",\"gridcolor\":\"white\",\"linecolor\":\"white\",\"minorgridcolor\":\"white\",\"startlinecolor\":\"#2a3f5f\"},\"type\":\"carpet\"}],\"table\":[{\"cells\":{\"fill\":{\"color\":\"#EBF0F8\"},\"line\":{\"color\":\"white\"}},\"header\":{\"fill\":{\"color\":\"#C8D4E3\"},\"line\":{\"color\":\"white\"}},\"type\":\"table\"}],\"barpolar\":[{\"marker\":{\"line\":{\"color\":\"#E5ECF6\",\"width\":0.5},\"pattern\":{\"fillmode\":\"overlay\",\"size\":10,\"solidity\":0.2}},\"type\":\"barpolar\"}],\"pie\":[{\"automargin\":true,\"type\":\"pie\"}]},\"layout\":{\"autotypenumbers\":\"strict\",\"colorway\":[\"#636efa\",\"#EF553B\",\"#00cc96\",\"#ab63fa\",\"#FFA15A\",\"#19d3f3\",\"#FF6692\",\"#B6E880\",\"#FF97FF\",\"#FECB52\"],\"font\":{\"color\":\"#2a3f5f\"},\"hovermode\":\"closest\",\"hoverlabel\":{\"align\":\"left\"},\"paper_bgcolor\":\"white\",\"plot_bgcolor\":\"#E5ECF6\",\"polar\":{\"bgcolor\":\"#E5ECF6\",\"angularaxis\":{\"gridcolor\":\"white\",\"linecolor\":\"white\",\"ticks\":\"\"},\"radialaxis\":{\"gridcolor\":\"white\",\"linecolor\":\"white\",\"ticks\":\"\"}},\"ternary\":{\"bgcolor\":\"#E5ECF6\",\"aaxis\":{\"gridcolor\":\"white\",\"linecolor\":\"white\",\"ticks\":\"\"},\"baxis\":{\"gridcolor\":\"white\",\"linecolor\":\"white\",\"ticks\":\"\"},\"caxis\":{\"gridcolor\":\"white\",\"linecolor\":\"white\",\"ticks\":\"\"}},\"coloraxis\":{\"colorbar\":{\"outlinewidth\":0,\"ticks\":\"\"}},\"colorscale\":{\"sequential\":[[0.0,\"#0d0887\"],[0.1111111111111111,\"#46039f\"],[0.2222222222222222,\"#7201a8\"],[0.3333333333333333,\"#9c179e\"],[0.4444444444444444,\"#bd3786\"],[0.5555555555555556,\"#d8576b\"],[0.6666666666666666,\"#ed7953\"],[0.7777777777777778,\"#fb9f3a\"],[0.8888888888888888,\"#fdca26\"],[1.0,\"#f0f921\"]],\"sequentialminus\":[[0.0,\"#0d0887\"],[0.1111111111111111,\"#46039f\"],[0.2222222222222222,\"#7201a8\"],[0.3333333333333333,\"#9c179e\"],[0.4444444444444444,\"#bd3786\"],[0.5555555555555556,\"#d8576b\"],[0.6666666666666666,\"#ed7953\"],[0.7777777777777778,\"#fb9f3a\"],[0.8888888888888888,\"#fdca26\"],[1.0,\"#f0f921\"]],\"diverging\":[[0,\"#8e0152\"],[0.1,\"#c51b7d\"],[0.2,\"#de77ae\"],[0.3,\"#f1b6da\"],[0.4,\"#fde0ef\"],[0.5,\"#f7f7f7\"],[0.6,\"#e6f5d0\"],[0.7,\"#b8e186\"],[0.8,\"#7fbc41\"],[0.9,\"#4d9221\"],[1,\"#276419\"]]},\"xaxis\":{\"gridcolor\":\"white\",\"linecolor\":\"white\",\"ticks\":\"\",\"title\":{\"standoff\":15},\"zerolinecolor\":\"white\",\"automargin\":true,\"zerolinewidth\":2},\"yaxis\":{\"gridcolor\":\"white\",\"linecolor\":\"white\",\"ticks\":\"\",\"title\":{\"standoff\":15},\"zerolinecolor\":\"white\",\"automargin\":true,\"zerolinewidth\":2},\"scene\":{\"xaxis\":{\"backgroundcolor\":\"#E5ECF6\",\"gridcolor\":\"white\",\"linecolor\":\"white\",\"showbackground\":true,\"ticks\":\"\",\"zerolinecolor\":\"white\",\"gridwidth\":2},\"yaxis\":{\"backgroundcolor\":\"#E5ECF6\",\"gridcolor\":\"white\",\"linecolor\":\"white\",\"showbackground\":true,\"ticks\":\"\",\"zerolinecolor\":\"white\",\"gridwidth\":2},\"zaxis\":{\"backgroundcolor\":\"#E5ECF6\",\"gridcolor\":\"white\",\"linecolor\":\"white\",\"showbackground\":true,\"ticks\":\"\",\"zerolinecolor\":\"white\",\"gridwidth\":2}},\"shapedefaults\":{\"line\":{\"color\":\"#2a3f5f\"}},\"annotationdefaults\":{\"arrowcolor\":\"#2a3f5f\",\"arrowhead\":0,\"arrowwidth\":1},\"geo\":{\"bgcolor\":\"white\",\"landcolor\":\"#E5ECF6\",\"subunitcolor\":\"white\",\"showland\":true,\"showlakes\":true,\"lakecolor\":\"white\"},\"title\":{\"x\":0.05},\"mapbox\":{\"style\":\"light\"}}},\"yaxis\":{\"title\":{\"text\":\"Function Call Count\"},\"type\":\"log\",\"tickvals\":[0,1,50,100,1000,5000,10000,20000]},\"hoverlabel\":{\"namelength\":-1},\"xaxis\":{\"title\":{\"text\":\"Total Cells\"}},\"legend\":{\"title\":{\"text\":\"Function\"}}},                        {\"responsive\": true}                    ).then(function(){\n",
       "                            \n",
       "var gd = document.getElementById('df71fc9d-905f-4720-8a21-54a1f5340a4b');\n",
       "var x = new MutationObserver(function (mutations, observer) {{\n",
       "        var display = window.getComputedStyle(gd).display;\n",
       "        if (!display || display === 'none') {{\n",
       "            console.log([gd, 'removed!']);\n",
       "            Plotly.purge(gd);\n",
       "            observer.disconnect();\n",
       "        }}\n",
       "}});\n",
       "\n",
       "// Listen for the removal of the full notebook cells\n",
       "var notebookContainer = gd.closest('#notebook-container');\n",
       "if (notebookContainer) {{\n",
       "    x.observe(notebookContainer, {childList: true});\n",
       "}}\n",
       "\n",
       "// Listen for the clearing of the current output cell\n",
       "var outputEl = gd.closest('.output');\n",
       "if (outputEl) {{\n",
       "    x.observe(outputEl, {childList: true});\n",
       "}}\n",
       "\n",
       "                        })                };                });            </script>        </div>"
      ]
     },
     "metadata": {},
     "output_type": "display_data"
    }
   ],
   "source": [
    "import plotly.graph_objects as go\n",
    "import plotly.express as px\n",
    "\n",
    "# Specify the desired functions\n",
    "functions = ['__init__() count', 'initCells() count', 'addWall() count', 'removeWall() count', 'hasWall() count', 'neighbours() count']\n",
    "\n",
    "# Define line styles and widths for each function\n",
    "line_styles = ['solid', 'dot', 'dash', 'longdash', 'dashdot', 'longdashdot']\n",
    "line_widths = [2, 2, 2, 2, 2, 2]\n",
    "\n",
    "# Create the scatter plot\n",
    "fig_scatter = px.scatter(\n",
    "    data_frame=arrayFunctionsDF,\n",
    "    x='totalCells',\n",
    "    y=functions,\n",
    "    labels={'totalCells': 'Total Cells', '__init__() count': '__init__() count', 'initCells() count': 'initCells() count', 'addWall() count': 'addWall() count', 'removeWall() count': 'removeWall() count', 'hasWall() count': 'hasWall() count', 'neighbours() count': 'neighbours() count'},\n",
    "    title='Total Cells vs. Function Call Count',\n",
    ")\n",
    "\n",
    "# Create the line plot with different line styles and widths\n",
    "fig_line = px.line(\n",
    "    data_frame=arrayFunctionsDF,\n",
    "    x='totalCells',\n",
    "    y=functions,\n",
    "    labels={'totalCells': 'Total Cells', '__init__() count': '__init__() count', 'initCells() count': 'initCells() count', 'addWall() count': 'addWall() count', 'removeWall() count': 'removeWall() count', 'hasWall() count': 'hasWall() count', 'neighbours() count': 'neighbours() count'},\n",
    ")\n",
    "\n",
    "# Combine the scatter and line plots\n",
    "fig_combine = go.Figure(data=fig_scatter.data + fig_line.data)\n",
    "\n",
    "# Update line styles and widths for each trace\n",
    "for i, trace in enumerate(fig_combine.data[len(functions):]):\n",
    "    trace.line.dash = line_styles[i]\n",
    "    trace.line.width = line_widths[i]\n",
    "\n",
    "# Update the layout with logarithmic y-axis and scientific notation\n",
    "fig_combine.update_layout(\n",
    "    xaxis_title='Total Cells',\n",
    "    yaxis_title='Function Call Count',\n",
    "    legend_title='Function',\n",
    "    yaxis_type='log',\n",
    "    yaxis_tickvals=[0, 1, 50, 100, 1000, 5000, 10000, 20000],  # Custom tick values\n",
    "    hoverlabel=dict(namelength=-1)  # Display full hover labels\n",
    ")\n",
    "\n",
    "fig_combine.show()"
   ]
  },
  {
   "cell_type": "code",
   "execution_count": 84,
   "id": "1e5ef6fa-4449-4b72-8c14-b01c80fda0e2",
   "metadata": {},
   "outputs": [
    {
     "data": {
      "text/html": [
       "<div>\n",
       "<style scoped>\n",
       "    .dataframe tbody tr th:only-of-type {\n",
       "        vertical-align: middle;\n",
       "    }\n",
       "\n",
       "    .dataframe tbody tr th {\n",
       "        vertical-align: top;\n",
       "    }\n",
       "\n",
       "    .dataframe thead th {\n",
       "        text-align: right;\n",
       "    }\n",
       "</style>\n",
       "<table border=\"1\" class=\"dataframe\">\n",
       "  <thead>\n",
       "    <tr style=\"text-align: right;\">\n",
       "      <th></th>\n",
       "      <th>configNo</th>\n",
       "      <th>mazeSize</th>\n",
       "      <th>totalCells</th>\n",
       "      <th>__init__()</th>\n",
       "      <th>__init__() count</th>\n",
       "      <th>addVertex()</th>\n",
       "      <th>addVertex() count</th>\n",
       "      <th>addVertices()</th>\n",
       "      <th>addVertices() count</th>\n",
       "      <th>addEdge()</th>\n",
       "      <th>...</th>\n",
       "      <th>removeEdge()</th>\n",
       "      <th>removeEdge() count</th>\n",
       "      <th>hasVertex()</th>\n",
       "      <th>hasVertex() count</th>\n",
       "      <th>hasEdge()</th>\n",
       "      <th>hasEdge() count</th>\n",
       "      <th>getWallStatus()</th>\n",
       "      <th>getWallStatus() count</th>\n",
       "      <th>neighbours()</th>\n",
       "      <th>neighbours() count</th>\n",
       "    </tr>\n",
       "  </thead>\n",
       "  <tbody>\n",
       "    <tr>\n",
       "      <th>0</th>\n",
       "      <td>1</td>\n",
       "      <td>5x5</td>\n",
       "      <td>25</td>\n",
       "      <td>0.000000</td>\n",
       "      <td>1</td>\n",
       "      <td>0.000005</td>\n",
       "      <td>45</td>\n",
       "      <td>0.00005</td>\n",
       "      <td>5</td>\n",
       "      <td>0.000002</td>\n",
       "      <td>...</td>\n",
       "      <td>NaN</td>\n",
       "      <td>0</td>\n",
       "      <td>NaN</td>\n",
       "      <td>0</td>\n",
       "      <td>0.000001</td>\n",
       "      <td>28</td>\n",
       "      <td>0.000003</td>\n",
       "      <td>60</td>\n",
       "      <td>0.000002</td>\n",
       "      <td>42</td>\n",
       "    </tr>\n",
       "    <tr>\n",
       "      <th>1</th>\n",
       "      <td>2</td>\n",
       "      <td>25x25</td>\n",
       "      <td>625</td>\n",
       "      <td>0.000001</td>\n",
       "      <td>1</td>\n",
       "      <td>0.000070</td>\n",
       "      <td>725</td>\n",
       "      <td>0.01000</td>\n",
       "      <td>5</td>\n",
       "      <td>0.000002</td>\n",
       "      <td>...</td>\n",
       "      <td>NaN</td>\n",
       "      <td>0</td>\n",
       "      <td>NaN</td>\n",
       "      <td>0</td>\n",
       "      <td>0.000001</td>\n",
       "      <td>628</td>\n",
       "      <td>0.000003</td>\n",
       "      <td>1300</td>\n",
       "      <td>0.000016</td>\n",
       "      <td>1203</td>\n",
       "    </tr>\n",
       "    <tr>\n",
       "      <th>2</th>\n",
       "      <td>3</td>\n",
       "      <td>40x30</td>\n",
       "      <td>1200</td>\n",
       "      <td>0.000001</td>\n",
       "      <td>1</td>\n",
       "      <td>0.000130</td>\n",
       "      <td>1340</td>\n",
       "      <td>0.04000</td>\n",
       "      <td>5</td>\n",
       "      <td>0.000002</td>\n",
       "      <td>...</td>\n",
       "      <td>NaN</td>\n",
       "      <td>0</td>\n",
       "      <td>NaN</td>\n",
       "      <td>0</td>\n",
       "      <td>0.000001</td>\n",
       "      <td>1203</td>\n",
       "      <td>0.000003</td>\n",
       "      <td>2470</td>\n",
       "      <td>0.000032</td>\n",
       "      <td>2375</td>\n",
       "    </tr>\n",
       "    <tr>\n",
       "      <th>3</th>\n",
       "      <td>4</td>\n",
       "      <td>30x40</td>\n",
       "      <td>1200</td>\n",
       "      <td>0.000001</td>\n",
       "      <td>1</td>\n",
       "      <td>0.000130</td>\n",
       "      <td>1340</td>\n",
       "      <td>0.04000</td>\n",
       "      <td>5</td>\n",
       "      <td>0.000002</td>\n",
       "      <td>...</td>\n",
       "      <td>NaN</td>\n",
       "      <td>0</td>\n",
       "      <td>NaN</td>\n",
       "      <td>0</td>\n",
       "      <td>0.000001</td>\n",
       "      <td>1203</td>\n",
       "      <td>0.000003</td>\n",
       "      <td>2470</td>\n",
       "      <td>0.000032</td>\n",
       "      <td>2375</td>\n",
       "    </tr>\n",
       "    <tr>\n",
       "      <th>4</th>\n",
       "      <td>5</td>\n",
       "      <td>50x50</td>\n",
       "      <td>2500</td>\n",
       "      <td>0.000001</td>\n",
       "      <td>1</td>\n",
       "      <td>0.000300</td>\n",
       "      <td>2700</td>\n",
       "      <td>0.14000</td>\n",
       "      <td>5</td>\n",
       "      <td>0.000002</td>\n",
       "      <td>...</td>\n",
       "      <td>NaN</td>\n",
       "      <td>0</td>\n",
       "      <td>NaN</td>\n",
       "      <td>0</td>\n",
       "      <td>0.000001</td>\n",
       "      <td>2503</td>\n",
       "      <td>0.000003</td>\n",
       "      <td>5100</td>\n",
       "      <td>0.000065</td>\n",
       "      <td>4962</td>\n",
       "    </tr>\n",
       "  </tbody>\n",
       "</table>\n",
       "<p>5 rows × 23 columns</p>\n",
       "</div>"
      ],
      "text/plain": [
       "   configNo mazeSize  totalCells  __init__()  __init__() count  addVertex()  \\\n",
       "0         1      5x5          25    0.000000                 1     0.000005   \n",
       "1         2    25x25         625    0.000001                 1     0.000070   \n",
       "2         3    40x30        1200    0.000001                 1     0.000130   \n",
       "3         4    30x40        1200    0.000001                 1     0.000130   \n",
       "4         5    50x50        2500    0.000001                 1     0.000300   \n",
       "\n",
       "   addVertex() count  addVertices()  addVertices() count  addEdge()  ...  \\\n",
       "0                 45        0.00005                    5   0.000002  ...   \n",
       "1                725        0.01000                    5   0.000002  ...   \n",
       "2               1340        0.04000                    5   0.000002  ...   \n",
       "3               1340        0.04000                    5   0.000002  ...   \n",
       "4               2700        0.14000                    5   0.000002  ...   \n",
       "\n",
       "   removeEdge()  removeEdge() count  hasVertex()  hasVertex() count  \\\n",
       "0           NaN                   0          NaN                  0   \n",
       "1           NaN                   0          NaN                  0   \n",
       "2           NaN                   0          NaN                  0   \n",
       "3           NaN                   0          NaN                  0   \n",
       "4           NaN                   0          NaN                  0   \n",
       "\n",
       "   hasEdge()  hasEdge() count  getWallStatus()  getWallStatus() count  \\\n",
       "0   0.000001               28         0.000003                     60   \n",
       "1   0.000001              628         0.000003                   1300   \n",
       "2   0.000001             1203         0.000003                   2470   \n",
       "3   0.000001             1203         0.000003                   2470   \n",
       "4   0.000001             2503         0.000003                   5100   \n",
       "\n",
       "   neighbours()  neighbours() count  \n",
       "0      0.000002                  42  \n",
       "1      0.000016                1203  \n",
       "2      0.000032                2375  \n",
       "3      0.000032                2375  \n",
       "4      0.000065                4962  \n",
       "\n",
       "[5 rows x 23 columns]"
      ]
     },
     "execution_count": 84,
     "metadata": {},
     "output_type": "execute_result"
    }
   ],
   "source": [
    "import pandas as pd\n",
    "\n",
    "adjMatFunctionsDF = pd.read_excel('dataGen/empiricalData.xlsx', sheet_name='adjMatFunctions')\n",
    "data.head()"
   ]
  },
  {
   "cell_type": "code",
   "execution_count": null,
   "id": "35effba5-59fb-4553-9d0a-547c3f77dc04",
   "metadata": {},
   "outputs": [],
   "source": []
  },
  {
   "cell_type": "code",
   "execution_count": 85,
   "id": "0f4afa18-46bc-4870-a757-d3e798d1b538",
   "metadata": {},
   "outputs": [
    {
     "data": {
      "text/html": [
       "<div>\n",
       "<style scoped>\n",
       "    .dataframe tbody tr th:only-of-type {\n",
       "        vertical-align: middle;\n",
       "    }\n",
       "\n",
       "    .dataframe tbody tr th {\n",
       "        vertical-align: top;\n",
       "    }\n",
       "\n",
       "    .dataframe thead th {\n",
       "        text-align: right;\n",
       "    }\n",
       "</style>\n",
       "<table border=\"1\" class=\"dataframe\">\n",
       "  <thead>\n",
       "    <tr style=\"text-align: right;\">\n",
       "      <th></th>\n",
       "      <th>configNo</th>\n",
       "      <th>mazeSize</th>\n",
       "      <th>totalCells</th>\n",
       "      <th>__init__()</th>\n",
       "      <th>__init__() count</th>\n",
       "      <th>addVertex()</th>\n",
       "      <th>addVertex() count</th>\n",
       "      <th>addVertices()</th>\n",
       "      <th>addVertices() count</th>\n",
       "      <th>addEdge()</th>\n",
       "      <th>...</th>\n",
       "      <th>removeEdge()</th>\n",
       "      <th>removeEdge() count</th>\n",
       "      <th>hasVertex()</th>\n",
       "      <th>hasVertex() count</th>\n",
       "      <th>hasEdge()</th>\n",
       "      <th>hasEdge() count</th>\n",
       "      <th>getWallStatus()</th>\n",
       "      <th>getWallStatus() count</th>\n",
       "      <th>neighbours()</th>\n",
       "      <th>neighbours() count</th>\n",
       "    </tr>\n",
       "  </thead>\n",
       "  <tbody>\n",
       "    <tr>\n",
       "      <th>0</th>\n",
       "      <td>1</td>\n",
       "      <td>5x5</td>\n",
       "      <td>25</td>\n",
       "      <td>0</td>\n",
       "      <td>1</td>\n",
       "      <td>0.000001</td>\n",
       "      <td>45</td>\n",
       "      <td>0.00001</td>\n",
       "      <td>5</td>\n",
       "      <td>0.000002</td>\n",
       "      <td>...</td>\n",
       "      <td>NaN</td>\n",
       "      <td>0</td>\n",
       "      <td>NaN</td>\n",
       "      <td>0</td>\n",
       "      <td>0.000002</td>\n",
       "      <td>28</td>\n",
       "      <td>0.000003</td>\n",
       "      <td>60</td>\n",
       "      <td>0.000001</td>\n",
       "      <td>30</td>\n",
       "    </tr>\n",
       "    <tr>\n",
       "      <th>1</th>\n",
       "      <td>2</td>\n",
       "      <td>25x25</td>\n",
       "      <td>625</td>\n",
       "      <td>0</td>\n",
       "      <td>1</td>\n",
       "      <td>0.000001</td>\n",
       "      <td>725</td>\n",
       "      <td>0.00014</td>\n",
       "      <td>5</td>\n",
       "      <td>0.000002</td>\n",
       "      <td>...</td>\n",
       "      <td>NaN</td>\n",
       "      <td>0</td>\n",
       "      <td>NaN</td>\n",
       "      <td>0</td>\n",
       "      <td>0.000002</td>\n",
       "      <td>628</td>\n",
       "      <td>0.000003</td>\n",
       "      <td>1300</td>\n",
       "      <td>0.000001</td>\n",
       "      <td>1213</td>\n",
       "    </tr>\n",
       "    <tr>\n",
       "      <th>2</th>\n",
       "      <td>3</td>\n",
       "      <td>40x30</td>\n",
       "      <td>1200</td>\n",
       "      <td>0</td>\n",
       "      <td>1</td>\n",
       "      <td>0.000001</td>\n",
       "      <td>1340</td>\n",
       "      <td>0.00033</td>\n",
       "      <td>5</td>\n",
       "      <td>0.000002</td>\n",
       "      <td>...</td>\n",
       "      <td>NaN</td>\n",
       "      <td>0</td>\n",
       "      <td>NaN</td>\n",
       "      <td>0</td>\n",
       "      <td>0.000002</td>\n",
       "      <td>1203</td>\n",
       "      <td>0.000003</td>\n",
       "      <td>2470</td>\n",
       "      <td>0.000001</td>\n",
       "      <td>2374</td>\n",
       "    </tr>\n",
       "    <tr>\n",
       "      <th>3</th>\n",
       "      <td>4</td>\n",
       "      <td>30x40</td>\n",
       "      <td>1200</td>\n",
       "      <td>0</td>\n",
       "      <td>1</td>\n",
       "      <td>0.000001</td>\n",
       "      <td>1340</td>\n",
       "      <td>0.00030</td>\n",
       "      <td>5</td>\n",
       "      <td>0.000002</td>\n",
       "      <td>...</td>\n",
       "      <td>NaN</td>\n",
       "      <td>0</td>\n",
       "      <td>NaN</td>\n",
       "      <td>0</td>\n",
       "      <td>0.000002</td>\n",
       "      <td>1203</td>\n",
       "      <td>0.000003</td>\n",
       "      <td>2470</td>\n",
       "      <td>0.000001</td>\n",
       "      <td>2386</td>\n",
       "    </tr>\n",
       "    <tr>\n",
       "      <th>4</th>\n",
       "      <td>5</td>\n",
       "      <td>50x50</td>\n",
       "      <td>2500</td>\n",
       "      <td>0</td>\n",
       "      <td>1</td>\n",
       "      <td>0.000001</td>\n",
       "      <td>2700</td>\n",
       "      <td>0.00050</td>\n",
       "      <td>5</td>\n",
       "      <td>0.000002</td>\n",
       "      <td>...</td>\n",
       "      <td>NaN</td>\n",
       "      <td>0</td>\n",
       "      <td>NaN</td>\n",
       "      <td>0</td>\n",
       "      <td>0.000002</td>\n",
       "      <td>2503</td>\n",
       "      <td>0.000003</td>\n",
       "      <td>5100</td>\n",
       "      <td>0.000001</td>\n",
       "      <td>4988</td>\n",
       "    </tr>\n",
       "  </tbody>\n",
       "</table>\n",
       "<p>5 rows × 23 columns</p>\n",
       "</div>"
      ],
      "text/plain": [
       "   configNo mazeSize  totalCells  __init__()  __init__() count  addVertex()  \\\n",
       "0         1      5x5          25           0                 1     0.000001   \n",
       "1         2    25x25         625           0                 1     0.000001   \n",
       "2         3    40x30        1200           0                 1     0.000001   \n",
       "3         4    30x40        1200           0                 1     0.000001   \n",
       "4         5    50x50        2500           0                 1     0.000001   \n",
       "\n",
       "   addVertex() count  addVertices()  addVertices() count  addEdge()  ...  \\\n",
       "0                 45        0.00001                    5   0.000002  ...   \n",
       "1                725        0.00014                    5   0.000002  ...   \n",
       "2               1340        0.00033                    5   0.000002  ...   \n",
       "3               1340        0.00030                    5   0.000002  ...   \n",
       "4               2700        0.00050                    5   0.000002  ...   \n",
       "\n",
       "   removeEdge()  removeEdge() count  hasVertex()  hasVertex() count  \\\n",
       "0           NaN                   0          NaN                  0   \n",
       "1           NaN                   0          NaN                  0   \n",
       "2           NaN                   0          NaN                  0   \n",
       "3           NaN                   0          NaN                  0   \n",
       "4           NaN                   0          NaN                  0   \n",
       "\n",
       "   hasEdge()  hasEdge() count  getWallStatus()  getWallStatus() count  \\\n",
       "0   0.000002               28         0.000003                     60   \n",
       "1   0.000002              628         0.000003                   1300   \n",
       "2   0.000002             1203         0.000003                   2470   \n",
       "3   0.000002             1203         0.000003                   2470   \n",
       "4   0.000002             2503         0.000003                   5100   \n",
       "\n",
       "   neighbours()  neighbours() count  \n",
       "0      0.000001                  30  \n",
       "1      0.000001                1213  \n",
       "2      0.000001                2374  \n",
       "3      0.000001                2386  \n",
       "4      0.000001                4988  \n",
       "\n",
       "[5 rows x 23 columns]"
      ]
     },
     "execution_count": 85,
     "metadata": {},
     "output_type": "execute_result"
    }
   ],
   "source": [
    "import pandas as pd\n",
    "\n",
    "adjListFunctionsDF = pd.read_excel('dataGen/empiricalData.xlsx', sheet_name='adjListFunctions')\n",
    "adjListFunctionsDF.head()"
   ]
  },
  {
   "cell_type": "code",
   "execution_count": null,
   "id": "9d4deeee-1a77-49fb-b10d-aaf10236f81b",
   "metadata": {},
   "outputs": [],
   "source": []
  },
  {
   "cell_type": "code",
   "execution_count": 97,
   "id": "9cc40109-1257-4afa-b4ad-a7b0abee4085",
   "metadata": {},
   "outputs": [
    {
     "data": {
      "application/vnd.plotly.v1+json": {
       "config": {
        "plotlyServerURL": "https://plot.ly"
       },
       "data": [
        {
         "hovertemplate": "Total Cells: %{x}<br>Average Runtime (s): %{y:.2e}",
         "legendgroup": "Array",
         "marker": {
          "color": "blue"
         },
         "mode": "markers",
         "name": "Array (Scatter)",
         "type": "scatter",
         "x": [
          25,
          625,
          1200,
          1200,
          2500,
          5625,
          10000
         ],
         "y": [
          1e-06,
          1e-06,
          1e-06,
          1e-06,
          1e-06,
          1e-06,
          1e-06
         ]
        },
        {
         "hovertemplate": "Total Cells: %{x}<br>Average Runtime (s): %{y:.2e}",
         "legendgroup": "Array",
         "line": {
          "color": "blue",
          "dash": "solid"
         },
         "mode": "lines",
         "name": "Array (Line)",
         "type": "scatter",
         "x": [
          25,
          625,
          1200,
          1200,
          2500,
          5625,
          10000
         ],
         "y": [
          1e-06,
          1e-06,
          1e-06,
          1e-06,
          1e-06,
          1e-06,
          1e-06
         ]
        },
        {
         "hovertemplate": "Total Cells: %{x}<br>Average Runtime (s): %{y:.2e}",
         "legendgroup": "Adjacency List",
         "marker": {
          "color": "green"
         },
         "mode": "markers",
         "name": "Adjacency List (Scatter)",
         "type": "scatter",
         "x": [
          25,
          625,
          1200,
          1200,
          2500,
          5625,
          10000
         ],
         "y": [
          1e-06,
          1e-06,
          1e-06,
          1e-06,
          1e-06,
          1e-06,
          1e-06
         ]
        },
        {
         "hovertemplate": "Total Cells: %{x}<br>Average Runtime (s): %{y:.2e}",
         "legendgroup": "Adjacency List",
         "line": {
          "color": "green",
          "dash": "dot"
         },
         "mode": "lines",
         "name": "Adjacency List (Line)",
         "type": "scatter",
         "x": [
          25,
          625,
          1200,
          1200,
          2500,
          5625,
          10000
         ],
         "y": [
          1e-06,
          1e-06,
          1e-06,
          1e-06,
          1e-06,
          1e-06,
          1e-06
         ]
        },
        {
         "hovertemplate": "Total Cells: %{x}<br>Average Runtime (s): %{y:.2e}",
         "legendgroup": "Adjacency Matrix",
         "marker": {
          "color": "red"
         },
         "mode": "markers",
         "name": "Adjacency Matrix (Scatter)",
         "type": "scatter",
         "x": [
          25,
          625,
          1200,
          1200,
          2500,
          5625,
          10000
         ],
         "y": [
          2e-06,
          1.6e-05,
          3.2e-05,
          3.2e-05,
          6.5e-05,
          0.00014,
          0.0003
         ]
        },
        {
         "hovertemplate": "Total Cells: %{x}<br>Average Runtime (s): %{y:.2e}",
         "legendgroup": "Adjacency Matrix",
         "line": {
          "color": "red",
          "dash": "dash"
         },
         "mode": "lines",
         "name": "Adjacency Matrix (Line)",
         "type": "scatter",
         "x": [
          25,
          625,
          1200,
          1200,
          2500,
          5625,
          10000
         ],
         "y": [
          2e-06,
          1.6e-05,
          3.2e-05,
          3.2e-05,
          6.5e-05,
          0.00014,
          0.0003
         ]
        }
       ],
       "layout": {
        "autosize": true,
        "legend": {
         "borderwidth": 1,
         "font": {
          "size": 14
         },
         "itemclick": "toggleothers",
         "itemsizing": "constant",
         "itemwidth": 60,
         "title": {
          "text": "Data Structure"
         }
        },
        "template": {
         "data": {
          "bar": [
           {
            "error_x": {
             "color": "#2a3f5f"
            },
            "error_y": {
             "color": "#2a3f5f"
            },
            "marker": {
             "line": {
              "color": "#E5ECF6",
              "width": 0.5
             },
             "pattern": {
              "fillmode": "overlay",
              "size": 10,
              "solidity": 0.2
             }
            },
            "type": "bar"
           }
          ],
          "barpolar": [
           {
            "marker": {
             "line": {
              "color": "#E5ECF6",
              "width": 0.5
             },
             "pattern": {
              "fillmode": "overlay",
              "size": 10,
              "solidity": 0.2
             }
            },
            "type": "barpolar"
           }
          ],
          "carpet": [
           {
            "aaxis": {
             "endlinecolor": "#2a3f5f",
             "gridcolor": "white",
             "linecolor": "white",
             "minorgridcolor": "white",
             "startlinecolor": "#2a3f5f"
            },
            "baxis": {
             "endlinecolor": "#2a3f5f",
             "gridcolor": "white",
             "linecolor": "white",
             "minorgridcolor": "white",
             "startlinecolor": "#2a3f5f"
            },
            "type": "carpet"
           }
          ],
          "choropleth": [
           {
            "colorbar": {
             "outlinewidth": 0,
             "ticks": ""
            },
            "type": "choropleth"
           }
          ],
          "contour": [
           {
            "colorbar": {
             "outlinewidth": 0,
             "ticks": ""
            },
            "colorscale": [
             [
              0,
              "#0d0887"
             ],
             [
              0.1111111111111111,
              "#46039f"
             ],
             [
              0.2222222222222222,
              "#7201a8"
             ],
             [
              0.3333333333333333,
              "#9c179e"
             ],
             [
              0.4444444444444444,
              "#bd3786"
             ],
             [
              0.5555555555555556,
              "#d8576b"
             ],
             [
              0.6666666666666666,
              "#ed7953"
             ],
             [
              0.7777777777777778,
              "#fb9f3a"
             ],
             [
              0.8888888888888888,
              "#fdca26"
             ],
             [
              1,
              "#f0f921"
             ]
            ],
            "type": "contour"
           }
          ],
          "contourcarpet": [
           {
            "colorbar": {
             "outlinewidth": 0,
             "ticks": ""
            },
            "type": "contourcarpet"
           }
          ],
          "heatmap": [
           {
            "colorbar": {
             "outlinewidth": 0,
             "ticks": ""
            },
            "colorscale": [
             [
              0,
              "#0d0887"
             ],
             [
              0.1111111111111111,
              "#46039f"
             ],
             [
              0.2222222222222222,
              "#7201a8"
             ],
             [
              0.3333333333333333,
              "#9c179e"
             ],
             [
              0.4444444444444444,
              "#bd3786"
             ],
             [
              0.5555555555555556,
              "#d8576b"
             ],
             [
              0.6666666666666666,
              "#ed7953"
             ],
             [
              0.7777777777777778,
              "#fb9f3a"
             ],
             [
              0.8888888888888888,
              "#fdca26"
             ],
             [
              1,
              "#f0f921"
             ]
            ],
            "type": "heatmap"
           }
          ],
          "heatmapgl": [
           {
            "colorbar": {
             "outlinewidth": 0,
             "ticks": ""
            },
            "colorscale": [
             [
              0,
              "#0d0887"
             ],
             [
              0.1111111111111111,
              "#46039f"
             ],
             [
              0.2222222222222222,
              "#7201a8"
             ],
             [
              0.3333333333333333,
              "#9c179e"
             ],
             [
              0.4444444444444444,
              "#bd3786"
             ],
             [
              0.5555555555555556,
              "#d8576b"
             ],
             [
              0.6666666666666666,
              "#ed7953"
             ],
             [
              0.7777777777777778,
              "#fb9f3a"
             ],
             [
              0.8888888888888888,
              "#fdca26"
             ],
             [
              1,
              "#f0f921"
             ]
            ],
            "type": "heatmapgl"
           }
          ],
          "histogram": [
           {
            "marker": {
             "pattern": {
              "fillmode": "overlay",
              "size": 10,
              "solidity": 0.2
             }
            },
            "type": "histogram"
           }
          ],
          "histogram2d": [
           {
            "colorbar": {
             "outlinewidth": 0,
             "ticks": ""
            },
            "colorscale": [
             [
              0,
              "#0d0887"
             ],
             [
              0.1111111111111111,
              "#46039f"
             ],
             [
              0.2222222222222222,
              "#7201a8"
             ],
             [
              0.3333333333333333,
              "#9c179e"
             ],
             [
              0.4444444444444444,
              "#bd3786"
             ],
             [
              0.5555555555555556,
              "#d8576b"
             ],
             [
              0.6666666666666666,
              "#ed7953"
             ],
             [
              0.7777777777777778,
              "#fb9f3a"
             ],
             [
              0.8888888888888888,
              "#fdca26"
             ],
             [
              1,
              "#f0f921"
             ]
            ],
            "type": "histogram2d"
           }
          ],
          "histogram2dcontour": [
           {
            "colorbar": {
             "outlinewidth": 0,
             "ticks": ""
            },
            "colorscale": [
             [
              0,
              "#0d0887"
             ],
             [
              0.1111111111111111,
              "#46039f"
             ],
             [
              0.2222222222222222,
              "#7201a8"
             ],
             [
              0.3333333333333333,
              "#9c179e"
             ],
             [
              0.4444444444444444,
              "#bd3786"
             ],
             [
              0.5555555555555556,
              "#d8576b"
             ],
             [
              0.6666666666666666,
              "#ed7953"
             ],
             [
              0.7777777777777778,
              "#fb9f3a"
             ],
             [
              0.8888888888888888,
              "#fdca26"
             ],
             [
              1,
              "#f0f921"
             ]
            ],
            "type": "histogram2dcontour"
           }
          ],
          "mesh3d": [
           {
            "colorbar": {
             "outlinewidth": 0,
             "ticks": ""
            },
            "type": "mesh3d"
           }
          ],
          "parcoords": [
           {
            "line": {
             "colorbar": {
              "outlinewidth": 0,
              "ticks": ""
             }
            },
            "type": "parcoords"
           }
          ],
          "pie": [
           {
            "automargin": true,
            "type": "pie"
           }
          ],
          "scatter": [
           {
            "fillpattern": {
             "fillmode": "overlay",
             "size": 10,
             "solidity": 0.2
            },
            "type": "scatter"
           }
          ],
          "scatter3d": [
           {
            "line": {
             "colorbar": {
              "outlinewidth": 0,
              "ticks": ""
             }
            },
            "marker": {
             "colorbar": {
              "outlinewidth": 0,
              "ticks": ""
             }
            },
            "type": "scatter3d"
           }
          ],
          "scattercarpet": [
           {
            "marker": {
             "colorbar": {
              "outlinewidth": 0,
              "ticks": ""
             }
            },
            "type": "scattercarpet"
           }
          ],
          "scattergeo": [
           {
            "marker": {
             "colorbar": {
              "outlinewidth": 0,
              "ticks": ""
             }
            },
            "type": "scattergeo"
           }
          ],
          "scattergl": [
           {
            "marker": {
             "colorbar": {
              "outlinewidth": 0,
              "ticks": ""
             }
            },
            "type": "scattergl"
           }
          ],
          "scattermapbox": [
           {
            "marker": {
             "colorbar": {
              "outlinewidth": 0,
              "ticks": ""
             }
            },
            "type": "scattermapbox"
           }
          ],
          "scatterpolar": [
           {
            "marker": {
             "colorbar": {
              "outlinewidth": 0,
              "ticks": ""
             }
            },
            "type": "scatterpolar"
           }
          ],
          "scatterpolargl": [
           {
            "marker": {
             "colorbar": {
              "outlinewidth": 0,
              "ticks": ""
             }
            },
            "type": "scatterpolargl"
           }
          ],
          "scatterternary": [
           {
            "marker": {
             "colorbar": {
              "outlinewidth": 0,
              "ticks": ""
             }
            },
            "type": "scatterternary"
           }
          ],
          "surface": [
           {
            "colorbar": {
             "outlinewidth": 0,
             "ticks": ""
            },
            "colorscale": [
             [
              0,
              "#0d0887"
             ],
             [
              0.1111111111111111,
              "#46039f"
             ],
             [
              0.2222222222222222,
              "#7201a8"
             ],
             [
              0.3333333333333333,
              "#9c179e"
             ],
             [
              0.4444444444444444,
              "#bd3786"
             ],
             [
              0.5555555555555556,
              "#d8576b"
             ],
             [
              0.6666666666666666,
              "#ed7953"
             ],
             [
              0.7777777777777778,
              "#fb9f3a"
             ],
             [
              0.8888888888888888,
              "#fdca26"
             ],
             [
              1,
              "#f0f921"
             ]
            ],
            "type": "surface"
           }
          ],
          "table": [
           {
            "cells": {
             "fill": {
              "color": "#EBF0F8"
             },
             "line": {
              "color": "white"
             }
            },
            "header": {
             "fill": {
              "color": "#C8D4E3"
             },
             "line": {
              "color": "white"
             }
            },
            "type": "table"
           }
          ]
         },
         "layout": {
          "annotationdefaults": {
           "arrowcolor": "#2a3f5f",
           "arrowhead": 0,
           "arrowwidth": 1
          },
          "autotypenumbers": "strict",
          "coloraxis": {
           "colorbar": {
            "outlinewidth": 0,
            "ticks": ""
           }
          },
          "colorscale": {
           "diverging": [
            [
             0,
             "#8e0152"
            ],
            [
             0.1,
             "#c51b7d"
            ],
            [
             0.2,
             "#de77ae"
            ],
            [
             0.3,
             "#f1b6da"
            ],
            [
             0.4,
             "#fde0ef"
            ],
            [
             0.5,
             "#f7f7f7"
            ],
            [
             0.6,
             "#e6f5d0"
            ],
            [
             0.7,
             "#b8e186"
            ],
            [
             0.8,
             "#7fbc41"
            ],
            [
             0.9,
             "#4d9221"
            ],
            [
             1,
             "#276419"
            ]
           ],
           "sequential": [
            [
             0,
             "#0d0887"
            ],
            [
             0.1111111111111111,
             "#46039f"
            ],
            [
             0.2222222222222222,
             "#7201a8"
            ],
            [
             0.3333333333333333,
             "#9c179e"
            ],
            [
             0.4444444444444444,
             "#bd3786"
            ],
            [
             0.5555555555555556,
             "#d8576b"
            ],
            [
             0.6666666666666666,
             "#ed7953"
            ],
            [
             0.7777777777777778,
             "#fb9f3a"
            ],
            [
             0.8888888888888888,
             "#fdca26"
            ],
            [
             1,
             "#f0f921"
            ]
           ],
           "sequentialminus": [
            [
             0,
             "#0d0887"
            ],
            [
             0.1111111111111111,
             "#46039f"
            ],
            [
             0.2222222222222222,
             "#7201a8"
            ],
            [
             0.3333333333333333,
             "#9c179e"
            ],
            [
             0.4444444444444444,
             "#bd3786"
            ],
            [
             0.5555555555555556,
             "#d8576b"
            ],
            [
             0.6666666666666666,
             "#ed7953"
            ],
            [
             0.7777777777777778,
             "#fb9f3a"
            ],
            [
             0.8888888888888888,
             "#fdca26"
            ],
            [
             1,
             "#f0f921"
            ]
           ]
          },
          "colorway": [
           "#636efa",
           "#EF553B",
           "#00cc96",
           "#ab63fa",
           "#FFA15A",
           "#19d3f3",
           "#FF6692",
           "#B6E880",
           "#FF97FF",
           "#FECB52"
          ],
          "font": {
           "color": "#2a3f5f"
          },
          "geo": {
           "bgcolor": "white",
           "lakecolor": "white",
           "landcolor": "#E5ECF6",
           "showlakes": true,
           "showland": true,
           "subunitcolor": "white"
          },
          "hoverlabel": {
           "align": "left"
          },
          "hovermode": "closest",
          "mapbox": {
           "style": "light"
          },
          "paper_bgcolor": "white",
          "plot_bgcolor": "#E5ECF6",
          "polar": {
           "angularaxis": {
            "gridcolor": "white",
            "linecolor": "white",
            "ticks": ""
           },
           "bgcolor": "#E5ECF6",
           "radialaxis": {
            "gridcolor": "white",
            "linecolor": "white",
            "ticks": ""
           }
          },
          "scene": {
           "xaxis": {
            "backgroundcolor": "#E5ECF6",
            "gridcolor": "white",
            "gridwidth": 2,
            "linecolor": "white",
            "showbackground": true,
            "ticks": "",
            "zerolinecolor": "white"
           },
           "yaxis": {
            "backgroundcolor": "#E5ECF6",
            "gridcolor": "white",
            "gridwidth": 2,
            "linecolor": "white",
            "showbackground": true,
            "ticks": "",
            "zerolinecolor": "white"
           },
           "zaxis": {
            "backgroundcolor": "#E5ECF6",
            "gridcolor": "white",
            "gridwidth": 2,
            "linecolor": "white",
            "showbackground": true,
            "ticks": "",
            "zerolinecolor": "white"
           }
          },
          "shapedefaults": {
           "line": {
            "color": "#2a3f5f"
           }
          },
          "ternary": {
           "aaxis": {
            "gridcolor": "white",
            "linecolor": "white",
            "ticks": ""
           },
           "baxis": {
            "gridcolor": "white",
            "linecolor": "white",
            "ticks": ""
           },
           "bgcolor": "#E5ECF6",
           "caxis": {
            "gridcolor": "white",
            "linecolor": "white",
            "ticks": ""
           }
          },
          "title": {
           "x": 0.05
          },
          "xaxis": {
           "automargin": true,
           "gridcolor": "white",
           "linecolor": "white",
           "ticks": "",
           "title": {
            "standoff": 15
           },
           "zerolinecolor": "white",
           "zerolinewidth": 2
          },
          "yaxis": {
           "automargin": true,
           "gridcolor": "white",
           "linecolor": "white",
           "ticks": "",
           "title": {
            "standoff": 15
           },
           "zerolinecolor": "white",
           "zerolinewidth": 2
          }
         }
        },
        "xaxis": {
         "autorange": true,
         "range": [
          -1358.7574850299402,
          11383.75748502994
         ],
         "title": {
          "text": "Total Cells"
         },
         "type": "linear"
        },
        "yaxis": {
         "range": [
          -6.1,
          -3
         ],
         "tickformat": ".2e",
         "tickvals": [
          1e-07,
          1e-06,
          1e-05,
          0.0001,
          0.001
         ],
         "title": {
          "text": "Average Runtime (s)"
         },
         "type": "log"
        }
       }
      },
      "image/png": "[encoded data removed]",
      "text/html": [
       "<div>                            <div id=\"037e1e42-d4ad-453a-832b-a81704c30e6c\" class=\"plotly-graph-div\" style=\"height:525px; width:100%;\"></div>            <script type=\"text/javascript\">                require([\"plotly\"], function(Plotly) {                    window.PLOTLYENV=window.PLOTLYENV || {};                                    if (document.getElementById(\"037e1e42-d4ad-453a-832b-a81704c30e6c\")) {                    Plotly.newPlot(                        \"037e1e42-d4ad-453a-832b-a81704c30e6c\",                        [{\"hovertemplate\":\"Total Cells: %{x}<br>Average Runtime (s): %{y:.2e}\",\"legendgroup\":\"Array\",\"marker\":{\"color\":\"blue\"},\"mode\":\"markers\",\"name\":\"Array (Scatter)\",\"x\":[25,625,1200,1200,2500,5625,10000],\"y\":[1e-06,1e-06,1e-06,1e-06,1e-06,1e-06,1e-06],\"type\":\"scatter\"},{\"hovertemplate\":\"Total Cells: %{x}<br>Average Runtime (s): %{y:.2e}\",\"legendgroup\":\"Array\",\"line\":{\"color\":\"blue\",\"dash\":\"solid\"},\"mode\":\"lines\",\"name\":\"Array (Line)\",\"x\":[25,625,1200,1200,2500,5625,10000],\"y\":[1e-06,1e-06,1e-06,1e-06,1e-06,1e-06,1e-06],\"type\":\"scatter\"},{\"hovertemplate\":\"Total Cells: %{x}<br>Average Runtime (s): %{y:.2e}\",\"legendgroup\":\"Adjacency List\",\"marker\":{\"color\":\"green\"},\"mode\":\"markers\",\"name\":\"Adjacency List (Scatter)\",\"x\":[25,625,1200,1200,2500,5625,10000],\"y\":[1e-06,1e-06,1e-06,1e-06,1e-06,1e-06,1e-06],\"type\":\"scatter\"},{\"hovertemplate\":\"Total Cells: %{x}<br>Average Runtime (s): %{y:.2e}\",\"legendgroup\":\"Adjacency List\",\"line\":{\"color\":\"green\",\"dash\":\"dot\"},\"mode\":\"lines\",\"name\":\"Adjacency List (Line)\",\"x\":[25,625,1200,1200,2500,5625,10000],\"y\":[1e-06,1e-06,1e-06,1e-06,1e-06,1e-06,1e-06],\"type\":\"scatter\"},{\"hovertemplate\":\"Total Cells: %{x}<br>Average Runtime (s): %{y:.2e}\",\"legendgroup\":\"Adjacency Matrix\",\"marker\":{\"color\":\"red\"},\"mode\":\"markers\",\"name\":\"Adjacency Matrix (Scatter)\",\"x\":[25,625,1200,1200,2500,5625,10000],\"y\":[2e-06,1.6e-05,3.2e-05,3.2e-05,6.5e-05,0.00014,0.0003],\"type\":\"scatter\"},{\"hovertemplate\":\"Total Cells: %{x}<br>Average Runtime (s): %{y:.2e}\",\"legendgroup\":\"Adjacency Matrix\",\"line\":{\"color\":\"red\",\"dash\":\"dash\"},\"mode\":\"lines\",\"name\":\"Adjacency Matrix (Line)\",\"x\":[25,625,1200,1200,2500,5625,10000],\"y\":[2e-06,1.6e-05,3.2e-05,3.2e-05,6.5e-05,0.00014,0.0003],\"type\":\"scatter\"}],                        {\"template\":{\"data\":{\"histogram2dcontour\":[{\"type\":\"histogram2dcontour\",\"colorbar\":{\"outlinewidth\":0,\"ticks\":\"\"},\"colorscale\":[[0.0,\"#0d0887\"],[0.1111111111111111,\"#46039f\"],[0.2222222222222222,\"#7201a8\"],[0.3333333333333333,\"#9c179e\"],[0.4444444444444444,\"#bd3786\"],[0.5555555555555556,\"#d8576b\"],[0.6666666666666666,\"#ed7953\"],[0.7777777777777778,\"#fb9f3a\"],[0.8888888888888888,\"#fdca26\"],[1.0,\"#f0f921\"]]}],\"choropleth\":[{\"type\":\"choropleth\",\"colorbar\":{\"outlinewidth\":0,\"ticks\":\"\"}}],\"histogram2d\":[{\"type\":\"histogram2d\",\"colorbar\":{\"outlinewidth\":0,\"ticks\":\"\"},\"colorscale\":[[0.0,\"#0d0887\"],[0.1111111111111111,\"#46039f\"],[0.2222222222222222,\"#7201a8\"],[0.3333333333333333,\"#9c179e\"],[0.4444444444444444,\"#bd3786\"],[0.5555555555555556,\"#d8576b\"],[0.6666666666666666,\"#ed7953\"],[0.7777777777777778,\"#fb9f3a\"],[0.8888888888888888,\"#fdca26\"],[1.0,\"#f0f921\"]]}],\"heatmap\":[{\"type\":\"heatmap\",\"colorbar\":{\"outlinewidth\":0,\"ticks\":\"\"},\"colorscale\":[[0.0,\"#0d0887\"],[0.1111111111111111,\"#46039f\"],[0.2222222222222222,\"#7201a8\"],[0.3333333333333333,\"#9c179e\"],[0.4444444444444444,\"#bd3786\"],[0.5555555555555556,\"#d8576b\"],[0.6666666666666666,\"#ed7953\"],[0.7777777777777778,\"#fb9f3a\"],[0.8888888888888888,\"#fdca26\"],[1.0,\"#f0f921\"]]}],\"heatmapgl\":[{\"type\":\"heatmapgl\",\"colorbar\":{\"outlinewidth\":0,\"ticks\":\"\"},\"colorscale\":[[0.0,\"#0d0887\"],[0.1111111111111111,\"#46039f\"],[0.2222222222222222,\"#7201a8\"],[0.3333333333333333,\"#9c179e\"],[0.4444444444444444,\"#bd3786\"],[0.5555555555555556,\"#d8576b\"],[0.6666666666666666,\"#ed7953\"],[0.7777777777777778,\"#fb9f3a\"],[0.8888888888888888,\"#fdca26\"],[1.0,\"#f0f921\"]]}],\"contourcarpet\":[{\"type\":\"contourcarpet\",\"colorbar\":{\"outlinewidth\":0,\"ticks\":\"\"}}],\"contour\":[{\"type\":\"contour\",\"colorbar\":{\"outlinewidth\":0,\"ticks\":\"\"},\"colorscale\":[[0.0,\"#0d0887\"],[0.1111111111111111,\"#46039f\"],[0.2222222222222222,\"#7201a8\"],[0.3333333333333333,\"#9c179e\"],[0.4444444444444444,\"#bd3786\"],[0.5555555555555556,\"#d8576b\"],[0.6666666666666666,\"#ed7953\"],[0.7777777777777778,\"#fb9f3a\"],[0.8888888888888888,\"#fdca26\"],[1.0,\"#f0f921\"]]}],\"surface\":[{\"type\":\"surface\",\"colorbar\":{\"outlinewidth\":0,\"ticks\":\"\"},\"colorscale\":[[0.0,\"#0d0887\"],[0.1111111111111111,\"#46039f\"],[0.2222222222222222,\"#7201a8\"],[0.3333333333333333,\"#9c179e\"],[0.4444444444444444,\"#bd3786\"],[0.5555555555555556,\"#d8576b\"],[0.6666666666666666,\"#ed7953\"],[0.7777777777777778,\"#fb9f3a\"],[0.8888888888888888,\"#fdca26\"],[1.0,\"#f0f921\"]]}],\"mesh3d\":[{\"type\":\"mesh3d\",\"colorbar\":{\"outlinewidth\":0,\"ticks\":\"\"}}],\"scatter\":[{\"fillpattern\":{\"fillmode\":\"overlay\",\"size\":10,\"solidity\":0.2},\"type\":\"scatter\"}],\"parcoords\":[{\"type\":\"parcoords\",\"line\":{\"colorbar\":{\"outlinewidth\":0,\"ticks\":\"\"}}}],\"scatterpolargl\":[{\"type\":\"scatterpolargl\",\"marker\":{\"colorbar\":{\"outlinewidth\":0,\"ticks\":\"\"}}}],\"bar\":[{\"error_x\":{\"color\":\"#2a3f5f\"},\"error_y\":{\"color\":\"#2a3f5f\"},\"marker\":{\"line\":{\"color\":\"#E5ECF6\",\"width\":0.5},\"pattern\":{\"fillmode\":\"overlay\",\"size\":10,\"solidity\":0.2}},\"type\":\"bar\"}],\"scattergeo\":[{\"type\":\"scattergeo\",\"marker\":{\"colorbar\":{\"outlinewidth\":0,\"ticks\":\"\"}}}],\"scatterpolar\":[{\"type\":\"scatterpolar\",\"marker\":{\"colorbar\":{\"outlinewidth\":0,\"ticks\":\"\"}}}],\"histogram\":[{\"marker\":{\"pattern\":{\"fillmode\":\"overlay\",\"size\":10,\"solidity\":0.2}},\"type\":\"histogram\"}],\"scattergl\":[{\"type\":\"scattergl\",\"marker\":{\"colorbar\":{\"outlinewidth\":0,\"ticks\":\"\"}}}],\"scatter3d\":[{\"type\":\"scatter3d\",\"line\":{\"colorbar\":{\"outlinewidth\":0,\"ticks\":\"\"}},\"marker\":{\"colorbar\":{\"outlinewidth\":0,\"ticks\":\"\"}}}],\"scattermapbox\":[{\"type\":\"scattermapbox\",\"marker\":{\"colorbar\":{\"outlinewidth\":0,\"ticks\":\"\"}}}],\"scatterternary\":[{\"type\":\"scatterternary\",\"marker\":{\"colorbar\":{\"outlinewidth\":0,\"ticks\":\"\"}}}],\"scattercarpet\":[{\"type\":\"scattercarpet\",\"marker\":{\"colorbar\":{\"outlinewidth\":0,\"ticks\":\"\"}}}],\"carpet\":[{\"aaxis\":{\"endlinecolor\":\"#2a3f5f\",\"gridcolor\":\"white\",\"linecolor\":\"white\",\"minorgridcolor\":\"white\",\"startlinecolor\":\"#2a3f5f\"},\"baxis\":{\"endlinecolor\":\"#2a3f5f\",\"gridcolor\":\"white\",\"linecolor\":\"white\",\"minorgridcolor\":\"white\",\"startlinecolor\":\"#2a3f5f\"},\"type\":\"carpet\"}],\"table\":[{\"cells\":{\"fill\":{\"color\":\"#EBF0F8\"},\"line\":{\"color\":\"white\"}},\"header\":{\"fill\":{\"color\":\"#C8D4E3\"},\"line\":{\"color\":\"white\"}},\"type\":\"table\"}],\"barpolar\":[{\"marker\":{\"line\":{\"color\":\"#E5ECF6\",\"width\":0.5},\"pattern\":{\"fillmode\":\"overlay\",\"size\":10,\"solidity\":0.2}},\"type\":\"barpolar\"}],\"pie\":[{\"automargin\":true,\"type\":\"pie\"}]},\"layout\":{\"autotypenumbers\":\"strict\",\"colorway\":[\"#636efa\",\"#EF553B\",\"#00cc96\",\"#ab63fa\",\"#FFA15A\",\"#19d3f3\",\"#FF6692\",\"#B6E880\",\"#FF97FF\",\"#FECB52\"],\"font\":{\"color\":\"#2a3f5f\"},\"hovermode\":\"closest\",\"hoverlabel\":{\"align\":\"left\"},\"paper_bgcolor\":\"white\",\"plot_bgcolor\":\"#E5ECF6\",\"polar\":{\"bgcolor\":\"#E5ECF6\",\"angularaxis\":{\"gridcolor\":\"white\",\"linecolor\":\"white\",\"ticks\":\"\"},\"radialaxis\":{\"gridcolor\":\"white\",\"linecolor\":\"white\",\"ticks\":\"\"}},\"ternary\":{\"bgcolor\":\"#E5ECF6\",\"aaxis\":{\"gridcolor\":\"white\",\"linecolor\":\"white\",\"ticks\":\"\"},\"baxis\":{\"gridcolor\":\"white\",\"linecolor\":\"white\",\"ticks\":\"\"},\"caxis\":{\"gridcolor\":\"white\",\"linecolor\":\"white\",\"ticks\":\"\"}},\"coloraxis\":{\"colorbar\":{\"outlinewidth\":0,\"ticks\":\"\"}},\"colorscale\":{\"sequential\":[[0.0,\"#0d0887\"],[0.1111111111111111,\"#46039f\"],[0.2222222222222222,\"#7201a8\"],[0.3333333333333333,\"#9c179e\"],[0.4444444444444444,\"#bd3786\"],[0.5555555555555556,\"#d8576b\"],[0.6666666666666666,\"#ed7953\"],[0.7777777777777778,\"#fb9f3a\"],[0.8888888888888888,\"#fdca26\"],[1.0,\"#f0f921\"]],\"sequentialminus\":[[0.0,\"#0d0887\"],[0.1111111111111111,\"#46039f\"],[0.2222222222222222,\"#7201a8\"],[0.3333333333333333,\"#9c179e\"],[0.4444444444444444,\"#bd3786\"],[0.5555555555555556,\"#d8576b\"],[0.6666666666666666,\"#ed7953\"],[0.7777777777777778,\"#fb9f3a\"],[0.8888888888888888,\"#fdca26\"],[1.0,\"#f0f921\"]],\"diverging\":[[0,\"#8e0152\"],[0.1,\"#c51b7d\"],[0.2,\"#de77ae\"],[0.3,\"#f1b6da\"],[0.4,\"#fde0ef\"],[0.5,\"#f7f7f7\"],[0.6,\"#e6f5d0\"],[0.7,\"#b8e186\"],[0.8,\"#7fbc41\"],[0.9,\"#4d9221\"],[1,\"#276419\"]]},\"xaxis\":{\"gridcolor\":\"white\",\"linecolor\":\"white\",\"ticks\":\"\",\"title\":{\"standoff\":15},\"zerolinecolor\":\"white\",\"automargin\":true,\"zerolinewidth\":2},\"yaxis\":{\"gridcolor\":\"white\",\"linecolor\":\"white\",\"ticks\":\"\",\"title\":{\"standoff\":15},\"zerolinecolor\":\"white\",\"automargin\":true,\"zerolinewidth\":2},\"scene\":{\"xaxis\":{\"backgroundcolor\":\"#E5ECF6\",\"gridcolor\":\"white\",\"linecolor\":\"white\",\"showbackground\":true,\"ticks\":\"\",\"zerolinecolor\":\"white\",\"gridwidth\":2},\"yaxis\":{\"backgroundcolor\":\"#E5ECF6\",\"gridcolor\":\"white\",\"linecolor\":\"white\",\"showbackground\":true,\"ticks\":\"\",\"zerolinecolor\":\"white\",\"gridwidth\":2},\"zaxis\":{\"backgroundcolor\":\"#E5ECF6\",\"gridcolor\":\"white\",\"linecolor\":\"white\",\"showbackground\":true,\"ticks\":\"\",\"zerolinecolor\":\"white\",\"gridwidth\":2}},\"shapedefaults\":{\"line\":{\"color\":\"#2a3f5f\"}},\"annotationdefaults\":{\"arrowcolor\":\"#2a3f5f\",\"arrowhead\":0,\"arrowwidth\":1},\"geo\":{\"bgcolor\":\"white\",\"landcolor\":\"#E5ECF6\",\"subunitcolor\":\"white\",\"showland\":true,\"showlakes\":true,\"lakecolor\":\"white\"},\"title\":{\"x\":0.05},\"mapbox\":{\"style\":\"light\"}}},\"yaxis\":{\"title\":{\"text\":\"Average Runtime (s)\"},\"type\":\"log\",\"tickformat\":\".2e\",\"tickvals\":[1e-07,1e-06,1e-05,0.0001,0.001],\"range\":[-6.1,-3]},\"legend\":{\"font\":{\"size\":14},\"title\":{\"text\":\"Data Structure\"},\"itemsizing\":\"constant\",\"itemwidth\":60,\"itemclick\":\"toggleothers\",\"borderwidth\":1},\"xaxis\":{\"title\":{\"text\":\"Total Cells\"}}},                        {\"responsive\": true}                    ).then(function(){\n",
       "                            \n",
       "var gd = document.getElementById('037e1e42-d4ad-453a-832b-a81704c30e6c');\n",
       "var x = new MutationObserver(function (mutations, observer) {{\n",
       "        var display = window.getComputedStyle(gd).display;\n",
       "        if (!display || display === 'none') {{\n",
       "            console.log([gd, 'removed!']);\n",
       "            Plotly.purge(gd);\n",
       "            observer.disconnect();\n",
       "        }}\n",
       "}});\n",
       "\n",
       "// Listen for the removal of the full notebook cells\n",
       "var notebookContainer = gd.closest('#notebook-container');\n",
       "if (notebookContainer) {{\n",
       "    x.observe(notebookContainer, {childList: true});\n",
       "}}\n",
       "\n",
       "// Listen for the clearing of the current output cell\n",
       "var outputEl = gd.closest('.output');\n",
       "if (outputEl) {{\n",
       "    x.observe(outputEl, {childList: true});\n",
       "}}\n",
       "\n",
       "                        })                };                });            </script>        </div>"
      ]
     },
     "metadata": {},
     "output_type": "display_data"
    }
   ],
   "source": [
    "import plotly.graph_objects as go\n",
    "\n",
    "# Create the scatter plot for Array\n",
    "array_scatter = go.Scatter(\n",
    "    x=arrayFunctionsDF['totalCells'],\n",
    "    y=arrayFunctionsDF['neighbours()'],\n",
    "    mode='markers',\n",
    "    marker=dict(color='blue'),\n",
    "    legendgroup='Array',\n",
    "    name='Array (Scatter)',\n",
    "    hovertemplate='Total Cells: %{x}<br>Average Runtime (s): %{y:.2e}'\n",
    ")\n",
    "\n",
    "# Create the line plot for Array\n",
    "array_line = go.Scatter(\n",
    "    x=arrayFunctionsDF['totalCells'],\n",
    "    y=arrayFunctionsDF['neighbours()'],\n",
    "    mode='lines',\n",
    "    line=dict(color='blue', dash='solid'),\n",
    "    legendgroup='Array',\n",
    "    name='Array (Line)',\n",
    "    hovertemplate='Total Cells: %{x}<br>Average Runtime (s): %{y:.2e}'\n",
    ")\n",
    "\n",
    "# Create the scatter plot for Adjacency List\n",
    "adjlist_scatter = go.Scatter(\n",
    "    x=adjListFunctionsDF['totalCells'],\n",
    "    y=adjListFunctionsDF['neighbours()'],\n",
    "    mode='markers',\n",
    "    marker=dict(color='green'),\n",
    "    legendgroup='Adjacency List',\n",
    "    name='Adjacency List (Scatter)',\n",
    "    hovertemplate='Total Cells: %{x}<br>Average Runtime (s): %{y:.2e}'\n",
    ")\n",
    "\n",
    "# Create the line plot for Adjacency List\n",
    "adjlist_line = go.Scatter(\n",
    "    x=adjListFunctionsDF['totalCells'],\n",
    "    y=adjListFunctionsDF['neighbours()'],\n",
    "    mode='lines',\n",
    "    line=dict(color='green', dash='dot'),\n",
    "    legendgroup='Adjacency List',\n",
    "    name='Adjacency List (Line)',\n",
    "    hovertemplate='Total Cells: %{x}<br>Average Runtime (s): %{y:.2e}'\n",
    ")\n",
    "\n",
    "# Create the scatter plot for Adjacency Matrix\n",
    "adjmat_scatter = go.Scatter(\n",
    "    x=adjMatFunctionsDF['totalCells'],\n",
    "    y=adjMatFunctionsDF['neighbours()'],\n",
    "    mode='markers',\n",
    "    marker=dict(color='red'),\n",
    "    legendgroup='Adjacency Matrix',\n",
    "    name='Adjacency Matrix (Scatter)',\n",
    "    hovertemplate='Total Cells: %{x}<br>Average Runtime (s): %{y:.2e}'\n",
    ")\n",
    "\n",
    "# Create the line plot for Adjacency Matrix\n",
    "adjmat_line = go.Scatter(\n",
    "    x=adjMatFunctionsDF['totalCells'],\n",
    "    y=adjMatFunctionsDF['neighbours()'],\n",
    "    mode='lines',\n",
    "    line=dict(color='red', dash='dash'),\n",
    "    legendgroup='Adjacency Matrix',\n",
    "    name='Adjacency Matrix (Line)',\n",
    "    hovertemplate='Total Cells: %{x}<br>Average Runtime (s): %{y:.2e}'\n",
    ")\n",
    "\n",
    "# Combine the scatter and line plots for all data structures\n",
    "fig_combine = go.Figure(data=[array_scatter, array_line, adjlist_scatter, adjlist_line, adjmat_scatter, adjmat_line])\n",
    "\n",
    "# Update the layout with logarithmic y-axis, scientific notation, and larger legend\n",
    "fig_combine.update_layout(\n",
    "    xaxis_title='Total Cells',\n",
    "    yaxis_title='Average Runtime (s)',\n",
    "    legend_title='Data Structure',\n",
    "    yaxis_type='log',\n",
    "    yaxis_tickformat='.2e',  # Display tick labels in scientific notation with 2 decimal places\n",
    "    yaxis_tickvals=[1e-7, 1e-6, 1e-5, 1e-4, 1e-3],  # Custom tick values\n",
    "    yaxis_range=[-6.1, -3],  # Set the y-axis range to accommodate the custom tick values\n",
    "    legend=dict(\n",
    "        font=dict(size=14),  # Increase the font size of the legend\n",
    "        itemsizing='constant',  # Keep the legend item sizes constant\n",
    "        itemwidth=60,  # Set a wider width for the legend items\n",
    "        itemclick='toggleothers',  # Allow clicking on legend items to toggle visibility\n",
    "        borderwidth=1  # Add a border around the legend\n",
    "    )\n",
    ")\n",
    "\n",
    "fig_combine.show()"
   ]
  },
  {
   "cell_type": "code",
   "execution_count": null,
   "id": "ae782fca-728e-4947-b303-db4e8ea04573",
   "metadata": {},
   "outputs": [],
   "source": []
  }
 ],
 "metadata": {
  "kernelspec": {
   "display_name": "Python 3 (ipykernel)",
   "language": "python",
   "name": "python3"
  },
  "language_info": {
   "codemirror_mode": {
    "name": "ipython",
    "version": 3
   },
   "file_extension": ".py",
   "mimetype": "text/x-python",
   "name": "python",
   "nbconvert_exporter": "python",
   "pygments_lexer": "ipython3",
   "version": "3.11.7"
  }
 },
 "nbformat": 4,
 "nbformat_minor": 5
}
